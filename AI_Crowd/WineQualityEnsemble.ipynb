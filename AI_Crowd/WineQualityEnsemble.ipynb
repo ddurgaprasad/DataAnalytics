{
  "nbformat": 4,
  "nbformat_minor": 0,
  "metadata": {
    "colab": {
      "name": "WineQualityEnsemble.ipynb",
      "provenance": [],
      "collapsed_sections": [],
      "toc_visible": true
    },
    "kernelspec": {
      "name": "python3",
      "display_name": "Python 3"
    }
  },
  "cells": [
    {
      "cell_type": "markdown",
      "metadata": {
        "id": "g1v1FSysORmW"
      },
      "source": [
        "**Installing Libraries**"
      ]
    },
    {
      "cell_type": "code",
      "metadata": {
        "id": "XmDV4L-MOI7O"
      },
      "source": [
        "import numpy as np\n",
        "import pandas as pd\n",
        "import matplotlib.pyplot as plt"
      ],
      "execution_count": 86,
      "outputs": []
    },
    {
      "cell_type": "markdown",
      "metadata": {
        "id": "L_7aMJA_Of39"
      },
      "source": [
        "**Importing the Dataset**"
      ]
    },
    {
      "cell_type": "code",
      "metadata": {
        "id": "raeX52l7Oe5K",
        "outputId": "c6d13620-bea7-4363-d736-2deb8ca542cc",
        "colab": {
          "base_uri": "https://localhost:8080/",
          "height": 191
        }
      },
      "source": [
        "data = pd.read_csv('train.csv' ,header=None)\n",
        "data.head()"
      ],
      "execution_count": 87,
      "outputs": [
        {
          "output_type": "execute_result",
          "data": {
            "text/html": [
              "<div>\n",
              "<style scoped>\n",
              "    .dataframe tbody tr th:only-of-type {\n",
              "        vertical-align: middle;\n",
              "    }\n",
              "\n",
              "    .dataframe tbody tr th {\n",
              "        vertical-align: top;\n",
              "    }\n",
              "\n",
              "    .dataframe thead th {\n",
              "        text-align: right;\n",
              "    }\n",
              "</style>\n",
              "<table border=\"1\" class=\"dataframe\">\n",
              "  <thead>\n",
              "    <tr style=\"text-align: right;\">\n",
              "      <th></th>\n",
              "      <th>0</th>\n",
              "      <th>1</th>\n",
              "      <th>2</th>\n",
              "      <th>3</th>\n",
              "      <th>4</th>\n",
              "      <th>5</th>\n",
              "      <th>6</th>\n",
              "      <th>7</th>\n",
              "      <th>8</th>\n",
              "      <th>9</th>\n",
              "      <th>10</th>\n",
              "      <th>11</th>\n",
              "    </tr>\n",
              "  </thead>\n",
              "  <tbody>\n",
              "    <tr>\n",
              "      <th>0</th>\n",
              "      <td>7.0</td>\n",
              "      <td>0.27</td>\n",
              "      <td>0.36</td>\n",
              "      <td>20.7</td>\n",
              "      <td>0.045</td>\n",
              "      <td>45.0</td>\n",
              "      <td>170.0</td>\n",
              "      <td>1.00100</td>\n",
              "      <td>3.00</td>\n",
              "      <td>0.45</td>\n",
              "      <td>8.8</td>\n",
              "      <td>6</td>\n",
              "    </tr>\n",
              "    <tr>\n",
              "      <th>1</th>\n",
              "      <td>8.4</td>\n",
              "      <td>0.40</td>\n",
              "      <td>0.70</td>\n",
              "      <td>13.1</td>\n",
              "      <td>0.042</td>\n",
              "      <td>29.0</td>\n",
              "      <td>197.0</td>\n",
              "      <td>0.99800</td>\n",
              "      <td>3.06</td>\n",
              "      <td>0.64</td>\n",
              "      <td>9.7</td>\n",
              "      <td>5</td>\n",
              "    </tr>\n",
              "    <tr>\n",
              "      <th>2</th>\n",
              "      <td>7.8</td>\n",
              "      <td>0.17</td>\n",
              "      <td>0.23</td>\n",
              "      <td>1.7</td>\n",
              "      <td>0.029</td>\n",
              "      <td>39.0</td>\n",
              "      <td>128.0</td>\n",
              "      <td>0.99272</td>\n",
              "      <td>3.37</td>\n",
              "      <td>0.41</td>\n",
              "      <td>10.7</td>\n",
              "      <td>7</td>\n",
              "    </tr>\n",
              "    <tr>\n",
              "      <th>3</th>\n",
              "      <td>6.2</td>\n",
              "      <td>0.18</td>\n",
              "      <td>0.49</td>\n",
              "      <td>4.5</td>\n",
              "      <td>0.047</td>\n",
              "      <td>17.0</td>\n",
              "      <td>90.0</td>\n",
              "      <td>0.99190</td>\n",
              "      <td>3.27</td>\n",
              "      <td>0.37</td>\n",
              "      <td>11.6</td>\n",
              "      <td>6</td>\n",
              "    </tr>\n",
              "    <tr>\n",
              "      <th>4</th>\n",
              "      <td>6.5</td>\n",
              "      <td>0.26</td>\n",
              "      <td>0.24</td>\n",
              "      <td>10.8</td>\n",
              "      <td>0.042</td>\n",
              "      <td>47.0</td>\n",
              "      <td>130.0</td>\n",
              "      <td>0.99600</td>\n",
              "      <td>3.08</td>\n",
              "      <td>0.40</td>\n",
              "      <td>10.1</td>\n",
              "      <td>6</td>\n",
              "    </tr>\n",
              "  </tbody>\n",
              "</table>\n",
              "</div>"
            ],
            "text/plain": [
              "    0     1     2     3      4     5      6        7     8     9     10  11\n",
              "0  7.0  0.27  0.36  20.7  0.045  45.0  170.0  1.00100  3.00  0.45   8.8   6\n",
              "1  8.4  0.40  0.70  13.1  0.042  29.0  197.0  0.99800  3.06  0.64   9.7   5\n",
              "2  7.8  0.17  0.23   1.7  0.029  39.0  128.0  0.99272  3.37  0.41  10.7   7\n",
              "3  6.2  0.18  0.49   4.5  0.047  17.0   90.0  0.99190  3.27  0.37  11.6   6\n",
              "4  6.5  0.26  0.24  10.8  0.042  47.0  130.0  0.99600  3.08  0.40  10.1   6"
            ]
          },
          "metadata": {
            "tags": []
          },
          "execution_count": 87
        }
      ]
    },
    {
      "cell_type": "code",
      "metadata": {
        "id": "tuDht_a3O575"
      },
      "source": [
        "data.columns=['fixed acidity', 'volatile acidity', 'citric acid', 'residual sugar',\n",
        "       'chlorides', 'free sulfur dioxide', 'total sulfur dioxide', 'density',\n",
        "       'pH', 'sulphates', 'alcohol', 'quality']"
      ],
      "execution_count": 88,
      "outputs": []
    },
    {
      "cell_type": "code",
      "metadata": {
        "id": "SidQdk5wO72i",
        "outputId": "3768d51b-85a7-446d-ee2d-c5d4ed424cb9",
        "colab": {
          "base_uri": "https://localhost:8080/",
          "height": 293
        }
      },
      "source": [
        "data.describe()"
      ],
      "execution_count": 89,
      "outputs": [
        {
          "output_type": "execute_result",
          "data": {
            "text/html": [
              "<div>\n",
              "<style scoped>\n",
              "    .dataframe tbody tr th:only-of-type {\n",
              "        vertical-align: middle;\n",
              "    }\n",
              "\n",
              "    .dataframe tbody tr th {\n",
              "        vertical-align: top;\n",
              "    }\n",
              "\n",
              "    .dataframe thead th {\n",
              "        text-align: right;\n",
              "    }\n",
              "</style>\n",
              "<table border=\"1\" class=\"dataframe\">\n",
              "  <thead>\n",
              "    <tr style=\"text-align: right;\">\n",
              "      <th></th>\n",
              "      <th>fixed acidity</th>\n",
              "      <th>volatile acidity</th>\n",
              "      <th>citric acid</th>\n",
              "      <th>residual sugar</th>\n",
              "      <th>chlorides</th>\n",
              "      <th>free sulfur dioxide</th>\n",
              "      <th>total sulfur dioxide</th>\n",
              "      <th>density</th>\n",
              "      <th>pH</th>\n",
              "      <th>sulphates</th>\n",
              "      <th>alcohol</th>\n",
              "      <th>quality</th>\n",
              "    </tr>\n",
              "  </thead>\n",
              "  <tbody>\n",
              "    <tr>\n",
              "      <th>count</th>\n",
              "      <td>3918.000000</td>\n",
              "      <td>3918.000000</td>\n",
              "      <td>3918.000000</td>\n",
              "      <td>3918.000000</td>\n",
              "      <td>3918.000000</td>\n",
              "      <td>3918.000000</td>\n",
              "      <td>3918.000000</td>\n",
              "      <td>3918.000000</td>\n",
              "      <td>3918.000000</td>\n",
              "      <td>3918.000000</td>\n",
              "      <td>3918.000000</td>\n",
              "      <td>3918.000000</td>\n",
              "    </tr>\n",
              "    <tr>\n",
              "      <th>mean</th>\n",
              "      <td>6.858435</td>\n",
              "      <td>0.278051</td>\n",
              "      <td>0.334160</td>\n",
              "      <td>6.442407</td>\n",
              "      <td>0.045539</td>\n",
              "      <td>35.222818</td>\n",
              "      <td>138.300664</td>\n",
              "      <td>0.994051</td>\n",
              "      <td>3.187157</td>\n",
              "      <td>0.489377</td>\n",
              "      <td>10.507517</td>\n",
              "      <td>5.876723</td>\n",
              "    </tr>\n",
              "    <tr>\n",
              "      <th>std</th>\n",
              "      <td>0.835202</td>\n",
              "      <td>0.099147</td>\n",
              "      <td>0.121689</td>\n",
              "      <td>5.098740</td>\n",
              "      <td>0.020888</td>\n",
              "      <td>16.537835</td>\n",
              "      <td>42.061782</td>\n",
              "      <td>0.003004</td>\n",
              "      <td>0.149727</td>\n",
              "      <td>0.113204</td>\n",
              "      <td>1.232936</td>\n",
              "      <td>0.888392</td>\n",
              "    </tr>\n",
              "    <tr>\n",
              "      <th>min</th>\n",
              "      <td>3.800000</td>\n",
              "      <td>0.080000</td>\n",
              "      <td>0.000000</td>\n",
              "      <td>0.600000</td>\n",
              "      <td>0.009000</td>\n",
              "      <td>2.000000</td>\n",
              "      <td>9.000000</td>\n",
              "      <td>0.987130</td>\n",
              "      <td>2.720000</td>\n",
              "      <td>0.220000</td>\n",
              "      <td>8.000000</td>\n",
              "      <td>3.000000</td>\n",
              "    </tr>\n",
              "    <tr>\n",
              "      <th>25%</th>\n",
              "      <td>6.300000</td>\n",
              "      <td>0.210000</td>\n",
              "      <td>0.270000</td>\n",
              "      <td>1.700000</td>\n",
              "      <td>0.036000</td>\n",
              "      <td>23.000000</td>\n",
              "      <td>109.000000</td>\n",
              "      <td>0.991753</td>\n",
              "      <td>3.090000</td>\n",
              "      <td>0.410000</td>\n",
              "      <td>9.500000</td>\n",
              "      <td>5.000000</td>\n",
              "    </tr>\n",
              "    <tr>\n",
              "      <th>50%</th>\n",
              "      <td>6.800000</td>\n",
              "      <td>0.260000</td>\n",
              "      <td>0.320000</td>\n",
              "      <td>5.275000</td>\n",
              "      <td>0.043000</td>\n",
              "      <td>34.000000</td>\n",
              "      <td>135.000000</td>\n",
              "      <td>0.993800</td>\n",
              "      <td>3.180000</td>\n",
              "      <td>0.470000</td>\n",
              "      <td>10.400000</td>\n",
              "      <td>6.000000</td>\n",
              "    </tr>\n",
              "    <tr>\n",
              "      <th>75%</th>\n",
              "      <td>7.300000</td>\n",
              "      <td>0.320000</td>\n",
              "      <td>0.390000</td>\n",
              "      <td>10.000000</td>\n",
              "      <td>0.050000</td>\n",
              "      <td>46.000000</td>\n",
              "      <td>167.000000</td>\n",
              "      <td>0.996200</td>\n",
              "      <td>3.280000</td>\n",
              "      <td>0.550000</td>\n",
              "      <td>11.400000</td>\n",
              "      <td>6.000000</td>\n",
              "    </tr>\n",
              "    <tr>\n",
              "      <th>max</th>\n",
              "      <td>14.200000</td>\n",
              "      <td>1.005000</td>\n",
              "      <td>1.660000</td>\n",
              "      <td>65.800000</td>\n",
              "      <td>0.346000</td>\n",
              "      <td>146.500000</td>\n",
              "      <td>366.500000</td>\n",
              "      <td>1.038980</td>\n",
              "      <td>3.820000</td>\n",
              "      <td>1.060000</td>\n",
              "      <td>14.200000</td>\n",
              "      <td>9.000000</td>\n",
              "    </tr>\n",
              "  </tbody>\n",
              "</table>\n",
              "</div>"
            ],
            "text/plain": [
              "       fixed acidity  volatile acidity  ...      alcohol      quality\n",
              "count    3918.000000       3918.000000  ...  3918.000000  3918.000000\n",
              "mean        6.858435          0.278051  ...    10.507517     5.876723\n",
              "std         0.835202          0.099147  ...     1.232936     0.888392\n",
              "min         3.800000          0.080000  ...     8.000000     3.000000\n",
              "25%         6.300000          0.210000  ...     9.500000     5.000000\n",
              "50%         6.800000          0.260000  ...    10.400000     6.000000\n",
              "75%         7.300000          0.320000  ...    11.400000     6.000000\n",
              "max        14.200000          1.005000  ...    14.200000     9.000000\n",
              "\n",
              "[8 rows x 12 columns]"
            ]
          },
          "metadata": {
            "tags": []
          },
          "execution_count": 89
        }
      ]
    },
    {
      "cell_type": "code",
      "metadata": {
        "id": "FWtm8MrLb1Yl",
        "outputId": "b7515234-ed03-4fe4-df99-8bf1885f6604",
        "colab": {
          "base_uri": "https://localhost:8080/"
        }
      },
      "source": [
        "data.info()"
      ],
      "execution_count": 90,
      "outputs": [
        {
          "output_type": "stream",
          "text": [
            "<class 'pandas.core.frame.DataFrame'>\n",
            "RangeIndex: 3918 entries, 0 to 3917\n",
            "Data columns (total 12 columns):\n",
            " #   Column                Non-Null Count  Dtype  \n",
            "---  ------                --------------  -----  \n",
            " 0   fixed acidity         3918 non-null   float64\n",
            " 1   volatile acidity      3918 non-null   float64\n",
            " 2   citric acid           3918 non-null   float64\n",
            " 3   residual sugar        3918 non-null   float64\n",
            " 4   chlorides             3918 non-null   float64\n",
            " 5   free sulfur dioxide   3918 non-null   float64\n",
            " 6   total sulfur dioxide  3918 non-null   float64\n",
            " 7   density               3918 non-null   float64\n",
            " 8   pH                    3918 non-null   float64\n",
            " 9   sulphates             3918 non-null   float64\n",
            " 10  alcohol               3918 non-null   float64\n",
            " 11  quality               3918 non-null   int64  \n",
            "dtypes: float64(11), int64(1)\n",
            "memory usage: 367.4 KB\n"
          ],
          "name": "stdout"
        }
      ]
    },
    {
      "cell_type": "code",
      "metadata": {
        "id": "j2cZ5b4PPGom",
        "outputId": "84ed02a7-3315-4cab-f125-07871c2d0912",
        "colab": {
          "base_uri": "https://localhost:8080/"
        }
      },
      "source": [
        "data.isnull().sum()"
      ],
      "execution_count": 91,
      "outputs": [
        {
          "output_type": "execute_result",
          "data": {
            "text/plain": [
              "fixed acidity           0\n",
              "volatile acidity        0\n",
              "citric acid             0\n",
              "residual sugar          0\n",
              "chlorides               0\n",
              "free sulfur dioxide     0\n",
              "total sulfur dioxide    0\n",
              "density                 0\n",
              "pH                      0\n",
              "sulphates               0\n",
              "alcohol                 0\n",
              "quality                 0\n",
              "dtype: int64"
            ]
          },
          "metadata": {
            "tags": []
          },
          "execution_count": 91
        }
      ]
    },
    {
      "cell_type": "markdown",
      "metadata": {
        "id": "DT9a4K4BkwQB"
      },
      "source": [
        "**Class imbalance**"
      ]
    },
    {
      "cell_type": "code",
      "metadata": {
        "id": "sV7S16lMPNbj",
        "outputId": "4e8fc2b9-985a-4ab4-f02c-7f1c0812d8dd",
        "colab": {
          "base_uri": "https://localhost:8080/"
        }
      },
      "source": [
        "data['quality'].value_counts()"
      ],
      "execution_count": 92,
      "outputs": [
        {
          "output_type": "execute_result",
          "data": {
            "text/plain": [
              "6    1749\n",
              "5    1171\n",
              "7     704\n",
              "8     142\n",
              "4     132\n",
              "3      16\n",
              "9       4\n",
              "Name: quality, dtype: int64"
            ]
          },
          "metadata": {
            "tags": []
          },
          "execution_count": 92
        }
      ]
    },
    {
      "cell_type": "markdown",
      "metadata": {
        "id": "NF8lRUyoPlb_"
      },
      "source": [
        "**Data Visualization**"
      ]
    },
    {
      "cell_type": "code",
      "metadata": {
        "id": "mJvgr2YhmM1g",
        "outputId": "535a19c1-403a-46f0-9310-518b7e75de9c",
        "colab": {
          "base_uri": "https://localhost:8080/",
          "height": 347
        }
      },
      "source": [
        "sns.countplot(data['quality'])"
      ],
      "execution_count": 93,
      "outputs": [
        {
          "output_type": "stream",
          "text": [
            "/usr/local/lib/python3.6/dist-packages/seaborn/_decorators.py:43: FutureWarning: Pass the following variable as a keyword arg: x. From version 0.12, the only valid positional argument will be `data`, and passing other arguments without an explicit keyword will result in an error or misinterpretation.\n",
            "  FutureWarning\n"
          ],
          "name": "stderr"
        },
        {
          "output_type": "execute_result",
          "data": {
            "text/plain": [
              "<matplotlib.axes._subplots.AxesSubplot at 0x7fef869d29e8>"
            ]
          },
          "metadata": {
            "tags": []
          },
          "execution_count": 93
        },
        {
          "output_type": "display_data",
          "data": {
            "image/png": "[encoded data removed]",
            "text/plain": [
              "<Figure size 432x288 with 1 Axes>"
            ]
          },
          "metadata": {
            "tags": [],
            "needs_background": "light"
          }
        }
      ]
    },
    {
      "cell_type": "markdown",
      "metadata": {
        "id": "sTS2dJ4DPrSU"
      },
      "source": [
        "**Bivariate Analysis**"
      ]
    },
    {
      "cell_type": "code",
      "metadata": {
        "id": "jrd0WLdQPaul",
        "outputId": "7f765abc-9347-49eb-934e-2cbc649ca0a9",
        "colab": {
          "base_uri": "https://localhost:8080/",
          "height": 311
        }
      },
      "source": [
        "# checking the variation of fixed acidity in the different qualities of wine\n",
        "\n",
        "plt.scatter(data['quality'], data['fixed acidity'], color = 'green')\n",
        "plt.title('relation of fixed acidity with wine')\n",
        "plt.xlabel('quality')\n",
        "plt.ylabel('fixed acidity')\n",
        "plt.legend()\n",
        "plt.show()"
      ],
      "execution_count": 94,
      "outputs": [
        {
          "output_type": "stream",
          "text": [
            "No handles with labels found to put in legend.\n"
          ],
          "name": "stderr"
        },
        {
          "output_type": "display_data",
          "data": {
            "image/png": "[encoded data removed]",
            "text/plain": [
              "<Figure size 432x288 with 1 Axes>"
            ]
          },
          "metadata": {
            "tags": [],
            "needs_background": "light"
          }
        }
      ]
    },
    {
      "cell_type": "code",
      "metadata": {
        "id": "VYlKkprMQzaT",
        "outputId": "dd412a74-8ae4-4b22-f15e-3e1fbbc56fe4",
        "colab": {
          "base_uri": "https://localhost:8080/",
          "height": 311
        }
      },
      "source": [
        "# checking the variation of fixed acidity in the different qualities of wine\n",
        "\n",
        "plt.bar(data['quality'], data['alcohol'], color = 'maroon')\n",
        "plt.title('relation of alcohol with wine')\n",
        "plt.xlabel('quality')\n",
        "plt.ylabel('alcohol')\n",
        "plt.legend()\n",
        "plt.show()"
      ],
      "execution_count": 95,
      "outputs": [
        {
          "output_type": "stream",
          "text": [
            "No handles with labels found to put in legend.\n"
          ],
          "name": "stderr"
        },
        {
          "output_type": "display_data",
          "data": {
            "image/png": "[encoded data removed]",
            "text/plain": [
              "<Figure size 432x288 with 1 Axes>"
            ]
          },
          "metadata": {
            "tags": [],
            "needs_background": "light"
          }
        }
      ]
    },
    {
      "cell_type": "code",
      "metadata": {
        "id": "uUscawRncSIy",
        "outputId": "dd499a48-334e-49d3-a406-5da24cf55582",
        "colab": {
          "base_uri": "https://localhost:8080/",
          "height": 403
        }
      },
      "source": [
        "# Composition of citric acid go higher as we go higher in the quality of the wine\n",
        "\n",
        "import seaborn as sns\n",
        "\n",
        "fig = plt.figure(figsize = (10,6))\n",
        "sns.barplot(x = 'quality', y = 'citric acid', data = data)\n",
        "\n"
      ],
      "execution_count": 96,
      "outputs": [
        {
          "output_type": "execute_result",
          "data": {
            "text/plain": [
              "<matplotlib.axes._subplots.AxesSubplot at 0x7fef7b2f8780>"
            ]
          },
          "metadata": {
            "tags": []
          },
          "execution_count": 96
        },
        {
          "output_type": "display_data",
          "data": {
            "image/png": "[encoded data removed]",
            "text/plain": [
              "<Figure size 720x432 with 1 Axes>"
            ]
          },
          "metadata": {
            "tags": [],
            "needs_background": "light"
          }
        }
      ]
    },
    {
      "cell_type": "code",
      "metadata": {
        "id": "-0tQJFcVcufI",
        "outputId": "4c867d4d-9796-42d6-b2f7-582f433b21cd",
        "colab": {
          "base_uri": "https://localhost:8080/",
          "height": 403
        }
      },
      "source": [
        "fig = plt.figure(figsize = (10,6))\n",
        "sns.barplot(x = 'quality', y = 'residual sugar', data = data)"
      ],
      "execution_count": 97,
      "outputs": [
        {
          "output_type": "execute_result",
          "data": {
            "text/plain": [
              "<matplotlib.axes._subplots.AxesSubplot at 0x7fef7d9b17b8>"
            ]
          },
          "metadata": {
            "tags": []
          },
          "execution_count": 97
        },
        {
          "output_type": "display_data",
          "data": {
            "image/png": "[encoded data removed]",
            "text/plain": [
              "<Figure size 720x432 with 1 Axes>"
            ]
          },
          "metadata": {
            "tags": [],
            "needs_background": "light"
          }
        }
      ]
    },
    {
      "cell_type": "code",
      "metadata": {
        "id": "gTKPr7cwc2W5",
        "outputId": "978c6211-6442-432e-cefd-44dd094fc872",
        "colab": {
          "base_uri": "https://localhost:8080/",
          "height": 403
        }
      },
      "source": [
        "#Composition of chloride also go down as we go higher in the quality of the wine\n",
        "\n",
        "fig = plt.figure(figsize = (10,6))\n",
        "sns.barplot(x = 'quality', y = 'chlorides', data = data)"
      ],
      "execution_count": 98,
      "outputs": [
        {
          "output_type": "execute_result",
          "data": {
            "text/plain": [
              "<matplotlib.axes._subplots.AxesSubplot at 0x7fef7d07dfd0>"
            ]
          },
          "metadata": {
            "tags": []
          },
          "execution_count": 98
        },
        {
          "output_type": "display_data",
          "data": {
            "image/png": "[encoded data removed]",
            "text/plain": [
              "<Figure size 720x432 with 1 Axes>"
            ]
          },
          "metadata": {
            "tags": [],
            "needs_background": "light"
          }
        }
      ]
    },
    {
      "cell_type": "code",
      "metadata": {
        "id": "2gxmC8J_dAuP",
        "outputId": "f1862a85-f0b3-45f6-fe64-ba24ddd6a64f",
        "colab": {
          "base_uri": "https://localhost:8080/",
          "height": 403
        }
      },
      "source": [
        "fig = plt.figure(figsize = (10,6))\n",
        "sns.barplot(x = 'quality', y = 'free sulfur dioxide', data = data)"
      ],
      "execution_count": 99,
      "outputs": [
        {
          "output_type": "execute_result",
          "data": {
            "text/plain": [
              "<matplotlib.axes._subplots.AxesSubplot at 0x7fef7ad85b00>"
            ]
          },
          "metadata": {
            "tags": []
          },
          "execution_count": 99
        },
        {
          "output_type": "display_data",
          "data": {
            "image/png": "[encoded data removed]",
            "text/plain": [
              "<Figure size 720x432 with 1 Axes>"
            ]
          },
          "metadata": {
            "tags": [],
            "needs_background": "light"
          }
        }
      ]
    },
    {
      "cell_type": "code",
      "metadata": {
        "id": "HSv6zwjBdQ7C",
        "outputId": "989ccbd8-2308-49b6-861e-3c1b5dccdc21",
        "colab": {
          "base_uri": "https://localhost:8080/",
          "height": 403
        }
      },
      "source": [
        "#Sulphates level goes higher with the quality of wine\n",
        "fig = plt.figure(figsize = (10,6))\n",
        "sns.barplot(x = 'quality', y = 'sulphates', data = data)"
      ],
      "execution_count": 100,
      "outputs": [
        {
          "output_type": "execute_result",
          "data": {
            "text/plain": [
              "<matplotlib.axes._subplots.AxesSubplot at 0x7fef7ad3f5c0>"
            ]
          },
          "metadata": {
            "tags": []
          },
          "execution_count": 100
        },
        {
          "output_type": "display_data",
          "data": {
            "image/png": "[encoded data removed]",
            "text/plain": [
              "<Figure size 720x432 with 1 Axes>"
            ]
          },
          "metadata": {
            "tags": [],
            "needs_background": "light"
          }
        }
      ]
    },
    {
      "cell_type": "code",
      "metadata": {
        "id": "20tzCWuAd0P7",
        "outputId": "aa1a6c73-157c-469b-8710-247cb66b6ba8",
        "colab": {
          "base_uri": "https://localhost:8080/",
          "height": 403
        }
      },
      "source": [
        "#Sulphates level goes higher with the quality of wine\n",
        "\n",
        "fig = plt.figure(figsize = (10,6))\n",
        "sns.barplot(x = 'quality', y = 'volatile acidity', data = data)"
      ],
      "execution_count": 101,
      "outputs": [
        {
          "output_type": "execute_result",
          "data": {
            "text/plain": [
              "<matplotlib.axes._subplots.AxesSubplot at 0x7fef7af7db38>"
            ]
          },
          "metadata": {
            "tags": []
          },
          "execution_count": 101
        },
        {
          "output_type": "display_data",
          "data": {
            "image/png": "[encoded data removed]",
            "text/plain": [
              "<Figure size 720x432 with 1 Axes>"
            ]
          },
          "metadata": {
            "tags": [],
            "needs_background": "light"
          }
        }
      ]
    },
    {
      "cell_type": "markdown",
      "metadata": {
        "id": "T1jjcN9ShcOh"
      },
      "source": [
        "As we can see that like the above two items do not have very strong relation to the dependent variable we have to showcase a correlation plot to check which of the items are more related to the dependent variable and which items are less related to the dependent variables."
      ]
    },
    {
      "cell_type": "code",
      "metadata": {
        "id": "ksM_G58cekXx",
        "outputId": "8e47c541-060d-4b38-8d7e-ab90d37fd182",
        "colab": {
          "base_uri": "https://localhost:8080/",
          "height": 587
        }
      },
      "source": [
        "\n",
        "f, ax = plt.subplots(figsize=(10, 8))\n",
        "corr = data.corr()\n",
        "sns.heatmap(corr, mask=np.zeros_like(corr, dtype=np.bool), cmap=sns.diverging_palette(220, 10, as_cmap=True),\n",
        "            square=True, ax=ax)"
      ],
      "execution_count": 102,
      "outputs": [
        {
          "output_type": "execute_result",
          "data": {
            "text/plain": [
              "<matplotlib.axes._subplots.AxesSubplot at 0x7fef7af38390>"
            ]
          },
          "metadata": {
            "tags": []
          },
          "execution_count": 102
        },
        {
          "output_type": "display_data",
          "data": {
            "image/png": "[encoded data removed]",
            "text/plain": [
              "<Figure size 720x576 with 2 Axes>"
            ]
          },
          "metadata": {
            "tags": [],
            "needs_background": "light"
          }
        }
      ]
    },
    {
      "cell_type": "markdown",
      "metadata": {
        "id": "JZ--oZc3Trtn"
      },
      "source": [
        "From the above correlation plot for the given dataset for wine quality prediction, we can easily see which items are related strongly with each other and which items are related weekly with each other.\n",
        "For Example, \n",
        "# The strongly correlated items are :\n",
        "\n",
        "1.fixed acidity and citric acid.\n",
        "2.free sulphur dioxide and total sulphor dioxide.\n",
        "3.fixed acidity and density.\n",
        "4. alcohol and quality.\n",
        "\n",
        "so, from above points there is a clear inference that alcohol is the most important characteristic to determine the quality of wine.\n",
        "\n",
        "# The weekly correlated items are :\n",
        "\n",
        "1.citric acid and volatile acidity.\n",
        "2.fixed acidity and ph.\n",
        "3.density and alcohol.\n",
        "\n",
        "These are some relations which do not depend on each other at all."
      ]
    },
    {
      "cell_type": "code",
      "metadata": {
        "id": "Zwz57vdrgG_Y"
      },
      "source": [
        "sns.pairplot(data)"
      ],
      "execution_count": null,
      "outputs": []
    },
    {
      "cell_type": "code",
      "metadata": {
        "id": "wQ--xfIUjfNX"
      },
      "source": [
        ""
      ],
      "execution_count": 103,
      "outputs": []
    },
    {
      "cell_type": "markdown",
      "metadata": {
        "id": "nZoQ5Ga_V_Nh"
      },
      "source": [
        "**Data pre-processing**\n",
        "\n",
        "\n",
        "1.   Loading\n",
        "2.   Normalizaiton\n",
        "1.   PCA\n",
        "2.   Train and Test split"
      ]
    },
    {
      "cell_type": "code",
      "metadata": {
        "id": "3aYoFf84dsXa",
        "outputId": "ff2468c6-38f7-4740-944f-b72a376fc1e9",
        "colab": {
          "base_uri": "https://localhost:8080/"
        }
      },
      "source": [
        "X=data.drop(columns=['quality'])\n",
        "y=data['quality'].values\n",
        "print(X)\n",
        "print(y)"
      ],
      "execution_count": 118,
      "outputs": [
        {
          "output_type": "stream",
          "text": [
            "      fixed acidity  volatile acidity  citric acid  ...    pH  sulphates  alcohol\n",
            "0               7.0              0.27         0.36  ...  3.00       0.45      8.8\n",
            "1               8.4              0.40         0.70  ...  3.06       0.64      9.7\n",
            "2               7.8              0.17         0.23  ...  3.37       0.41     10.7\n",
            "3               6.2              0.18         0.49  ...  3.27       0.37     11.6\n",
            "4               6.5              0.26         0.24  ...  3.08       0.40     10.1\n",
            "...             ...               ...          ...  ...   ...        ...      ...\n",
            "3913            6.4              0.18         0.32  ...  3.35       0.49      9.4\n",
            "3914            6.5              0.22         0.19  ...  3.05       0.50      9.5\n",
            "3915            5.4              0.29         0.47  ...  3.29       0.75     10.0\n",
            "3916            6.6              0.20         0.38  ...  3.32       0.56     11.0\n",
            "3917            7.1              0.28         0.26  ...  3.06       0.59     11.2\n",
            "\n",
            "[3918 rows x 11 columns]\n",
            "[6 5 7 ... 6 7 6]\n"
          ],
          "name": "stdout"
        }
      ]
    },
    {
      "cell_type": "code",
      "metadata": {
        "id": "wgBLZgXEeWre"
      },
      "source": [
        "# standard scaling \n",
        "from sklearn.preprocessing import StandardScaler\n",
        "sc = StandardScaler()\n",
        "X = sc.fit_transform(X)"
      ],
      "execution_count": 119,
      "outputs": []
    },
    {
      "cell_type": "code",
      "metadata": {
        "id": "IV_9HyGsekVv",
        "outputId": "53237949-440a-437b-e10b-2c35aa2b0d7c",
        "colab": {
          "base_uri": "https://localhost:8080/",
          "height": 298
        }
      },
      "source": [
        "from sklearn.decomposition import PCA\n",
        "pca=PCA(n_components=9)\n",
        "pca.fit(X)\n",
        "\n",
        "plt.plot(np.cumsum(pca.explained_variance_ratio_))\n",
        "plt.xlabel('number of components')\n",
        "plt.ylabel('cumulative explained variance');\n",
        "\n",
        "var=np.cumsum(np.round(pca.explained_variance_ratio_, decimals=3)*100)\n",
        "var"
      ],
      "execution_count": 106,
      "outputs": [
        {
          "output_type": "execute_result",
          "data": {
            "text/plain": [
              "array([29.3, 43.2, 54.3, 63.6, 72.6, 81.1, 87.8, 93.3, 97.1])"
            ]
          },
          "metadata": {
            "tags": []
          },
          "execution_count": 106
        },
        {
          "output_type": "display_data",
          "data": {
            "image/png": "[encoded data removed]",
            "text/plain": [
              "<Figure size 432x288 with 1 Axes>"
            ]
          },
          "metadata": {
            "tags": [],
            "needs_background": "light"
          }
        }
      ]
    },
    {
      "cell_type": "code",
      "metadata": {
        "id": "b_GmZkevjER0"
      },
      "source": [
        "from sklearn.decomposition import PCA\n",
        "pca = PCA()\n",
        "X_pca = pca.fit_transform(X)"
      ],
      "execution_count": 107,
      "outputs": []
    },
    {
      "cell_type": "code",
      "metadata": {
        "id": "Aqzccis8i2Vv"
      },
      "source": [
        "from sklearn.model_selection import train_test_split\n",
        "def TestTrainSplit(X,y):\n",
        "  X_train, X_test, y_train, y_test = train_test_split(X, y, test_size = 0.25, random_state = 2489)\n",
        "  return X_train, X_test, y_train, y_test "
      ],
      "execution_count": 108,
      "outputs": []
    },
    {
      "cell_type": "markdown",
      "metadata": {
        "id": "OmDEgjQSr9KW"
      },
      "source": [
        "# **SMOTE**"
      ]
    },
    {
      "cell_type": "code",
      "metadata": {
        "id": "JJqklyMRr-7-",
        "outputId": "8b8a171e-63bb-48b9-9a44-34a4532c74f5",
        "colab": {
          "base_uri": "https://localhost:8080/"
        }
      },
      "source": [
        "!pip install imbalanced-learn"
      ],
      "execution_count": 109,
      "outputs": [
        {
          "output_type": "stream",
          "text": [
            "Requirement already satisfied: imbalanced-learn in /usr/local/lib/python3.6/dist-packages (0.4.3)\n",
            "Requirement already satisfied: scipy>=0.13.3 in /usr/local/lib/python3.6/dist-packages (from imbalanced-learn) (1.4.1)\n",
            "Requirement already satisfied: scikit-learn>=0.20 in /usr/local/lib/python3.6/dist-packages (from imbalanced-learn) (0.22.2.post1)\n",
            "Requirement already satisfied: numpy>=1.8.2 in /usr/local/lib/python3.6/dist-packages (from imbalanced-learn) (1.18.5)\n",
            "Requirement already satisfied: joblib>=0.11 in /usr/local/lib/python3.6/dist-packages (from scikit-learn>=0.20->imbalanced-learn) (0.17.0)\n"
          ],
          "name": "stdout"
        }
      ]
    },
    {
      "cell_type": "code",
      "metadata": {
        "id": "CLIJHHnDsCJn",
        "outputId": "fe454581-a955-402a-9272-b3a52459cb33",
        "colab": {
          "base_uri": "https://localhost:8080/"
        }
      },
      "source": [
        "# check version number\n",
        "import imblearn\n",
        "print(imblearn.__version__)"
      ],
      "execution_count": 110,
      "outputs": [
        {
          "output_type": "stream",
          "text": [
            "0.4.3\n"
          ],
          "name": "stdout"
        }
      ]
    },
    {
      "cell_type": "code",
      "metadata": {
        "id": "1aTd7OxnsGch"
      },
      "source": [
        "from imblearn.over_sampling import SMOTE\n",
        "# transform the dataset\n",
        "oversample=SMOTE(kind='regular',k_neighbors=2)\n",
        "X_SMOTE, y_SMOTE = oversample.fit_resample(X, y)"
      ],
      "execution_count": null,
      "outputs": []
    },
    {
      "cell_type": "code",
      "metadata": {
        "id": "Akrn4Fk9tKmP",
        "outputId": "b6dc3d14-e9fa-4da9-c136-41c0931370aa",
        "colab": {
          "base_uri": "https://localhost:8080/"
        }
      },
      "source": [
        "from collections import Counter\n",
        "Counter(y_SMOTE)"
      ],
      "execution_count": 112,
      "outputs": [
        {
          "output_type": "execute_result",
          "data": {
            "text/plain": [
              "Counter({3: 1749, 4: 1749, 5: 1749, 6: 1749, 7: 1749, 8: 1749, 9: 1749})"
            ]
          },
          "metadata": {
            "tags": []
          },
          "execution_count": 112
        }
      ]
    },
    {
      "cell_type": "code",
      "metadata": {
        "id": "qQ5lejB5ydj7"
      },
      "source": [
        "from sklearn.linear_model import LogisticRegression\n",
        "from sklearn.metrics import classification_report, confusion_matrix\n",
        "\n",
        "from sklearn.model_selection import GridSearchCV, cross_val_score"
      ],
      "execution_count": 113,
      "outputs": []
    },
    {
      "cell_type": "code",
      "metadata": {
        "id": "KAdo8vp-tkZ7",
        "outputId": "589c57fb-c209-49ca-9a69-d92390e10cb3",
        "colab": {
          "base_uri": "https://localhost:8080/"
        }
      },
      "source": [
        "from sklearn.ensemble import RandomForestClassifier\n",
        "\n",
        "def RFC():\n",
        "  #X_train, X_test, y_train, y_test = train_test_split(X_SMOTE, y_SMOTE, test_size = 0.25, random_state = 2489)\n",
        "  X_train, X_test, y_train, y_test = train_test_split(X, y, test_size = 0.25, random_state = 2489)\n",
        "\n",
        "\n",
        "  # creating the model\n",
        "  model = RandomForestClassifier(n_estimators = 200)\n",
        "\n",
        "  # feeding the training set into the model\n",
        "  model.fit(X_train, y_train)\n",
        "\n",
        "  # predicting the results for the test set\n",
        "  y_pred = model.predict(X_test)\n",
        "\n",
        "  # calculating the training and testing accuracies\n",
        "  print(\"Training accuracy :\", model.score(X_train, y_train))\n",
        "  print(\"Testing accuracy :\", model.score(X_test, y_test))\n",
        "\n",
        "  # classification report\n",
        "  print(classification_report(y_test, y_pred))\n",
        "\n",
        "  # confusion matrix\n",
        "  print(confusion_matrix(y_test, y_pred))\n",
        "\n",
        "  model_eval = cross_val_score(estimator = model, X = X_train, y = y_train, cv = 10)\n",
        "  print('mean ', model_eval.mean())\n",
        "\n",
        "RFC()"
      ],
      "execution_count": 122,
      "outputs": [
        {
          "output_type": "stream",
          "text": [
            "Training accuracy : 1.0\n",
            "Testing accuracy : 0.6520408163265307\n",
            "              precision    recall  f1-score   support\n",
            "\n",
            "           3       0.00      0.00      0.00         6\n",
            "           4       0.70      0.18      0.29        38\n",
            "           5       0.66      0.64      0.65       287\n",
            "           6       0.65      0.78      0.71       454\n",
            "           7       0.63      0.53      0.58       160\n",
            "           8       0.79      0.33      0.47        33\n",
            "           9       0.00      0.00      0.00         2\n",
            "\n",
            "    accuracy                           0.65       980\n",
            "   macro avg       0.49      0.35      0.38       980\n",
            "weighted avg       0.65      0.65      0.64       980\n",
            "\n",
            "[[  0   0   2   4   0   0   0]\n",
            " [  0   7  21  10   0   0   0]\n",
            " [  0   2 184  92   7   2   0]\n",
            " [  0   1  67 352  34   0   0]\n",
            " [  0   0   6  68  85   1   0]\n",
            " [  0   0   0  14   8  11   0]\n",
            " [  0   0   0   1   1   0   0]]\n"
          ],
          "name": "stdout"
        },
        {
          "output_type": "stream",
          "text": [
            "/usr/local/lib/python3.6/dist-packages/sklearn/metrics/_classification.py:1272: UndefinedMetricWarning: Precision and F-score are ill-defined and being set to 0.0 in labels with no predicted samples. Use `zero_division` parameter to control this behavior.\n",
            "  _warn_prf(average, modifier, msg_start, len(result))\n",
            "/usr/local/lib/python3.6/dist-packages/sklearn/model_selection/_split.py:667: UserWarning: The least populated class in y has only 2 members, which is less than n_splits=10.\n",
            "  % (min_groups, self.n_splits)), UserWarning)\n"
          ],
          "name": "stderr"
        },
        {
          "output_type": "stream",
          "text": [
            "mean  0.6371584128531959\n"
          ],
          "name": "stdout"
        }
      ]
    },
    {
      "cell_type": "code",
      "metadata": {
        "id": "kTxw32UK0lmy"
      },
      "source": [
        "import xgboost as xgb\n",
        "\n",
        "def XGB():\n",
        "  #X_train, X_test, y_train, y_test = train_test_split(X_SMOTE, y_SMOTE, test_size = 0.25, random_state = 2489)\n",
        "  X_train, X_test, y_train, y_test = train_test_split(X, y, test_size = 0.25, random_state = 2489)\n",
        "\n",
        "  # creating the model\n",
        "  model = xgb.XGBClassifier(random_state=2489)\n",
        "\n",
        "  # feeding the training set into the model\n",
        "  model.fit(X_train, y_train)\n",
        "\n",
        "  # predicting the results for the test set\n",
        "  y_pred = model.predict(X_test)\n",
        "\n",
        "  # calculating the training and testing accuracies\n",
        "  print(\"Training accuracy :\", model.score(X_train, y_train))\n",
        "  print(\"Testing accuracy :\", model.score(X_test, y_test))\n",
        "\n",
        "  # classification report\n",
        "  print(classification_report(y_test, y_pred))\n",
        "\n",
        "  # confusion matrix\n",
        "  print(confusion_matrix(y_test, y_pred))\n",
        "\n",
        "  model_eval = cross_val_score(estimator = model, X = X_train, y = y_train, cv = 10)\n",
        "  print('mean ', model_eval.mean())\n",
        "\n",
        "XGB()"
      ],
      "execution_count": null,
      "outputs": []
    },
    {
      "cell_type": "markdown",
      "metadata": {
        "id": "PUXjpyy3LGrn"
      },
      "source": [
        "# Manual balancing of classes"
      ]
    },
    {
      "cell_type": "code",
      "metadata": {
        "id": "UmZ1CoNrLLyp"
      },
      "source": [
        "from sklearn.neural_network import MLPClassifier\n",
        "\n",
        "def MLP():\n",
        "  X_train, X_test, y_train, y_test = train_test_split(X_SMOTE, y_SMOTE, test_size = 0.25, random_state = 2489)\n",
        "  # creating the model\n",
        "  model = MLPClassifier(hidden_layer_sizes = (100, 100), max_iter = 150)\n",
        "\n",
        "  # feeding the training data to the model\n",
        "  model.fit(X_train, y_train)\n",
        "  y_pred = model.predict(X_test)\n",
        "  # calculating the accuracies\n",
        "  print(\"training accuracy :\", model.score(X_train, y_train))\n",
        "  print(\"testing accuracy :\", model.score(X_test, y_test))\n",
        "  # classification report\n",
        "  print(classification_report(y_test, y_pred))\n",
        "  # confusion matrix\n",
        "  print(confusion_matrix(y_test, y_pred))\n",
        "  model_eval = cross_val_score(estimator = model, X = X_train, y = y_train, cv = 10)\n",
        "  model_eval.mean()\n",
        "\n",
        "MLP()  "
      ],
      "execution_count": null,
      "outputs": []
    },
    {
      "cell_type": "code",
      "metadata": {
        "id": "8jauy-bjRGXm",
        "outputId": "56e5ef89-09e2-4841-84dc-c1779635d98c",
        "colab": {
          "base_uri": "https://localhost:8080/"
        }
      },
      "source": [
        "data.columns"
      ],
      "execution_count": 123,
      "outputs": [
        {
          "output_type": "execute_result",
          "data": {
            "text/plain": [
              "Index(['fixed acidity', 'volatile acidity', 'citric acid', 'residual sugar',\n",
              "       'chlorides', 'free sulfur dioxide', 'total sulfur dioxide', 'density',\n",
              "       'pH', 'sulphates', 'alcohol', 'quality'],\n",
              "      dtype='object')"
            ]
          },
          "metadata": {
            "tags": []
          },
          "execution_count": 123
        }
      ]
    },
    {
      "cell_type": "code",
      "metadata": {
        "id": "RvJJmWdQPZyD",
        "outputId": "298f7783-902d-4525-dd12-039212bfc78b",
        "colab": {
          "base_uri": "https://localhost:8080/"
        }
      },
      "source": [
        "from sklearn.ensemble import RandomForestClassifier\n",
        "\n",
        "def RFC():\n",
        "\n",
        "  df=data.drop(columns=['quality'])\n",
        "  X=df[['volatile acidity','free sulfur dioxide','alcohol']]\n",
        "\n",
        "  y=data['quality'].values\n",
        "  print(X)\n",
        "  print(y)\n",
        "\n",
        "  #X_train, X_test, y_train, y_test = train_test_split(X_SMOTE, y_SMOTE, test_size = 0.25, random_state = 2489)\n",
        "  X_train, X_test, y_train, y_test = train_test_split(X, y, test_size = 0.20, random_state = 2489)\n",
        "\n",
        "  # creating the model\n",
        "  model = RandomForestClassifier(n_estimators = 10000,verbose=2,n_jobs=-1)\n",
        "\n",
        "  # feeding the training set into the model\n",
        "  model.fit(X_train, y_train)\n",
        "\n",
        "  # predicting the results for the test set\n",
        "  y_pred = model.predict(X_test)\n",
        "\n",
        "  # calculating the training and testing accuracies\n",
        "  print(\"Training accuracy :\", model.score(X_train, y_train))\n",
        "  print(\"Testing accuracy :\", model.score(X_test, y_test))\n",
        "\n",
        "  # classification report\n",
        "  print(classification_report(y_test, y_pred))\n",
        "\n",
        "  # confusion matrix\n",
        "  print(confusion_matrix(y_test, y_pred))\n",
        "\n",
        "  model_eval = cross_val_score(estimator = model, X = X_train, y = y_train, cv = 10)\n",
        "  print('mean ', model_eval.mean())\n",
        "\n",
        "RFC()"
      ],
      "execution_count": 126,
      "outputs": [
        {
          "output_type": "stream",
          "text": [
            "      volatile acidity  free sulfur dioxide  alcohol\n",
            "0                 0.27                 45.0      8.8\n",
            "1                 0.40                 29.0      9.7\n",
            "2                 0.17                 39.0     10.7\n",
            "3                 0.18                 17.0     11.6\n",
            "4                 0.26                 47.0     10.1\n",
            "...                ...                  ...      ...\n",
            "3913              0.18                 24.0      9.4\n",
            "3914              0.22                 36.0      9.5\n",
            "3915              0.29                 47.0     10.0\n",
            "3916              0.20                 30.0     11.0\n",
            "3917              0.28                 50.0     11.2\n",
            "\n",
            "[3918 rows x 3 columns]\n",
            "[6 5 7 ... 6 7 6]\n",
            "Training accuracy : 0.9891512444160817\n",
            "Testing accuracy : 0.6198979591836735\n",
            "              precision    recall  f1-score   support\n",
            "\n",
            "           3       0.00      0.00      0.00         4\n",
            "           4       0.64      0.25      0.36        28\n",
            "           5       0.65      0.64      0.64       240\n",
            "           6       0.63      0.69      0.66       347\n",
            "           7       0.55      0.57      0.56       134\n",
            "           8       0.64      0.30      0.41        30\n",
            "           9       0.00      0.00      0.00         1\n",
            "\n",
            "    accuracy                           0.62       784\n",
            "   macro avg       0.44      0.35      0.38       784\n",
            "weighted avg       0.62      0.62      0.61       784\n",
            "\n",
            "[[  0   0   2   2   0   0   0]\n",
            " [  0   7  15   4   2   0   0]\n",
            " [  0   1 153  76   9   1   0]\n",
            " [  0   3  60 241  41   2   0]\n",
            " [  0   0   4  52  76   2   0]\n",
            " [  0   0   1  10  10   9   0]\n",
            " [  0   0   0   0   1   0   0]]\n"
          ],
          "name": "stdout"
        },
        {
          "output_type": "stream",
          "text": [
            "/usr/local/lib/python3.6/dist-packages/sklearn/metrics/_classification.py:1272: UndefinedMetricWarning: Precision and F-score are ill-defined and being set to 0.0 in labels with no predicted samples. Use `zero_division` parameter to control this behavior.\n",
            "  _warn_prf(average, modifier, msg_start, len(result))\n",
            "/usr/local/lib/python3.6/dist-packages/sklearn/model_selection/_split.py:667: UserWarning: The least populated class in y has only 3 members, which is less than n_splits=10.\n",
            "  % (min_groups, self.n_splits)), UserWarning)\n"
          ],
          "name": "stderr"
        },
        {
          "output_type": "stream",
          "text": [
            "mean  0.6056307360452575\n"
          ],
          "name": "stdout"
        }
      ]
    },
    {
      "cell_type": "code",
      "metadata": {
        "id": "3Hz8mdzbY-z-"
      },
      "source": [
        "from sklearn.utils import resample"
      ],
      "execution_count": 162,
      "outputs": []
    },
    {
      "cell_type": "code",
      "metadata": {
        "id": "na2x5DF0b70R",
        "outputId": "bb82fcd1-26c1-4b73-a433-0b3afe977188",
        "colab": {
          "base_uri": "https://localhost:8080/"
        }
      },
      "source": [
        "data['quality'].value_counts()"
      ],
      "execution_count": 148,
      "outputs": [
        {
          "output_type": "execute_result",
          "data": {
            "text/plain": [
              "6    1749\n",
              "5    1171\n",
              "7     704\n",
              "8     142\n",
              "4     132\n",
              "3      16\n",
              "9       4\n",
              "Name: quality, dtype: int64"
            ]
          },
          "metadata": {
            "tags": []
          },
          "execution_count": 148
        }
      ]
    },
    {
      "cell_type": "code",
      "metadata": {
        "id": "-LRhDyqPdEWL"
      },
      "source": [
        "df=data.copy()"
      ],
      "execution_count": 151,
      "outputs": []
    },
    {
      "cell_type": "markdown",
      "metadata": {
        "id": "yyxSGfDYcOAf"
      },
      "source": [
        "**Up-sample Minority Class**"
      ]
    },
    {
      "cell_type": "code",
      "metadata": {
        "id": "9cx7bOCecHaf",
        "outputId": "72c42032-5ef0-4c35-db44-7420c7ec0e37",
        "colab": {
          "base_uri": "https://localhost:8080/"
        }
      },
      "source": [
        "df=data.copy()\n",
        "# Separate majority and minority classes\n",
        "df_majority = df[df.quality==7]\n",
        "df_minority1 = df[df.quality==9]\n",
        " \n",
        "# Upsample minority class\n",
        "df_minority_upsampled1 = resample(df_minority1, \n",
        "                                 replace=True,     # sample with replacement\n",
        "                                 n_samples=704,    # to match majority class\n",
        "                                 random_state=123) # reproducible results\n",
        "\n",
        "#==========================\n",
        "df_minority2 = df[df.quality==3]\n",
        " \n",
        "# Upsample minority class\n",
        "df_minority_upsampled2 = resample(df_minority2, \n",
        "                                 replace=True,     # sample with replacement\n",
        "                                 n_samples=704,    # to match majority class\n",
        "                                 random_state=123) # reproducible results\n",
        " \n",
        "#===============================\n",
        "df_minority3 = df[df.quality==4]\n",
        " # Upsample minority class\n",
        "df_minority_upsampled3 = resample(df_minority3, \n",
        "                                 replace=True,     # sample with replacement\n",
        "                                 n_samples=704,    # to match majority class\n",
        "                                 random_state=123) # reproducible results\n",
        " \n",
        "#===============================\n",
        "df_minority4 = df[df.quality==8]\n",
        " \n",
        "# Upsample minority class\n",
        "df_minority_upsampled4 = resample(df_minority4, \n",
        "                                 replace=True,     # sample with replacement\n",
        "                                 n_samples=704,    # to match majority class\n",
        "                                 random_state=123) # reproducible results\n",
        " \n",
        "# Combine majority class with upsampled minority class\n",
        "df_upsampled = pd.concat([df_majority, df_minority_upsampled1,df_minority_upsampled2,df_minority_upsampled3,df_minority_upsampled4])\n",
        "\n",
        " \n",
        "# Display new class counts\n",
        "df_upsampled.quality.value_counts()"
      ],
      "execution_count": 176,
      "outputs": [
        {
          "output_type": "execute_result",
          "data": {
            "text/plain": [
              "9    704\n",
              "7    704\n",
              "3    704\n",
              "8    704\n",
              "4    704\n",
              "Name: quality, dtype: int64"
            ]
          },
          "metadata": {
            "tags": []
          },
          "execution_count": 176
        }
      ]
    },
    {
      "cell_type": "markdown",
      "metadata": {
        "id": "-vIDUuB9g4hv"
      },
      "source": [
        "**Down-sample Majority Class**"
      ]
    },
    {
      "cell_type": "code",
      "metadata": {
        "id": "PDCkqNyggxoQ",
        "outputId": "7a3d2bd0-3cbf-4c10-9170-0737676f0d71",
        "colab": {
          "base_uri": "https://localhost:8080/"
        }
      },
      "source": [
        "df_majority1 = df[df.quality==6]\n",
        "df_minority = df[df.quality==7]\n",
        " \n",
        "# Downsample majority class\n",
        "df_majority_downsampled1 = resample(df_majority1, \n",
        "                                 replace=False,    # sample without replacement\n",
        "                                 n_samples=704,     # to match minority class\n",
        "                                 random_state=123) # reproducible results\n",
        "df_majority2 = df[df.quality==5]                                 \n",
        "# Downsample majority class\n",
        "df_majority_downsampled2 = resample(df_majority2, \n",
        "                                 replace=False,    # sample without replacement\n",
        "                                 n_samples=704,     # to match minority class\n",
        "                                 random_state=123) # reproducible results                                 \n",
        " \n",
        "# Combine minority class with downsampled majority class\n",
        "df_downsampled = pd.concat([df_majority_downsampled1,df_majority_downsampled2, df_minority])\n",
        " \n",
        "df_downsampled=df_downsampled[df_downsampled['quality'] != 7]\n",
        "# Display new class counts\n",
        "df_downsampled.quality.value_counts()"
      ],
      "execution_count": 184,
      "outputs": [
        {
          "output_type": "execute_result",
          "data": {
            "text/plain": [
              "6    704\n",
              "5    704\n",
              "Name: quality, dtype: int64"
            ]
          },
          "metadata": {
            "tags": []
          },
          "execution_count": 184
        }
      ]
    },
    {
      "cell_type": "code",
      "metadata": {
        "id": "7tk9MtMOi30U",
        "outputId": "ac804770-2c9f-4686-84bc-d954c16a4319",
        "colab": {
          "base_uri": "https://localhost:8080/"
        }
      },
      "source": [
        "#https://elitedatascience.com/imbalanced-classes\n",
        "df_balanced= pd.concat([df_downsampled,df_upsampled])\n",
        "df_balanced.quality.value_counts()"
      ],
      "execution_count": 186,
      "outputs": [
        {
          "output_type": "execute_result",
          "data": {
            "text/plain": [
              "7    704\n",
              "3    704\n",
              "6    704\n",
              "9    704\n",
              "5    704\n",
              "8    704\n",
              "4    704\n",
              "Name: quality, dtype: int64"
            ]
          },
          "metadata": {
            "tags": []
          },
          "execution_count": 186
        }
      ]
    },
    {
      "cell_type": "code",
      "metadata": {
        "id": "HSQFG2dYjFIZ"
      },
      "source": [
        "from sklearn.ensemble import RandomForestClassifier\n",
        "\n",
        "def RFC():\n",
        "\n",
        "  df=df_balanced.drop(columns=['quality'])\n",
        "  X=df_balanced[['volatile acidity','free sulfur dioxide','alcohol']]\n",
        "  y=df_balanced['quality'].values\n",
        "  print(X)\n",
        "  print(y)\n",
        "\n",
        "  #X_train, X_test, y_train, y_test = train_test_split(X_SMOTE, y_SMOTE, test_size = 0.25, random_state = 2489)\n",
        "  X_train, X_test, y_train, y_test = train_test_split(X, y, test_size = 0.20, random_state = 2489)\n",
        "\n",
        "  # creating the model\n",
        "  model = RandomForestClassifier(n_estimators = 10000,verbose=2,n_jobs=-1)\n",
        "\n",
        "  # feeding the training set into the model\n",
        "  model.fit(X_train, y_train)\n",
        "\n",
        "  # predicting the results for the test set\n",
        "  y_pred = model.predict(X_test)\n",
        "\n",
        "  # calculating the training and testing accuracies\n",
        "  print(\"Training accuracy :\", model.score(X_train, y_train))\n",
        "  print(\"Testing accuracy :\", model.score(X_test, y_test))\n",
        "\n",
        "  # classification report\n",
        "  print(classification_report(y_test, y_pred))\n",
        "\n",
        "  # confusion matrix\n",
        "  print(confusion_matrix(y_test, y_pred))\n",
        "\n",
        "  model_eval = cross_val_score(estimator = model, X = X_train, y = y_train, cv = 10)\n",
        "  print('mean ', model_eval.mean())\n",
        "\n",
        "RFC()"
      ],
      "execution_count": null,
      "outputs": []
    },
    {
      "cell_type": "code",
      "metadata": {
        "id": "9RQtYn14l50M"
      },
      "source": [
        "from sklearn.utils import resample\n",
        "\n",
        "def MySMOTE(data):\n",
        "  df=data.copy()\n",
        "  # Separate majority and minority classes\n",
        "  df_majority = df[df.quality==7]\n",
        "  df_minority1 = df[df.quality==9]\n",
        "  \n",
        "  # Upsample minority class\n",
        "  df_minority_upsampled1 = resample(df_minority1, \n",
        "                                  replace=True,     # sample with replacement\n",
        "                                  n_samples=704,    # to match majority class\n",
        "                                  random_state=123) # reproducible results\n",
        "  \n",
        "  # Combine majority class with upsampled minority class\n",
        "  df_upsampled = pd.concat([df_majority, df_minority_upsampled1])\n",
        "\n",
        "  #==========================\n",
        "  df_minority2 = df[df.quality==3]\n",
        "  \n",
        "  # Upsample minority class\n",
        "  df_minority_upsampled2 = resample(df_minority2, \n",
        "                                  replace=True,     # sample with replacement\n",
        "                                  n_samples=704,    # to match majority class\n",
        "                                  random_state=123) # reproducible results\n",
        "  \n",
        "  # Combine majority class with upsampled minority class\n",
        "  df_upsampled = pd.concat([df_majority, df_minority_upsampled1,df_minority_upsampled2])\n",
        "\n",
        "  #===============================\n",
        "  df_minority3 = df[df.quality==4]\n",
        "  \n",
        "  # Upsample minority class\n",
        "  df_minority_upsampled3 = resample(df_minority3, \n",
        "                                  replace=True,     # sample with replacement\n",
        "                                  n_samples=704,    # to match majority class\n",
        "                                  random_state=123) # reproducible results\n",
        "  \n",
        "  # Combine majority class with upsampled minority class\n",
        "  df_upsampled = pd.concat([df_majority, df_minority_upsampled1,df_minority_upsampled2,df_minority_upsampled3])\n",
        "\n",
        "  #===============================\n",
        "  df_minority4 = df[df.quality==8]\n",
        "  \n",
        "  # Upsample minority class\n",
        "  df_minority_upsampled4 = resample(df_minority4, \n",
        "                                  replace=True,     # sample with replacement\n",
        "                                  n_samples=704,    # to match majority class\n",
        "                                  random_state=123) # reproducible results\n",
        "  \n",
        "  # Combine majority class with upsampled minority class\n",
        "  df_upsampled = pd.concat([df_majority, df_minority_upsampled1,df_minority_upsampled2,df_minority_upsampled3,df_minority_upsampled4])\n",
        "  \n",
        "  # Display new class counts\n",
        "  df_upsampled.quality.value_counts()\n",
        "\n",
        "  df_majority1 = df[df.quality==6]\n",
        "  df_minority = df[df.quality==7]\n",
        "  \n",
        "  # Downsample majority class\n",
        "  df_majority_downsampled1 = resample(df_majority1, \n",
        "                                  replace=False,    # sample without replacement\n",
        "                                  n_samples=704,     # to match minority class\n",
        "                                  random_state=123) # reproducible results\n",
        "  df_majority2 = df[df.quality==5]                                 \n",
        "  # Downsample majority class\n",
        "  df_majority_downsampled2 = resample(df_majority2, \n",
        "                                  replace=False,    # sample without replacement\n",
        "                                  n_samples=704,     # to match minority class\n",
        "                                  random_state=123) # reproducible results                                 \n",
        "  \n",
        "  # Combine minority class with downsampled majority class\n",
        "  df_downsampled = pd.concat([df_majority_downsampled1,df_majority_downsampled2, df_minority])\n",
        "  \n",
        "  df_downsampled=df_downsampled[df_downsampled['quality'] != 7]\n",
        "  # Display new class counts\n",
        "  df_downsampled.quality.value_counts()\n",
        "\n",
        "  df_balanced= pd.concat([df_downsampled,df_upsampled])\n",
        "  df_balanced.quality.value_counts()  \n",
        "\n",
        "  print(df.shape)\n",
        "\n",
        "  print(df_balanced.shape)\n",
        "\n",
        "  return df_balanced"
      ],
      "execution_count": 195,
      "outputs": []
    },
    {
      "cell_type": "code",
      "metadata": {
        "id": "zGfvAzTiolIb",
        "outputId": "7df7b708-4288-4de9-e5ba-60a67dc2f3a9",
        "colab": {
          "base_uri": "https://localhost:8080/"
        }
      },
      "source": [
        "df_balanced.shape"
      ],
      "execution_count": 198,
      "outputs": [
        {
          "output_type": "execute_result",
          "data": {
            "text/plain": [
              "(4928, 12)"
            ]
          },
          "metadata": {
            "tags": []
          },
          "execution_count": 198
        }
      ]
    },
    {
      "cell_type": "code",
      "metadata": {
        "id": "u_-t4Dl2mUvl",
        "outputId": "540ebb16-afb6-4e5d-cf4e-906a3c6c92b6",
        "colab": {
          "base_uri": "https://localhost:8080/",
          "height": 458
        }
      },
      "source": [
        "import pandas as pd\n",
        "import numpy as np\n",
        "from sklearn.svm import SVC\n",
        "from sklearn.preprocessing import StandardScaler\n",
        "from sklearn.ensemble import RandomForestClassifier\n",
        "\n",
        "class Submission():\n",
        "    def __init__(self, train_data_path, test_data_path):\n",
        "        self.train_data = pd.read_csv(train_data_path, header=None)\n",
        "        self.train_data.columns=['fixed acidity', 'volatile acidity', 'citric acid', 'residual sugar','chlorides', 'free sulfur dioxide', \n",
        "                                 'total sulfur dioxide', 'density','pH', 'sulphates', 'alcohol', 'quality']\n",
        "        self.test_data = pd.read_csv(test_data_path,header=None)\n",
        "        self.test_data.drop(0,inplace=True)\n",
        "\n",
        "    def predict(self):\n",
        "\n",
        "        df_balanced= MySMOTE(self.train_data) # Rectify imablance in the data        \n",
        "        X=df_balanced[['volatile acidity','free sulfur dioxide','alcohol']] #Feature selection\n",
        "        y=df['quality'].values\n",
        "\n",
        "        sc = StandardScaler()\n",
        "        X = sc.fit_transform(X)\n",
        "\n",
        "        # Train the model\n",
        "        # creating the model\n",
        "        model = RandomForestClassifier(n_estimators = 200,n_jobs=-1,verbose=2)\n",
        "        model.fit(X, y)\n",
        "\n",
        "        # Predict on test set and save the prediction\n",
        "        submission = model.predict(self.test_data)\n",
        "        submission = pd.DataFrame(submission)\n",
        "        submission.to_csv('submission.csv',header=['quality'],index=False)\n",
        "\t\t\n",
        "\n",
        "submission1 = Submission('train.csv','test.csv')\n",
        "print(\"submission1\")\n",
        "submission1.predict()\n"
      ],
      "execution_count": 196,
      "outputs": [
        {
          "output_type": "stream",
          "text": [
            "submission1\n",
            "(3918, 12)\n",
            "(4928, 12)\n",
            "building tree 1 of 200building tree 2 of 200\n",
            "\n",
            "building tree 3 of 200\n",
            "building tree 4 of 200\n"
          ],
          "name": "stdout"
        },
        {
          "output_type": "stream",
          "text": [
            "[Parallel(n_jobs=-1)]: Using backend ThreadingBackend with 2 concurrent workers.\n"
          ],
          "name": "stderr"
        },
        {
          "output_type": "error",
          "ename": "ValueError",
          "evalue": "ignored",
          "traceback": [
            "\u001b[0;31m---------------------------------------------------------------------------\u001b[0m",
            "\u001b[0;31mValueError\u001b[0m                                Traceback (most recent call last)",
            "\u001b[0;32m<ipython-input-196-23863c690157>\u001b[0m in \u001b[0;36m<module>\u001b[0;34m()\u001b[0m\n\u001b[1;32m     35\u001b[0m \u001b[0msubmission1\u001b[0m \u001b[0;34m=\u001b[0m \u001b[0mSubmission\u001b[0m\u001b[0;34m(\u001b[0m\u001b[0;34m'train.csv'\u001b[0m\u001b[0;34m,\u001b[0m\u001b[0;34m'test.csv'\u001b[0m\u001b[0;34m)\u001b[0m\u001b[0;34m\u001b[0m\u001b[0;34m\u001b[0m\u001b[0m\n\u001b[1;32m     36\u001b[0m \u001b[0mprint\u001b[0m\u001b[0;34m(\u001b[0m\u001b[0;34m\"submission1\"\u001b[0m\u001b[0;34m)\u001b[0m\u001b[0;34m\u001b[0m\u001b[0;34m\u001b[0m\u001b[0m\n\u001b[0;32m---> 37\u001b[0;31m \u001b[0msubmission1\u001b[0m\u001b[0;34m.\u001b[0m\u001b[0mpredict\u001b[0m\u001b[0;34m(\u001b[0m\u001b[0;34m)\u001b[0m\u001b[0;34m\u001b[0m\u001b[0;34m\u001b[0m\u001b[0m\n\u001b[0m",
            "\u001b[0;32m<ipython-input-196-23863c690157>\u001b[0m in \u001b[0;36mpredict\u001b[0;34m(self)\u001b[0m\n\u001b[1;32m     25\u001b[0m         \u001b[0;31m# creating the model\u001b[0m\u001b[0;34m\u001b[0m\u001b[0;34m\u001b[0m\u001b[0;34m\u001b[0m\u001b[0m\n\u001b[1;32m     26\u001b[0m         \u001b[0mmodel\u001b[0m \u001b[0;34m=\u001b[0m \u001b[0mRandomForestClassifier\u001b[0m\u001b[0;34m(\u001b[0m\u001b[0mn_estimators\u001b[0m \u001b[0;34m=\u001b[0m \u001b[0;36m200\u001b[0m\u001b[0;34m,\u001b[0m\u001b[0mn_jobs\u001b[0m\u001b[0;34m=\u001b[0m\u001b[0;34m-\u001b[0m\u001b[0;36m1\u001b[0m\u001b[0;34m,\u001b[0m\u001b[0mverbose\u001b[0m\u001b[0;34m=\u001b[0m\u001b[0;36m2\u001b[0m\u001b[0;34m)\u001b[0m\u001b[0;34m\u001b[0m\u001b[0;34m\u001b[0m\u001b[0m\n\u001b[0;32m---> 27\u001b[0;31m         \u001b[0mmodel\u001b[0m\u001b[0;34m.\u001b[0m\u001b[0mfit\u001b[0m\u001b[0;34m(\u001b[0m\u001b[0mX\u001b[0m\u001b[0;34m,\u001b[0m \u001b[0my\u001b[0m\u001b[0;34m)\u001b[0m\u001b[0;34m\u001b[0m\u001b[0;34m\u001b[0m\u001b[0m\n\u001b[0m\u001b[1;32m     28\u001b[0m \u001b[0;34m\u001b[0m\u001b[0m\n\u001b[1;32m     29\u001b[0m         \u001b[0;31m# Predict on test set and save the prediction\u001b[0m\u001b[0;34m\u001b[0m\u001b[0;34m\u001b[0m\u001b[0;34m\u001b[0m\u001b[0m\n",
            "\u001b[0;32m/usr/local/lib/python3.6/dist-packages/sklearn/ensemble/_forest.py\u001b[0m in \u001b[0;36mfit\u001b[0;34m(self, X, y, sample_weight)\u001b[0m\n\u001b[1;32m    381\u001b[0m                     \u001b[0mverbose\u001b[0m\u001b[0;34m=\u001b[0m\u001b[0mself\u001b[0m\u001b[0;34m.\u001b[0m\u001b[0mverbose\u001b[0m\u001b[0;34m,\u001b[0m \u001b[0mclass_weight\u001b[0m\u001b[0;34m=\u001b[0m\u001b[0mself\u001b[0m\u001b[0;34m.\u001b[0m\u001b[0mclass_weight\u001b[0m\u001b[0;34m,\u001b[0m\u001b[0;34m\u001b[0m\u001b[0;34m\u001b[0m\u001b[0m\n\u001b[1;32m    382\u001b[0m                     n_samples_bootstrap=n_samples_bootstrap)\n\u001b[0;32m--> 383\u001b[0;31m                 for i, t in enumerate(trees))\n\u001b[0m\u001b[1;32m    384\u001b[0m \u001b[0;34m\u001b[0m\u001b[0m\n\u001b[1;32m    385\u001b[0m             \u001b[0;31m# Collect newly grown trees\u001b[0m\u001b[0;34m\u001b[0m\u001b[0;34m\u001b[0m\u001b[0;34m\u001b[0m\u001b[0m\n",
            "\u001b[0;32m/usr/local/lib/python3.6/dist-packages/joblib/parallel.py\u001b[0m in \u001b[0;36m__call__\u001b[0;34m(self, iterable)\u001b[0m\n\u001b[1;32m   1059\u001b[0m \u001b[0;34m\u001b[0m\u001b[0m\n\u001b[1;32m   1060\u001b[0m             \u001b[0;32mwith\u001b[0m \u001b[0mself\u001b[0m\u001b[0;34m.\u001b[0m\u001b[0m_backend\u001b[0m\u001b[0;34m.\u001b[0m\u001b[0mretrieval_context\u001b[0m\u001b[0;34m(\u001b[0m\u001b[0;34m)\u001b[0m\u001b[0;34m:\u001b[0m\u001b[0;34m\u001b[0m\u001b[0;34m\u001b[0m\u001b[0m\n\u001b[0;32m-> 1061\u001b[0;31m                 \u001b[0mself\u001b[0m\u001b[0;34m.\u001b[0m\u001b[0mretrieve\u001b[0m\u001b[0;34m(\u001b[0m\u001b[0;34m)\u001b[0m\u001b[0;34m\u001b[0m\u001b[0;34m\u001b[0m\u001b[0m\n\u001b[0m\u001b[1;32m   1062\u001b[0m             \u001b[0;31m# Make sure that we get a last message telling us we are done\u001b[0m\u001b[0;34m\u001b[0m\u001b[0;34m\u001b[0m\u001b[0;34m\u001b[0m\u001b[0m\n\u001b[1;32m   1063\u001b[0m             \u001b[0melapsed_time\u001b[0m \u001b[0;34m=\u001b[0m \u001b[0mtime\u001b[0m\u001b[0;34m.\u001b[0m\u001b[0mtime\u001b[0m\u001b[0;34m(\u001b[0m\u001b[0;34m)\u001b[0m \u001b[0;34m-\u001b[0m \u001b[0mself\u001b[0m\u001b[0;34m.\u001b[0m\u001b[0m_start_time\u001b[0m\u001b[0;34m\u001b[0m\u001b[0;34m\u001b[0m\u001b[0m\n",
            "\u001b[0;32m/usr/local/lib/python3.6/dist-packages/joblib/parallel.py\u001b[0m in \u001b[0;36mretrieve\u001b[0;34m(self)\u001b[0m\n\u001b[1;32m    938\u001b[0m             \u001b[0;32mtry\u001b[0m\u001b[0;34m:\u001b[0m\u001b[0;34m\u001b[0m\u001b[0;34m\u001b[0m\u001b[0m\n\u001b[1;32m    939\u001b[0m                 \u001b[0;32mif\u001b[0m \u001b[0mgetattr\u001b[0m\u001b[0;34m(\u001b[0m\u001b[0mself\u001b[0m\u001b[0;34m.\u001b[0m\u001b[0m_backend\u001b[0m\u001b[0;34m,\u001b[0m \u001b[0;34m'supports_timeout'\u001b[0m\u001b[0;34m,\u001b[0m \u001b[0;32mFalse\u001b[0m\u001b[0;34m)\u001b[0m\u001b[0;34m:\u001b[0m\u001b[0;34m\u001b[0m\u001b[0;34m\u001b[0m\u001b[0m\n\u001b[0;32m--> 940\u001b[0;31m                     \u001b[0mself\u001b[0m\u001b[0;34m.\u001b[0m\u001b[0m_output\u001b[0m\u001b[0;34m.\u001b[0m\u001b[0mextend\u001b[0m\u001b[0;34m(\u001b[0m\u001b[0mjob\u001b[0m\u001b[0;34m.\u001b[0m\u001b[0mget\u001b[0m\u001b[0;34m(\u001b[0m\u001b[0mtimeout\u001b[0m\u001b[0;34m=\u001b[0m\u001b[0mself\u001b[0m\u001b[0;34m.\u001b[0m\u001b[0mtimeout\u001b[0m\u001b[0;34m)\u001b[0m\u001b[0;34m)\u001b[0m\u001b[0;34m\u001b[0m\u001b[0;34m\u001b[0m\u001b[0m\n\u001b[0m\u001b[1;32m    941\u001b[0m                 \u001b[0;32melse\u001b[0m\u001b[0;34m:\u001b[0m\u001b[0;34m\u001b[0m\u001b[0;34m\u001b[0m\u001b[0m\n\u001b[1;32m    942\u001b[0m                     \u001b[0mself\u001b[0m\u001b[0;34m.\u001b[0m\u001b[0m_output\u001b[0m\u001b[0;34m.\u001b[0m\u001b[0mextend\u001b[0m\u001b[0;34m(\u001b[0m\u001b[0mjob\u001b[0m\u001b[0;34m.\u001b[0m\u001b[0mget\u001b[0m\u001b[0;34m(\u001b[0m\u001b[0;34m)\u001b[0m\u001b[0;34m)\u001b[0m\u001b[0;34m\u001b[0m\u001b[0;34m\u001b[0m\u001b[0m\n",
            "\u001b[0;32m/usr/lib/python3.6/multiprocessing/pool.py\u001b[0m in \u001b[0;36mget\u001b[0;34m(self, timeout)\u001b[0m\n\u001b[1;32m    642\u001b[0m             \u001b[0;32mreturn\u001b[0m \u001b[0mself\u001b[0m\u001b[0;34m.\u001b[0m\u001b[0m_value\u001b[0m\u001b[0;34m\u001b[0m\u001b[0;34m\u001b[0m\u001b[0m\n\u001b[1;32m    643\u001b[0m         \u001b[0;32melse\u001b[0m\u001b[0;34m:\u001b[0m\u001b[0;34m\u001b[0m\u001b[0;34m\u001b[0m\u001b[0m\n\u001b[0;32m--> 644\u001b[0;31m             \u001b[0;32mraise\u001b[0m \u001b[0mself\u001b[0m\u001b[0;34m.\u001b[0m\u001b[0m_value\u001b[0m\u001b[0;34m\u001b[0m\u001b[0;34m\u001b[0m\u001b[0m\n\u001b[0m\u001b[1;32m    645\u001b[0m \u001b[0;34m\u001b[0m\u001b[0m\n\u001b[1;32m    646\u001b[0m     \u001b[0;32mdef\u001b[0m \u001b[0m_set\u001b[0m\u001b[0;34m(\u001b[0m\u001b[0mself\u001b[0m\u001b[0;34m,\u001b[0m \u001b[0mi\u001b[0m\u001b[0;34m,\u001b[0m \u001b[0mobj\u001b[0m\u001b[0;34m)\u001b[0m\u001b[0;34m:\u001b[0m\u001b[0;34m\u001b[0m\u001b[0;34m\u001b[0m\u001b[0m\n",
            "\u001b[0;32m/usr/lib/python3.6/multiprocessing/pool.py\u001b[0m in \u001b[0;36mworker\u001b[0;34m(inqueue, outqueue, initializer, initargs, maxtasks, wrap_exception)\u001b[0m\n\u001b[1;32m    117\u001b[0m         \u001b[0mjob\u001b[0m\u001b[0;34m,\u001b[0m \u001b[0mi\u001b[0m\u001b[0;34m,\u001b[0m \u001b[0mfunc\u001b[0m\u001b[0;34m,\u001b[0m \u001b[0margs\u001b[0m\u001b[0;34m,\u001b[0m \u001b[0mkwds\u001b[0m \u001b[0;34m=\u001b[0m \u001b[0mtask\u001b[0m\u001b[0;34m\u001b[0m\u001b[0;34m\u001b[0m\u001b[0m\n\u001b[1;32m    118\u001b[0m         \u001b[0;32mtry\u001b[0m\u001b[0;34m:\u001b[0m\u001b[0;34m\u001b[0m\u001b[0;34m\u001b[0m\u001b[0m\n\u001b[0;32m--> 119\u001b[0;31m             \u001b[0mresult\u001b[0m \u001b[0;34m=\u001b[0m \u001b[0;34m(\u001b[0m\u001b[0;32mTrue\u001b[0m\u001b[0;34m,\u001b[0m \u001b[0mfunc\u001b[0m\u001b[0;34m(\u001b[0m\u001b[0;34m*\u001b[0m\u001b[0margs\u001b[0m\u001b[0;34m,\u001b[0m \u001b[0;34m**\u001b[0m\u001b[0mkwds\u001b[0m\u001b[0;34m)\u001b[0m\u001b[0;34m)\u001b[0m\u001b[0;34m\u001b[0m\u001b[0;34m\u001b[0m\u001b[0m\n\u001b[0m\u001b[1;32m    120\u001b[0m         \u001b[0;32mexcept\u001b[0m \u001b[0mException\u001b[0m \u001b[0;32mas\u001b[0m \u001b[0me\u001b[0m\u001b[0;34m:\u001b[0m\u001b[0;34m\u001b[0m\u001b[0;34m\u001b[0m\u001b[0m\n\u001b[1;32m    121\u001b[0m             \u001b[0;32mif\u001b[0m \u001b[0mwrap_exception\u001b[0m \u001b[0;32mand\u001b[0m \u001b[0mfunc\u001b[0m \u001b[0;32mis\u001b[0m \u001b[0;32mnot\u001b[0m \u001b[0m_helper_reraises_exception\u001b[0m\u001b[0;34m:\u001b[0m\u001b[0;34m\u001b[0m\u001b[0;34m\u001b[0m\u001b[0m\n",
            "\u001b[0;32m/usr/local/lib/python3.6/dist-packages/joblib/_parallel_backends.py\u001b[0m in \u001b[0;36m__call__\u001b[0;34m(self, *args, **kwargs)\u001b[0m\n\u001b[1;32m    593\u001b[0m     \u001b[0;32mdef\u001b[0m \u001b[0m__call__\u001b[0m\u001b[0;34m(\u001b[0m\u001b[0mself\u001b[0m\u001b[0;34m,\u001b[0m \u001b[0;34m*\u001b[0m\u001b[0margs\u001b[0m\u001b[0;34m,\u001b[0m \u001b[0;34m**\u001b[0m\u001b[0mkwargs\u001b[0m\u001b[0;34m)\u001b[0m\u001b[0;34m:\u001b[0m\u001b[0;34m\u001b[0m\u001b[0;34m\u001b[0m\u001b[0m\n\u001b[1;32m    594\u001b[0m         \u001b[0;32mtry\u001b[0m\u001b[0;34m:\u001b[0m\u001b[0;34m\u001b[0m\u001b[0;34m\u001b[0m\u001b[0m\n\u001b[0;32m--> 595\u001b[0;31m             \u001b[0;32mreturn\u001b[0m \u001b[0mself\u001b[0m\u001b[0;34m.\u001b[0m\u001b[0mfunc\u001b[0m\u001b[0;34m(\u001b[0m\u001b[0;34m*\u001b[0m\u001b[0margs\u001b[0m\u001b[0;34m,\u001b[0m \u001b[0;34m**\u001b[0m\u001b[0mkwargs\u001b[0m\u001b[0;34m)\u001b[0m\u001b[0;34m\u001b[0m\u001b[0;34m\u001b[0m\u001b[0m\n\u001b[0m\u001b[1;32m    596\u001b[0m         \u001b[0;32mexcept\u001b[0m \u001b[0mKeyboardInterrupt\u001b[0m \u001b[0;32mas\u001b[0m \u001b[0me\u001b[0m\u001b[0;34m:\u001b[0m\u001b[0;34m\u001b[0m\u001b[0;34m\u001b[0m\u001b[0m\n\u001b[1;32m    597\u001b[0m             \u001b[0;31m# We capture the KeyboardInterrupt and reraise it as\u001b[0m\u001b[0;34m\u001b[0m\u001b[0;34m\u001b[0m\u001b[0;34m\u001b[0m\u001b[0m\n",
            "\u001b[0;32m/usr/local/lib/python3.6/dist-packages/joblib/parallel.py\u001b[0m in \u001b[0;36m__call__\u001b[0;34m(self)\u001b[0m\n\u001b[1;32m    261\u001b[0m         \u001b[0;32mwith\u001b[0m \u001b[0mparallel_backend\u001b[0m\u001b[0;34m(\u001b[0m\u001b[0mself\u001b[0m\u001b[0;34m.\u001b[0m\u001b[0m_backend\u001b[0m\u001b[0;34m,\u001b[0m \u001b[0mn_jobs\u001b[0m\u001b[0;34m=\u001b[0m\u001b[0mself\u001b[0m\u001b[0;34m.\u001b[0m\u001b[0m_n_jobs\u001b[0m\u001b[0;34m)\u001b[0m\u001b[0;34m:\u001b[0m\u001b[0;34m\u001b[0m\u001b[0;34m\u001b[0m\u001b[0m\n\u001b[1;32m    262\u001b[0m             return [func(*args, **kwargs)\n\u001b[0;32m--> 263\u001b[0;31m                     for func, args, kwargs in self.items]\n\u001b[0m\u001b[1;32m    264\u001b[0m \u001b[0;34m\u001b[0m\u001b[0m\n\u001b[1;32m    265\u001b[0m     \u001b[0;32mdef\u001b[0m \u001b[0m__reduce__\u001b[0m\u001b[0;34m(\u001b[0m\u001b[0mself\u001b[0m\u001b[0;34m)\u001b[0m\u001b[0;34m:\u001b[0m\u001b[0;34m\u001b[0m\u001b[0;34m\u001b[0m\u001b[0m\n",
            "\u001b[0;32m/usr/local/lib/python3.6/dist-packages/joblib/parallel.py\u001b[0m in \u001b[0;36m<listcomp>\u001b[0;34m(.0)\u001b[0m\n\u001b[1;32m    261\u001b[0m         \u001b[0;32mwith\u001b[0m \u001b[0mparallel_backend\u001b[0m\u001b[0;34m(\u001b[0m\u001b[0mself\u001b[0m\u001b[0;34m.\u001b[0m\u001b[0m_backend\u001b[0m\u001b[0;34m,\u001b[0m \u001b[0mn_jobs\u001b[0m\u001b[0;34m=\u001b[0m\u001b[0mself\u001b[0m\u001b[0;34m.\u001b[0m\u001b[0m_n_jobs\u001b[0m\u001b[0;34m)\u001b[0m\u001b[0;34m:\u001b[0m\u001b[0;34m\u001b[0m\u001b[0;34m\u001b[0m\u001b[0m\n\u001b[1;32m    262\u001b[0m             return [func(*args, **kwargs)\n\u001b[0;32m--> 263\u001b[0;31m                     for func, args, kwargs in self.items]\n\u001b[0m\u001b[1;32m    264\u001b[0m \u001b[0;34m\u001b[0m\u001b[0m\n\u001b[1;32m    265\u001b[0m     \u001b[0;32mdef\u001b[0m \u001b[0m__reduce__\u001b[0m\u001b[0;34m(\u001b[0m\u001b[0mself\u001b[0m\u001b[0;34m)\u001b[0m\u001b[0;34m:\u001b[0m\u001b[0;34m\u001b[0m\u001b[0;34m\u001b[0m\u001b[0m\n",
            "\u001b[0;32m/usr/local/lib/python3.6/dist-packages/sklearn/ensemble/_forest.py\u001b[0m in \u001b[0;36m_parallel_build_trees\u001b[0;34m(tree, forest, X, y, sample_weight, tree_idx, n_trees, verbose, class_weight, n_samples_bootstrap)\u001b[0m\n\u001b[1;32m    163\u001b[0m             \u001b[0mcurr_sample_weight\u001b[0m \u001b[0;34m*=\u001b[0m \u001b[0mcompute_sample_weight\u001b[0m\u001b[0;34m(\u001b[0m\u001b[0;34m'balanced'\u001b[0m\u001b[0;34m,\u001b[0m \u001b[0my\u001b[0m\u001b[0;34m,\u001b[0m \u001b[0mindices\u001b[0m\u001b[0;34m)\u001b[0m\u001b[0;34m\u001b[0m\u001b[0;34m\u001b[0m\u001b[0m\n\u001b[1;32m    164\u001b[0m \u001b[0;34m\u001b[0m\u001b[0m\n\u001b[0;32m--> 165\u001b[0;31m         \u001b[0mtree\u001b[0m\u001b[0;34m.\u001b[0m\u001b[0mfit\u001b[0m\u001b[0;34m(\u001b[0m\u001b[0mX\u001b[0m\u001b[0;34m,\u001b[0m \u001b[0my\u001b[0m\u001b[0;34m,\u001b[0m \u001b[0msample_weight\u001b[0m\u001b[0;34m=\u001b[0m\u001b[0mcurr_sample_weight\u001b[0m\u001b[0;34m,\u001b[0m \u001b[0mcheck_input\u001b[0m\u001b[0;34m=\u001b[0m\u001b[0;32mFalse\u001b[0m\u001b[0;34m)\u001b[0m\u001b[0;34m\u001b[0m\u001b[0;34m\u001b[0m\u001b[0m\n\u001b[0m\u001b[1;32m    166\u001b[0m     \u001b[0;32melse\u001b[0m\u001b[0;34m:\u001b[0m\u001b[0;34m\u001b[0m\u001b[0;34m\u001b[0m\u001b[0m\n\u001b[1;32m    167\u001b[0m         \u001b[0mtree\u001b[0m\u001b[0;34m.\u001b[0m\u001b[0mfit\u001b[0m\u001b[0;34m(\u001b[0m\u001b[0mX\u001b[0m\u001b[0;34m,\u001b[0m \u001b[0my\u001b[0m\u001b[0;34m,\u001b[0m \u001b[0msample_weight\u001b[0m\u001b[0;34m=\u001b[0m\u001b[0msample_weight\u001b[0m\u001b[0;34m,\u001b[0m \u001b[0mcheck_input\u001b[0m\u001b[0;34m=\u001b[0m\u001b[0;32mFalse\u001b[0m\u001b[0;34m)\u001b[0m\u001b[0;34m\u001b[0m\u001b[0;34m\u001b[0m\u001b[0m\n",
            "\u001b[0;32m/usr/local/lib/python3.6/dist-packages/sklearn/tree/_classes.py\u001b[0m in \u001b[0;36mfit\u001b[0;34m(self, X, y, sample_weight, check_input, X_idx_sorted)\u001b[0m\n\u001b[1;32m    875\u001b[0m             \u001b[0msample_weight\u001b[0m\u001b[0;34m=\u001b[0m\u001b[0msample_weight\u001b[0m\u001b[0;34m,\u001b[0m\u001b[0;34m\u001b[0m\u001b[0;34m\u001b[0m\u001b[0m\n\u001b[1;32m    876\u001b[0m             \u001b[0mcheck_input\u001b[0m\u001b[0;34m=\u001b[0m\u001b[0mcheck_input\u001b[0m\u001b[0;34m,\u001b[0m\u001b[0;34m\u001b[0m\u001b[0;34m\u001b[0m\u001b[0m\n\u001b[0;32m--> 877\u001b[0;31m             X_idx_sorted=X_idx_sorted)\n\u001b[0m\u001b[1;32m    878\u001b[0m         \u001b[0;32mreturn\u001b[0m \u001b[0mself\u001b[0m\u001b[0;34m\u001b[0m\u001b[0;34m\u001b[0m\u001b[0m\n\u001b[1;32m    879\u001b[0m \u001b[0;34m\u001b[0m\u001b[0m\n",
            "\u001b[0;32m/usr/local/lib/python3.6/dist-packages/sklearn/tree/_classes.py\u001b[0m in \u001b[0;36mfit\u001b[0;34m(self, X, y, sample_weight, check_input, X_idx_sorted)\u001b[0m\n\u001b[1;32m    263\u001b[0m         \u001b[0;32mif\u001b[0m \u001b[0mlen\u001b[0m\u001b[0;34m(\u001b[0m\u001b[0my\u001b[0m\u001b[0;34m)\u001b[0m \u001b[0;34m!=\u001b[0m \u001b[0mn_samples\u001b[0m\u001b[0;34m:\u001b[0m\u001b[0;34m\u001b[0m\u001b[0;34m\u001b[0m\u001b[0m\n\u001b[1;32m    264\u001b[0m             raise ValueError(\"Number of labels=%d does not match \"\n\u001b[0;32m--> 265\u001b[0;31m                              \"number of samples=%d\" % (len(y), n_samples))\n\u001b[0m\u001b[1;32m    266\u001b[0m         \u001b[0;32mif\u001b[0m \u001b[0;32mnot\u001b[0m \u001b[0;36m0\u001b[0m \u001b[0;34m<=\u001b[0m \u001b[0mself\u001b[0m\u001b[0;34m.\u001b[0m\u001b[0mmin_weight_fraction_leaf\u001b[0m \u001b[0;34m<=\u001b[0m \u001b[0;36m0.5\u001b[0m\u001b[0;34m:\u001b[0m\u001b[0;34m\u001b[0m\u001b[0;34m\u001b[0m\u001b[0m\n\u001b[1;32m    267\u001b[0m             \u001b[0;32mraise\u001b[0m \u001b[0mValueError\u001b[0m\u001b[0;34m(\u001b[0m\u001b[0;34m\"min_weight_fraction_leaf must in [0, 0.5]\"\u001b[0m\u001b[0;34m)\u001b[0m\u001b[0;34m\u001b[0m\u001b[0;34m\u001b[0m\u001b[0m\n",
            "\u001b[0;31mValueError\u001b[0m: Number of labels=3918 does not match number of samples=4928"
          ]
        }
      ]
    }
  ]
}