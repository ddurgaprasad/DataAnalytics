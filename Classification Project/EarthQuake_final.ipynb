{
  "nbformat": 4,
  "nbformat_minor": 0,
  "metadata": {
    "colab": {
      "name": "EarthQuake.ipynb",
      "provenance": [],
      "collapsed_sections": []
    },
    "kernelspec": {
      "name": "python3",
      "display_name": "Python 3"
    }
  },
  "cells": [
    {
      "cell_type": "code",
      "metadata": {
        "id": "1lRKi_bwn-dO",
        "colab_type": "code",
        "colab": {}
      },
      "source": [
        "# -*- coding: utf-8 -*-"
      ],
      "execution_count": 1,
      "outputs": []
    },
    {
      "cell_type": "code",
      "metadata": {
        "id": "Rqw5h2VuYUqz",
        "colab_type": "code",
        "colab": {}
      },
      "source": [
        "import pandas as pd\n",
        "import numpy as np"
      ],
      "execution_count": 2,
      "outputs": []
    },
    {
      "cell_type": "markdown",
      "metadata": {
        "id": "fdLeS0MuPmNv",
        "colab_type": "text"
      },
      "source": [
        "Read the raw data and print few rows"
      ]
    },
    {
      "cell_type": "code",
      "metadata": {
        "id": "udDY9M6HYdVb",
        "colab_type": "code",
        "colab": {
          "base_uri": "https://localhost:8080/",
          "height": 274
        },
        "outputId": "91c1762d-f805-4c0b-9a8f-e04c46bf3495"
      },
      "source": [
        "df=pd.read_csv('/content/Indian Earthquakes List Update_Magnitudes (1).csv',skiprows=9,encoding = \"ISO-8859-1\")\n",
        "df.head()"
      ],
      "execution_count": 22,
      "outputs": [
        {
          "output_type": "stream",
          "text": [
            "/usr/local/lib/python3.6/dist-packages/IPython/core/interactiveshell.py:2718: DtypeWarning: Columns (2,6,7,9,10,11,12,13,15,16,17) have mixed types.Specify dtype option on import or set low_memory=False.\n",
            "  interactivity=interactivity, compiler=compiler, result=result)\n"
          ],
          "name": "stderr"
        },
        {
          "output_type": "execute_result",
          "data": {
            "text/html": [
              "<div>\n",
              "<style scoped>\n",
              "    .dataframe tbody tr th:only-of-type {\n",
              "        vertical-align: middle;\n",
              "    }\n",
              "\n",
              "    .dataframe tbody tr th {\n",
              "        vertical-align: top;\n",
              "    }\n",
              "\n",
              "    .dataframe thead th {\n",
              "        text-align: right;\n",
              "    }\n",
              "</style>\n",
              "<table border=\"1\" class=\"dataframe\">\n",
              "  <thead>\n",
              "    <tr style=\"text-align: right;\">\n",
              "      <th></th>\n",
              "      <th>Sl. No.</th>\n",
              "      <th>YEAR</th>\n",
              "      <th>MONTH</th>\n",
              "      <th>DATE</th>\n",
              "      <th>ORIGIN TIME</th>\n",
              "      <th>Unnamed: 5</th>\n",
              "      <th>MAGNITUDE</th>\n",
              "      <th>Unnamed: 7</th>\n",
              "      <th>Unnamed: 8</th>\n",
              "      <th>Unnamed: 9</th>\n",
              "      <th>Unnamed: 10</th>\n",
              "      <th>Unnamed: 11</th>\n",
              "      <th>LAT (N)</th>\n",
              "      <th>LONG (E)</th>\n",
              "      <th>DEPTH (km)</th>\n",
              "      <th>INTENSITY</th>\n",
              "      <th>Unnamed: 16</th>\n",
              "      <th>Unnamed: 17</th>\n",
              "      <th>LOCATION</th>\n",
              "      <th>REFERENCE</th>\n",
              "    </tr>\n",
              "  </thead>\n",
              "  <tbody>\n",
              "    <tr>\n",
              "      <th>0</th>\n",
              "      <td>NaN</td>\n",
              "      <td>NaN</td>\n",
              "      <td>NaN</td>\n",
              "      <td>NaN</td>\n",
              "      <td>(UTC)</td>\n",
              "      <td>(IST)</td>\n",
              "      <td>Mw</td>\n",
              "      <td>Mw</td>\n",
              "      <td>Mb</td>\n",
              "      <td>Mb</td>\n",
              "      <td>Ms</td>\n",
              "      <td>ML</td>\n",
              "      <td>NaN</td>\n",
              "      <td>NaN</td>\n",
              "      <td>NaN</td>\n",
              "      <td>MM</td>\n",
              "      <td>MMI</td>\n",
              "      <td>MME</td>\n",
              "      <td>NaN</td>\n",
              "      <td>NaN</td>\n",
              "    </tr>\n",
              "    <tr>\n",
              "      <th>1</th>\n",
              "      <td>1.0</td>\n",
              "      <td>-2474.0</td>\n",
              "      <td>0</td>\n",
              "      <td>0.0</td>\n",
              "      <td>NaN</td>\n",
              "      <td>NaN</td>\n",
              "      <td>7.5</td>\n",
              "      <td>7.5</td>\n",
              "      <td>NaN</td>\n",
              "      <td>6.969202899</td>\n",
              "      <td>7.260619977</td>\n",
              "      <td>7.427072403</td>\n",
              "      <td>71</td>\n",
              "      <td>24</td>\n",
              "      <td>0.0</td>\n",
              "      <td>NaN</td>\n",
              "      <td>NaN</td>\n",
              "      <td>NaN</td>\n",
              "      <td>NaN</td>\n",
              "      <td>Dr STGR</td>\n",
              "    </tr>\n",
              "    <tr>\n",
              "      <th>2</th>\n",
              "      <td>2.0</td>\n",
              "      <td>-325.0</td>\n",
              "      <td>0</td>\n",
              "      <td>0.0</td>\n",
              "      <td>NaN</td>\n",
              "      <td>NaN</td>\n",
              "      <td>7.5</td>\n",
              "      <td>7.5</td>\n",
              "      <td>NaN</td>\n",
              "      <td>6.969202899</td>\n",
              "      <td>7.260619977</td>\n",
              "      <td>7.427072403</td>\n",
              "      <td>71</td>\n",
              "      <td>24</td>\n",
              "      <td>0.0</td>\n",
              "      <td>NaN</td>\n",
              "      <td>NaN</td>\n",
              "      <td>NaN</td>\n",
              "      <td>NaN</td>\n",
              "      <td>Dr STGR</td>\n",
              "    </tr>\n",
              "    <tr>\n",
              "      <th>3</th>\n",
              "      <td>3.0</td>\n",
              "      <td>25.0</td>\n",
              "      <td>0</td>\n",
              "      <td>0.0</td>\n",
              "      <td>NaN</td>\n",
              "      <td>NaN</td>\n",
              "      <td>7.5</td>\n",
              "      <td>7.5</td>\n",
              "      <td>NaN</td>\n",
              "      <td>6.969202899</td>\n",
              "      <td>7.260619977</td>\n",
              "      <td>7.427072403</td>\n",
              "      <td>72.9</td>\n",
              "      <td>33.72</td>\n",
              "      <td>0.0</td>\n",
              "      <td>NaN</td>\n",
              "      <td>NaN</td>\n",
              "      <td>NaN</td>\n",
              "      <td>NaN</td>\n",
              "      <td>Dr STGR</td>\n",
              "    </tr>\n",
              "    <tr>\n",
              "      <th>4</th>\n",
              "      <td>4.0</td>\n",
              "      <td>26.0</td>\n",
              "      <td>5</td>\n",
              "      <td>10.0</td>\n",
              "      <td>08.19.10.0</td>\n",
              "      <td>NaN</td>\n",
              "      <td>6.1397</td>\n",
              "      <td>6.1397</td>\n",
              "      <td>5.737047101</td>\n",
              "      <td>5.737047101</td>\n",
              "      <td>5.698851894</td>\n",
              "      <td>5.999685205</td>\n",
              "      <td>17.3</td>\n",
              "      <td>80.1</td>\n",
              "      <td>NaN</td>\n",
              "      <td>NaN</td>\n",
              "      <td>NaN</td>\n",
              "      <td>NaN</td>\n",
              "      <td>NaN</td>\n",
              "      <td>NEIC</td>\n",
              "    </tr>\n",
              "  </tbody>\n",
              "</table>\n",
              "</div>"
            ],
            "text/plain": [
              "   Sl. No.   YEAR  MONTH   DATE  ... Unnamed: 16 Unnamed: 17 LOCATION REFERENCE\n",
              "0      NaN     NaN    NaN   NaN  ...         MMI         MME      NaN       NaN\n",
              "1      1.0 -2474.0      0   0.0  ...         NaN         NaN      NaN   Dr STGR\n",
              "2      2.0  -325.0      0   0.0  ...         NaN         NaN      NaN   Dr STGR\n",
              "3      3.0    25.0      0   0.0  ...         NaN         NaN      NaN   Dr STGR\n",
              "4      4.0    26.0      5  10.0  ...         NaN         NaN      NaN      NEIC\n",
              "\n",
              "[5 rows x 20 columns]"
            ]
          },
          "metadata": {
            "tags": []
          },
          "execution_count": 22
        }
      ]
    },
    {
      "cell_type": "markdown",
      "metadata": {
        "id": "e3ccAhyLTSXm",
        "colab_type": "text"
      },
      "source": [
        "Warning received -  Columns (2,6,7,9,10,11,12,13,15,16,17) have mixed types"
      ]
    },
    {
      "cell_type": "markdown",
      "metadata": {
        "id": "JgTh0PhmP0SZ",
        "colab_type": "text"
      },
      "source": [
        "Print the number of rows"
      ]
    },
    {
      "cell_type": "code",
      "metadata": {
        "id": "3qlfTipmP2ZQ",
        "colab_type": "code",
        "colab": {
          "base_uri": "https://localhost:8080/",
          "height": 34
        },
        "outputId": "d1728d7e-2127-45a6-9a8f-120a628b2914"
      },
      "source": [
        "df.shape"
      ],
      "execution_count": 23,
      "outputs": [
        {
          "output_type": "execute_result",
          "data": {
            "text/plain": [
              "(52990, 20)"
            ]
          },
          "metadata": {
            "tags": []
          },
          "execution_count": 23
        }
      ]
    },
    {
      "cell_type": "markdown",
      "metadata": {
        "id": "0zLHPRCHPrJv",
        "colab_type": "text"
      },
      "source": [
        "Print the columns of the raw data"
      ]
    },
    {
      "cell_type": "code",
      "metadata": {
        "id": "WQgzSvMGcN5F",
        "colab_type": "code",
        "colab": {
          "base_uri": "https://localhost:8080/",
          "height": 104
        },
        "outputId": "79a7fbe4-be1d-41c5-c875-d5a4b7934c60"
      },
      "source": [
        "df.columns"
      ],
      "execution_count": 24,
      "outputs": [
        {
          "output_type": "execute_result",
          "data": {
            "text/plain": [
              "Index(['Sl. No.', 'YEAR ', 'MONTH ', 'DATE', 'ORIGIN TIME', 'Unnamed: 5',\n",
              "       'MAGNITUDE', 'Unnamed: 7', 'Unnamed: 8', 'Unnamed: 9', 'Unnamed: 10',\n",
              "       'Unnamed: 11', 'LAT (N)', 'LONG (E)', 'DEPTH (km)', 'INTENSITY',\n",
              "       'Unnamed: 16', 'Unnamed: 17', 'LOCATION', 'REFERENCE'],\n",
              "      dtype='object')"
            ]
          },
          "metadata": {
            "tags": []
          },
          "execution_count": 24
        }
      ]
    },
    {
      "cell_type": "markdown",
      "metadata": {
        "id": "p11YoEb9fmYJ",
        "colab_type": "text"
      },
      "source": [
        "Pick required columns only. Apply filter based on columns required to create a new data"
      ]
    },
    {
      "cell_type": "code",
      "metadata": {
        "id": "PT0czqa5ZaME",
        "colab_type": "code",
        "colab": {
          "base_uri": "https://localhost:8080/",
          "height": 202
        },
        "outputId": "1cbdda1c-824a-428b-8785-97dd33d33513"
      },
      "source": [
        "df_filter=df[['YEAR ', 'MONTH ', 'DATE', 'ORIGIN TIME', 'MAGNITUDE', 'LAT (N)', 'LONG (E)', 'DEPTH (km)']]\n",
        "#df_filter = df_filter.iloc[1:] #Skip the first row with Column Description\n",
        "df_filter.drop(0)\n",
        "df_filter=df_filter[df_filter['YEAR ']>1000] #Filter for year grater than 1000\n",
        "df_filter.head()"
      ],
      "execution_count": 25,
      "outputs": [
        {
          "output_type": "execute_result",
          "data": {
            "text/html": [
              "<div>\n",
              "<style scoped>\n",
              "    .dataframe tbody tr th:only-of-type {\n",
              "        vertical-align: middle;\n",
              "    }\n",
              "\n",
              "    .dataframe tbody tr th {\n",
              "        vertical-align: top;\n",
              "    }\n",
              "\n",
              "    .dataframe thead th {\n",
              "        text-align: right;\n",
              "    }\n",
              "</style>\n",
              "<table border=\"1\" class=\"dataframe\">\n",
              "  <thead>\n",
              "    <tr style=\"text-align: right;\">\n",
              "      <th></th>\n",
              "      <th>YEAR</th>\n",
              "      <th>MONTH</th>\n",
              "      <th>DATE</th>\n",
              "      <th>ORIGIN TIME</th>\n",
              "      <th>MAGNITUDE</th>\n",
              "      <th>LAT (N)</th>\n",
              "      <th>LONG (E)</th>\n",
              "      <th>DEPTH (km)</th>\n",
              "    </tr>\n",
              "  </thead>\n",
              "  <tbody>\n",
              "    <tr>\n",
              "      <th>15</th>\n",
              "      <td>1053.0</td>\n",
              "      <td>00</td>\n",
              "      <td>0.0</td>\n",
              "      <td>NaN</td>\n",
              "      <td>7.0</td>\n",
              "      <td>69.13</td>\n",
              "      <td>32.85</td>\n",
              "      <td>0.0</td>\n",
              "    </tr>\n",
              "    <tr>\n",
              "      <th>16</th>\n",
              "      <td>1063.0</td>\n",
              "      <td>12</td>\n",
              "      <td>5.0</td>\n",
              "      <td>NaN</td>\n",
              "      <td>NaN</td>\n",
              "      <td>19.1</td>\n",
              "      <td>73.2</td>\n",
              "      <td>NaN</td>\n",
              "    </tr>\n",
              "    <tr>\n",
              "      <th>17</th>\n",
              "      <td>1100.0</td>\n",
              "      <td>00</td>\n",
              "      <td>0.0</td>\n",
              "      <td>NaN</td>\n",
              "      <td>8.5</td>\n",
              "      <td>85</td>\n",
              "      <td>27.5</td>\n",
              "      <td>0.0</td>\n",
              "    </tr>\n",
              "    <tr>\n",
              "      <th>18</th>\n",
              "      <td>1102.0</td>\n",
              "      <td>02</td>\n",
              "      <td>28.0</td>\n",
              "      <td>NaN</td>\n",
              "      <td>5.6</td>\n",
              "      <td>62.2</td>\n",
              "      <td>34.4</td>\n",
              "      <td>0.0</td>\n",
              "    </tr>\n",
              "    <tr>\n",
              "      <th>19</th>\n",
              "      <td>1294.0</td>\n",
              "      <td>00</td>\n",
              "      <td>0.0</td>\n",
              "      <td>NaN</td>\n",
              "      <td>7.5</td>\n",
              "      <td>77.2</td>\n",
              "      <td>30.5</td>\n",
              "      <td>0.0</td>\n",
              "    </tr>\n",
              "  </tbody>\n",
              "</table>\n",
              "</div>"
            ],
            "text/plain": [
              "     YEAR  MONTH   DATE ORIGIN TIME MAGNITUDE LAT (N) LONG (E)  DEPTH (km)\n",
              "15  1053.0     00   0.0         NaN       7.0   69.13    32.85         0.0\n",
              "16  1063.0     12   5.0         NaN       NaN    19.1     73.2         NaN\n",
              "17  1100.0     00   0.0         NaN       8.5      85     27.5         0.0\n",
              "18  1102.0     02  28.0         NaN       5.6    62.2     34.4         0.0\n",
              "19  1294.0     00   0.0         NaN       7.5    77.2     30.5         0.0"
            ]
          },
          "metadata": {
            "tags": []
          },
          "execution_count": 25
        }
      ]
    },
    {
      "cell_type": "code",
      "metadata": {
        "id": "tF-4mQMEZmBF",
        "colab_type": "code",
        "colab": {
          "base_uri": "https://localhost:8080/",
          "height": 34
        },
        "outputId": "056965f4-5b43-446d-da91-1d04445bef5b"
      },
      "source": [
        "df_filter.shape"
      ],
      "execution_count": 26,
      "outputs": [
        {
          "output_type": "execute_result",
          "data": {
            "text/plain": [
              "(52975, 8)"
            ]
          },
          "metadata": {
            "tags": []
          },
          "execution_count": 26
        }
      ]
    },
    {
      "cell_type": "markdown",
      "metadata": {
        "id": "yrROLMm_f8Vg",
        "colab_type": "text"
      },
      "source": [
        "Rename the columns to avoid spaces"
      ]
    },
    {
      "cell_type": "code",
      "metadata": {
        "id": "e5iDSgXCa7a2",
        "colab_type": "code",
        "colab": {}
      },
      "source": [
        "req_columns=['YEAR', 'MONTH', 'DAY', 'ORIGIN_TIME', 'MAGNITUDE','LAT', 'LONG', 'DEPTH_KM']"
      ],
      "execution_count": 27,
      "outputs": []
    },
    {
      "cell_type": "code",
      "metadata": {
        "id": "N8FdW7_hb4fS",
        "colab_type": "code",
        "colab": {
          "base_uri": "https://localhost:8080/",
          "height": 69
        },
        "outputId": "bb69a933-af80-4a93-9d61-b446cfc065fe"
      },
      "source": [
        "df_filter.columns=req_columns\n",
        "df_filter.columns"
      ],
      "execution_count": 28,
      "outputs": [
        {
          "output_type": "execute_result",
          "data": {
            "text/plain": [
              "Index(['YEAR', 'MONTH', 'DAY', 'ORIGIN_TIME', 'MAGNITUDE', 'LAT', 'LONG',\n",
              "       'DEPTH_KM'],\n",
              "      dtype='object')"
            ]
          },
          "metadata": {
            "tags": []
          },
          "execution_count": 28
        }
      ]
    },
    {
      "cell_type": "code",
      "metadata": {
        "id": "HH-38ci_eO2g",
        "colab_type": "code",
        "colab": {
          "base_uri": "https://localhost:8080/",
          "height": 34
        },
        "outputId": "5141b8e7-ed4c-4950-afd6-23c3b6ac037f"
      },
      "source": [
        "df_filter.shape"
      ],
      "execution_count": 29,
      "outputs": [
        {
          "output_type": "execute_result",
          "data": {
            "text/plain": [
              "(52975, 8)"
            ]
          },
          "metadata": {
            "tags": []
          },
          "execution_count": 29
        }
      ]
    },
    {
      "cell_type": "code",
      "metadata": {
        "id": "zwXS02b2MTMc",
        "colab_type": "code",
        "colab": {}
      },
      "source": [
        "df_filter.to_csv('earthquakes1.csv', encoding='utf-8', index=False)"
      ],
      "execution_count": 30,
      "outputs": []
    },
    {
      "cell_type": "code",
      "metadata": {
        "id": "E__SA8X_fL0M",
        "colab_type": "code",
        "colab": {
          "base_uri": "https://localhost:8080/",
          "height": 173
        },
        "outputId": "2dfeaf83-1a38-4a3a-8b08-268063b34307"
      },
      "source": [
        "missing_values_count = df_filter.isnull().sum()\n",
        "missing_values_count"
      ],
      "execution_count": 31,
      "outputs": [
        {
          "output_type": "execute_result",
          "data": {
            "text/plain": [
              "YEAR               0\n",
              "MONTH             18\n",
              "DAY               57\n",
              "ORIGIN_TIME    31791\n",
              "MAGNITUDE      12054\n",
              "LAT                0\n",
              "LONG               0\n",
              "DEPTH_KM        2177\n",
              "dtype: int64"
            ]
          },
          "metadata": {
            "tags": []
          },
          "execution_count": 31
        }
      ]
    },
    {
      "cell_type": "markdown",
      "metadata": {
        "id": "mhcFUBXOcHd2",
        "colab_type": "text"
      },
      "source": [
        "Based on number of Nulls in ORIGIN_TIME , more than 50% of samples have nulls. Therfore dropping this column as it cannot contribute to the data analysis"
      ]
    },
    {
      "cell_type": "code",
      "metadata": {
        "id": "FZRjrF8wcGLP",
        "colab_type": "code",
        "colab": {}
      },
      "source": [
        "df_filter.drop('ORIGIN_TIME', 1,inplace=True)"
      ],
      "execution_count": 32,
      "outputs": []
    },
    {
      "cell_type": "code",
      "metadata": {
        "id": "Srqkf6QujwKV",
        "colab_type": "code",
        "colab": {}
      },
      "source": [
        "df_filter.shape\n",
        "df_filter.dropna(subset=['DAY','MONTH'], how='all',inplace=True)\n",
        "df_filter = df_filter[df_filter['DAY'].notna() ]\n",
        "df_filter = df_filter[df_filter['MONTH'].notna() ]\n",
        "df_filter = df_filter[(df_filter[['DAY','MONTH']] != 0).all(axis=1)]\n",
        "\n",
        "df_filter=df_filter[~df_filter['MONTH'].isnull()]\n",
        "df_filter=df_filter[~df_filter['DAY'].isnull()]"
      ],
      "execution_count": 33,
      "outputs": []
    },
    {
      "cell_type": "code",
      "metadata": {
        "id": "S4La7TpGo1uB",
        "colab_type": "code",
        "colab": {
          "base_uri": "https://localhost:8080/",
          "height": 34
        },
        "outputId": "8fdfa791-3bdf-4629-bb23-fe20021580bc"
      },
      "source": [
        "df_filter.DAY.isnull().sum(),df_filter.DAY.isna().sum()"
      ],
      "execution_count": 34,
      "outputs": [
        {
          "output_type": "execute_result",
          "data": {
            "text/plain": [
              "(0, 0)"
            ]
          },
          "metadata": {
            "tags": []
          },
          "execution_count": 34
        }
      ]
    },
    {
      "cell_type": "code",
      "metadata": {
        "id": "Yk_KN3BYobBa",
        "colab_type": "code",
        "colab": {
          "base_uri": "https://localhost:8080/",
          "height": 33
        },
        "outputId": "e16642d5-56a4-4ebe-e763-3327c34e763f"
      },
      "source": [
        "df_filter.shape"
      ],
      "execution_count": null,
      "outputs": [
        {
          "output_type": "execute_result",
          "data": {
            "text/plain": [
              "(52889, 7)"
            ]
          },
          "metadata": {
            "tags": []
          },
          "execution_count": 423
        }
      ]
    },
    {
      "cell_type": "markdown",
      "metadata": {
        "id": "wF90L8ZtI3rq",
        "colab_type": "text"
      },
      "source": [
        "Replace Depth with mode where ever missing"
      ]
    },
    {
      "cell_type": "code",
      "metadata": {
        "id": "YWnARVDQI27H",
        "colab_type": "code",
        "colab": {}
      },
      "source": [
        "df_filter['DEPTH_KM'].fillna(df_filter['DEPTH_KM'].mode()[0], inplace=True)"
      ],
      "execution_count": 35,
      "outputs": []
    },
    {
      "cell_type": "code",
      "metadata": {
        "id": "jcSozvgDJg78",
        "colab_type": "code",
        "colab": {
          "base_uri": "https://localhost:8080/",
          "height": 156
        },
        "outputId": "010cd360-ffca-4bac-e34c-5eaaf22a776d"
      },
      "source": [
        "missing_values_count = df_filter.isnull().sum()\n",
        "missing_values_count"
      ],
      "execution_count": 36,
      "outputs": [
        {
          "output_type": "execute_result",
          "data": {
            "text/plain": [
              "YEAR             0\n",
              "MONTH            0\n",
              "DAY              0\n",
              "MAGNITUDE    12008\n",
              "LAT              0\n",
              "LONG             0\n",
              "DEPTH_KM         0\n",
              "dtype: int64"
            ]
          },
          "metadata": {
            "tags": []
          },
          "execution_count": 36
        }
      ]
    },
    {
      "cell_type": "markdown",
      "metadata": {
        "id": "6OyjVCkfKL4l",
        "colab_type": "text"
      },
      "source": [
        "Replace missing Magnitude with Average"
      ]
    },
    {
      "cell_type": "code",
      "metadata": {
        "id": "BAYV_dpRKRBJ",
        "colab_type": "code",
        "colab": {}
      },
      "source": [
        "df_filter['MAGNITUDE']=df_filter['MAGNITUDE'].astype(float)\n",
        "df_filter['MAGNITUDE'].fillna(df_filter['MAGNITUDE'].mean(), inplace=True)"
      ],
      "execution_count": 37,
      "outputs": []
    },
    {
      "cell_type": "markdown",
      "metadata": {
        "id": "DKjWopgCDr1o",
        "colab_type": "text"
      },
      "source": [
        "Drop the inconsistent lat/long notations. Making an assumption that all lat longs are in N/E Hemisphere based on Geographic region under study"
      ]
    },
    {
      "cell_type": "code",
      "metadata": {
        "id": "VWnb0PTc-Xaf",
        "colab_type": "code",
        "colab": {}
      },
      "source": [
        "searchfor = ['°', 'E','W','N','S']\n",
        "df_filter=  df_filter[~df_filter.LAT.str.contains('|'.join(searchfor),na=False)]\n",
        "df_filter=  df_filter[~df_filter.LONG.str.contains('|'.join(searchfor),na=False)]"
      ],
      "execution_count": 38,
      "outputs": []
    },
    {
      "cell_type": "markdown",
      "metadata": {
        "id": "Ic9FpFazVvhS",
        "colab_type": "text"
      },
      "source": [
        "COnvert LAT/LONG from string to float "
      ]
    },
    {
      "cell_type": "code",
      "metadata": {
        "id": "XvDOLYIzUysJ",
        "colab_type": "code",
        "colab": {}
      },
      "source": [
        "df_filter['LAT']=df_filter['LAT'].astype(float)\n",
        "df_filter['LONG']=df_filter['LONG'].astype(float)"
      ],
      "execution_count": 39,
      "outputs": []
    },
    {
      "cell_type": "markdown",
      "metadata": {
        "id": "N0nsWdZvV1YX",
        "colab_type": "text"
      },
      "source": [
        "Check if LAT/LONG are in ideal range (-90,90) and (-180,180) respectively"
      ]
    },
    {
      "cell_type": "code",
      "metadata": {
        "id": "JFmpqVOIVSuM",
        "colab_type": "code",
        "colab": {
          "base_uri": "https://localhost:8080/",
          "height": 34
        },
        "outputId": "013d493c-a1f1-44d3-86bb-2bc047211513"
      },
      "source": [
        "df_filter['LAT'].min(),df_filter['LAT'].max()"
      ],
      "execution_count": 40,
      "outputs": [
        {
          "output_type": "execute_result",
          "data": {
            "text/plain": [
              "(-10.9, 100.0)"
            ]
          },
          "metadata": {
            "tags": []
          },
          "execution_count": 40
        }
      ]
    },
    {
      "cell_type": "markdown",
      "metadata": {
        "id": "ics0nHLjXS2F",
        "colab_type": "text"
      },
      "source": [
        "LAT column has some invalid data. Drop those rows"
      ]
    },
    {
      "cell_type": "code",
      "metadata": {
        "id": "80po8TThW2D9",
        "colab_type": "code",
        "colab": {}
      },
      "source": [
        "df_filter=df_filter[df_filter['LAT']>0 ] \n",
        "df_filter=df_filter[df_filter['LAT']<90] "
      ],
      "execution_count": 41,
      "outputs": []
    },
    {
      "cell_type": "code",
      "metadata": {
        "id": "GG3My9aOWBBt",
        "colab_type": "code",
        "colab": {
          "base_uri": "https://localhost:8080/",
          "height": 34
        },
        "outputId": "96a7d23b-80e4-4c8c-f772-a9df23d17893"
      },
      "source": [
        "df_filter['LONG'].min(),df_filter['LONG'].max()"
      ],
      "execution_count": 42,
      "outputs": [
        {
          "output_type": "execute_result",
          "data": {
            "text/plain": [
              "(0.8, 179.9)"
            ]
          },
          "metadata": {
            "tags": []
          },
          "execution_count": 42
        }
      ]
    },
    {
      "cell_type": "code",
      "metadata": {
        "id": "3H6QIZ44tofn",
        "colab_type": "code",
        "colab": {
          "base_uri": "https://localhost:8080/",
          "height": 110
        },
        "outputId": "10dcaef4-a5bc-484c-ecf3-dd86a75e404f"
      },
      "source": [
        "df_filter=df_filter[~df_filter['MONTH'].isnull()]\n",
        "df_filter = df_filter[df_filter['MONTH'].notna() ]\n",
        "\n",
        "df_filter=df_filter.dropna(subset=['MONTH'])\n",
        "\n",
        "df_filter = df_filter[pd.notnull(df_filter['MONTH'])]\n",
        "\n",
        "df_filter[ pd.to_numeric(df_filter['MONTH'], errors='coerce').isnull()]"
      ],
      "execution_count": 57,
      "outputs": [
        {
          "output_type": "execute_result",
          "data": {
            "text/html": [
              "<div>\n",
              "<style scoped>\n",
              "    .dataframe tbody tr th:only-of-type {\n",
              "        vertical-align: middle;\n",
              "    }\n",
              "\n",
              "    .dataframe tbody tr th {\n",
              "        vertical-align: top;\n",
              "    }\n",
              "\n",
              "    .dataframe thead th {\n",
              "        text-align: right;\n",
              "    }\n",
              "</style>\n",
              "<table border=\"1\" class=\"dataframe\">\n",
              "  <thead>\n",
              "    <tr style=\"text-align: right;\">\n",
              "      <th></th>\n",
              "      <th>YEAR</th>\n",
              "      <th>MONTH</th>\n",
              "      <th>DAY</th>\n",
              "      <th>MAGNITUDE</th>\n",
              "      <th>LAT</th>\n",
              "      <th>LONG</th>\n",
              "      <th>DEPTH_KM</th>\n",
              "    </tr>\n",
              "  </thead>\n",
              "  <tbody>\n",
              "    <tr>\n",
              "      <th>3110</th>\n",
              "      <td>1964</td>\n",
              "      <td></td>\n",
              "      <td>7</td>\n",
              "      <td>5.05853</td>\n",
              "      <td>27.5</td>\n",
              "      <td>93.0</td>\n",
              "      <td>0.0</td>\n",
              "    </tr>\n",
              "    <tr>\n",
              "      <th>3111</th>\n",
              "      <td>1964</td>\n",
              "      <td></td>\n",
              "      <td>7</td>\n",
              "      <td>5.05853</td>\n",
              "      <td>30.1</td>\n",
              "      <td>98.9</td>\n",
              "      <td>33.0</td>\n",
              "    </tr>\n",
              "  </tbody>\n",
              "</table>\n",
              "</div>"
            ],
            "text/plain": [
              "      YEAR MONTH  DAY  MAGNITUDE   LAT  LONG  DEPTH_KM\n",
              "3110  1964          7    5.05853  27.5  93.0       0.0\n",
              "3111  1964          7    5.05853  30.1  98.9      33.0"
            ]
          },
          "metadata": {
            "tags": []
          },
          "execution_count": 57
        }
      ]
    },
    {
      "cell_type": "code",
      "metadata": {
        "id": "UwNj7IfB27AQ",
        "colab_type": "code",
        "colab": {}
      },
      "source": [
        "df_filter['MONTH'].replace(to_replace=\"[a-zA-Z]\", value='',regex=True, inplace=True)"
      ],
      "execution_count": 55,
      "outputs": []
    },
    {
      "cell_type": "code",
      "metadata": {
        "id": "mSdABhQTvV9K",
        "colab_type": "code",
        "colab": {}
      },
      "source": [
        "df_filter[df_filter['MONTH'] == ''].index\n",
        "text_empty =df_filter['MONTH'].str.len() > -1\n",
        "df_filter.loc[text_empty].index"
      ],
      "execution_count": null,
      "outputs": []
    },
    {
      "cell_type": "code",
      "metadata": {
        "id": "CL55J5KTy3vf",
        "colab_type": "code",
        "colab": {}
      },
      "source": [
        "from sklearn.impute import SimpleImputer\n",
        "\n",
        "# Imputation\n",
        "my_imputer = SimpleImputer()\n",
        "df_filter = pd.DataFrame(my_imputer.fit_transform(df_filter))"
      ],
      "execution_count": null,
      "outputs": []
    },
    {
      "cell_type": "code",
      "metadata": {
        "id": "xoMp8lQCsBYN",
        "colab_type": "code",
        "colab": {}
      },
      "source": [
        "df_filter['YEAR']=df_filter['YEAR'].astype(int)"
      ],
      "execution_count": 49,
      "outputs": []
    },
    {
      "cell_type": "code",
      "metadata": {
        "id": "L1cq-LnnsF2T",
        "colab_type": "code",
        "colab": {}
      },
      "source": [
        "df_filter['DAY']=df_filter['DAY'].astype(int)"
      ],
      "execution_count": 50,
      "outputs": []
    },
    {
      "cell_type": "code",
      "metadata": {
        "id": "DLold61nsJSY",
        "colab_type": "code",
        "colab": {}
      },
      "source": [
        "df_filter=df_filter[~df_filter['MONTH'].isnull()]\n",
        "df_filter['MONTH']=df_filter['MONTH'].astype(int)"
      ],
      "execution_count": null,
      "outputs": []
    },
    {
      "cell_type": "code",
      "metadata": {
        "id": "1TdHCm9Jlc9I",
        "colab_type": "code",
        "colab": {}
      },
      "source": [
        "df_filter['DT']=pd.to_datetime(df_filter[['YEAR', 'MONTH', 'DAY']])"
      ],
      "execution_count": null,
      "outputs": []
    },
    {
      "cell_type": "code",
      "metadata": {
        "id": "2VsG9KYcVsEm",
        "colab_type": "code",
        "colab": {}
      },
      "source": [
        "df_filter.to_csv('earthquakes2.csv', encoding=\"utf-8\", index=False)\n",
        "df_filter.shape"
      ],
      "execution_count": null,
      "outputs": []
    },
    {
      "cell_type": "code",
      "metadata": {
        "id": "l06jO3exKV0n",
        "colab_type": "code",
        "colab": {}
      },
      "source": [
        "missing_values_count = df_filter.isnull().sum()\n",
        "missing_values_count"
      ],
      "execution_count": null,
      "outputs": []
    },
    {
      "cell_type": "markdown",
      "metadata": {
        "id": "xKOoV9PAStUm",
        "colab_type": "text"
      },
      "source": [
        "Notice that after cleaning the dataset, there are no null values . We can now use this data in the ML algorithms"
      ]
    },
    {
      "cell_type": "code",
      "metadata": {
        "id": "TnVR82POS4yq",
        "colab_type": "code",
        "colab": {}
      },
      "source": [
        "#No of rows removed,#No of columns removed\n",
        "df.shape[0]-df_filter.shape[0],df.shape[1]-df_filter.shape[1]"
      ],
      "execution_count": null,
      "outputs": []
    },
    {
      "cell_type": "markdown",
      "metadata": {
        "id": "HGj_NC11T45n",
        "colab_type": "text"
      },
      "source": [
        "Percentage of rows dropped after data cleaning"
      ]
    },
    {
      "cell_type": "code",
      "metadata": {
        "id": "uVdsLKbsTipg",
        "colab_type": "code",
        "colab": {}
      },
      "source": [
        "#% of rows removed\n",
        "((df.shape[0]-df_filter.shape[0])/df.shape[0])*100.0"
      ],
      "execution_count": null,
      "outputs": []
    },
    {
      "cell_type": "markdown",
      "metadata": {
        "id": "ci8e4Lhy8Djz",
        "colab_type": "text"
      },
      "source": [
        "**Classifier using KNN**"
      ]
    },
    {
      "cell_type": "code",
      "metadata": {
        "id": "syvWP-l48Civ",
        "colab_type": "code",
        "colab": {}
      },
      "source": [
        "#Load the necessary python libraries\n",
        "import numpy as np\n",
        "import pandas as pd\n",
        "import matplotlib.pyplot as plt\n",
        "plt.style.use('ggplot')"
      ],
      "execution_count": 1,
      "outputs": []
    },
    {
      "cell_type": "code",
      "metadata": {
        "id": "jrmL7KR583Y0",
        "colab_type": "code",
        "colab": {
          "base_uri": "https://localhost:8080/",
          "height": 202
        },
        "outputId": "a29a59be-9d67-4ee5-c149-9b570b649d9e"
      },
      "source": [
        "#Load the dataset\n",
        "\n",
        "\n",
        "#dtypes = {'MAGNITUDE': 'float', 'LAT': 'float', 'LONG': 'float', 'DEPTH_KM': 'float','DT': 'str','IsEarthQuake': 'int'}\n",
        "#parse_dates = ['DT']\n",
        "\n",
        "df = pd.read_csv('earthquakes_final.csv')\n",
        "\n",
        "#Print the first 5 rows of the dataframe.\n",
        "df.head()"
      ],
      "execution_count": 36,
      "outputs": [
        {
          "output_type": "execute_result",
          "data": {
            "text/html": [
              "<div>\n",
              "<style scoped>\n",
              "    .dataframe tbody tr th:only-of-type {\n",
              "        vertical-align: middle;\n",
              "    }\n",
              "\n",
              "    .dataframe tbody tr th {\n",
              "        vertical-align: top;\n",
              "    }\n",
              "\n",
              "    .dataframe thead th {\n",
              "        text-align: right;\n",
              "    }\n",
              "</style>\n",
              "<table border=\"1\" class=\"dataframe\">\n",
              "  <thead>\n",
              "    <tr style=\"text-align: right;\">\n",
              "      <th></th>\n",
              "      <th>YEAR</th>\n",
              "      <th>MONTH</th>\n",
              "      <th>DAY</th>\n",
              "      <th>MAGNITUDE</th>\n",
              "      <th>LAT</th>\n",
              "      <th>LONG</th>\n",
              "      <th>DEPTH_KM</th>\n",
              "      <th>IsEarthQuake</th>\n",
              "    </tr>\n",
              "  </thead>\n",
              "  <tbody>\n",
              "    <tr>\n",
              "      <th>0</th>\n",
              "      <td>1779</td>\n",
              "      <td>1</td>\n",
              "      <td>7</td>\n",
              "      <td>5.200000</td>\n",
              "      <td>74.50</td>\n",
              "      <td>34.6</td>\n",
              "      <td>0.0</td>\n",
              "      <td>1</td>\n",
              "    </tr>\n",
              "    <tr>\n",
              "      <th>1</th>\n",
              "      <td>1780</td>\n",
              "      <td>8</td>\n",
              "      <td>17</td>\n",
              "      <td>5.200000</td>\n",
              "      <td>77.00</td>\n",
              "      <td>35.0</td>\n",
              "      <td>0.0</td>\n",
              "      <td>1</td>\n",
              "    </tr>\n",
              "    <tr>\n",
              "      <th>2</th>\n",
              "      <td>1784</td>\n",
              "      <td>11</td>\n",
              "      <td>1</td>\n",
              "      <td>5.800000</td>\n",
              "      <td>74.50</td>\n",
              "      <td>34.6</td>\n",
              "      <td>0.0</td>\n",
              "      <td>1</td>\n",
              "    </tr>\n",
              "    <tr>\n",
              "      <th>3</th>\n",
              "      <td>1787</td>\n",
              "      <td>6</td>\n",
              "      <td>1</td>\n",
              "      <td>7.800000</td>\n",
              "      <td>89.75</td>\n",
              "      <td>24.5</td>\n",
              "      <td>0.0</td>\n",
              "      <td>1</td>\n",
              "    </tr>\n",
              "    <tr>\n",
              "      <th>4</th>\n",
              "      <td>1792</td>\n",
              "      <td>5</td>\n",
              "      <td>29</td>\n",
              "      <td>4.536804</td>\n",
              "      <td>13.10</td>\n",
              "      <td>80.1</td>\n",
              "      <td>0.0</td>\n",
              "      <td>0</td>\n",
              "    </tr>\n",
              "  </tbody>\n",
              "</table>\n",
              "</div>"
            ],
            "text/plain": [
              "   YEAR  MONTH  DAY  MAGNITUDE    LAT  LONG  DEPTH_KM  IsEarthQuake\n",
              "0  1779      1    7   5.200000  74.50  34.6       0.0             1\n",
              "1  1780      8   17   5.200000  77.00  35.0       0.0             1\n",
              "2  1784     11    1   5.800000  74.50  34.6       0.0             1\n",
              "3  1787      6    1   7.800000  89.75  24.5       0.0             1\n",
              "4  1792      5   29   4.536804  13.10  80.1       0.0             0"
            ]
          },
          "metadata": {
            "tags": []
          },
          "execution_count": 36
        }
      ]
    },
    {
      "cell_type": "code",
      "metadata": {
        "id": "kbzVHoQ3-NMr",
        "colab_type": "code",
        "colab": {
          "base_uri": "https://localhost:8080/",
          "height": 173
        },
        "outputId": "0ea5c5dc-0ad9-441c-92cf-beacebaac7fc"
      },
      "source": [
        "df.dtypes"
      ],
      "execution_count": 29,
      "outputs": [
        {
          "output_type": "execute_result",
          "data": {
            "text/plain": [
              "YEAR              int64\n",
              "MONTH             int64\n",
              "DAY               int64\n",
              "MAGNITUDE       float64\n",
              "LAT             float64\n",
              "LONG            float64\n",
              "DEPTH_KM        float64\n",
              "IsEarthQuake      int64\n",
              "dtype: object"
            ]
          },
          "metadata": {
            "tags": []
          },
          "execution_count": 29
        }
      ]
    },
    {
      "cell_type": "code",
      "metadata": {
        "id": "iRiaO20-aHlx",
        "colab_type": "code",
        "colab": {}
      },
      "source": [
        "# use pd.concat to join the new columns with your original dataframe\n",
        "df = pd.concat([df,pd.get_dummies(df['MONTH'], prefix='MONTH')],axis=1)\n",
        "# now drop the original 'MONTH' column (you don't need it anymore)\n",
        "df.drop(['MONTH'],axis=1, inplace=True)\n"
      ],
      "execution_count": 39,
      "outputs": []
    },
    {
      "cell_type": "code",
      "metadata": {
        "id": "rdaon-QBb8GB",
        "colab_type": "code",
        "colab": {}
      },
      "source": [
        "df = pd.concat([df,pd.get_dummies(df['DAY'], prefix='day')],axis=1)"
      ],
      "execution_count": 38,
      "outputs": []
    },
    {
      "cell_type": "code",
      "metadata": {
        "id": "t_uwT987dmWT",
        "colab_type": "code",
        "colab": {}
      },
      "source": [
        "df.drop(['DAY'],axis=1, inplace=True)"
      ],
      "execution_count": 40,
      "outputs": []
    },
    {
      "cell_type": "code",
      "metadata": {
        "id": "S5H1NtAH9Otu",
        "colab_type": "code",
        "colab": {
          "base_uri": "https://localhost:8080/",
          "height": 34
        },
        "outputId": "37d5e5bc-8f78-428b-ded2-4556a0ee891d"
      },
      "source": [
        "#Let's observe the shape of the dataframe.\n",
        "df.shape"
      ],
      "execution_count": 24,
      "outputs": [
        {
          "output_type": "execute_result",
          "data": {
            "text/plain": [
              "(36900, 19)"
            ]
          },
          "metadata": {
            "tags": []
          },
          "execution_count": 24
        }
      ]
    },
    {
      "cell_type": "code",
      "metadata": {
        "id": "bEM5CwYKauPF",
        "colab_type": "code",
        "colab": {
          "base_uri": "https://localhost:8080/",
          "height": 173
        },
        "outputId": "0b8f0269-f5f1-4dbe-9ba8-618453249334"
      },
      "source": [
        "df.columns"
      ],
      "execution_count": 41,
      "outputs": [
        {
          "output_type": "execute_result",
          "data": {
            "text/plain": [
              "Index(['YEAR', 'MAGNITUDE', 'LAT', 'LONG', 'DEPTH_KM', 'IsEarthQuake', 'day_1',\n",
              "       'day_2', 'day_3', 'day_4', 'day_5', 'day_6', 'day_7', 'day_8', 'day_9',\n",
              "       'day_10', 'day_11', 'day_12', 'day_13', 'day_14', 'day_15', 'day_16',\n",
              "       'day_17', 'day_18', 'day_19', 'day_20', 'day_21', 'day_22', 'day_23',\n",
              "       'day_24', 'day_25', 'day_26', 'day_27', 'day_28', 'day_29', 'day_30',\n",
              "       'day_31', 'MONTH_1', 'MONTH_2', 'MONTH_3', 'MONTH_4', 'MONTH_5',\n",
              "       'MONTH_6', 'MONTH_7', 'MONTH_8', 'MONTH_9', 'MONTH_10', 'MONTH_11',\n",
              "       'MONTH_12'],\n",
              "      dtype='object')"
            ]
          },
          "metadata": {
            "tags": []
          },
          "execution_count": 41
        }
      ]
    },
    {
      "cell_type": "code",
      "metadata": {
        "id": "-bCtIUh-9bw5",
        "colab_type": "code",
        "colab": {}
      },
      "source": [
        "#Let's create numpy arrays for features and target\n",
        "X = df.drop('IsEarthQuake',axis=1).values\n",
        "y = df['IsEarthQuake'].values"
      ],
      "execution_count": 42,
      "outputs": []
    },
    {
      "cell_type": "code",
      "metadata": {
        "id": "k0cQ3QMM9iZE",
        "colab_type": "code",
        "colab": {}
      },
      "source": [
        "#importing train_test_split\n",
        "from sklearn.model_selection import train_test_split"
      ],
      "execution_count": 43,
      "outputs": []
    },
    {
      "cell_type": "code",
      "metadata": {
        "id": "NwXa0Ar49msu",
        "colab_type": "code",
        "colab": {}
      },
      "source": [
        "X_train,X_test,y_train,y_test = train_test_split(X,y,test_size=0.4,random_state=42, stratify=y)"
      ],
      "execution_count": 44,
      "outputs": []
    },
    {
      "cell_type": "code",
      "metadata": {
        "id": "0akJVQ9l9-CR",
        "colab_type": "code",
        "colab": {}
      },
      "source": [
        "#import KNeighborsClassifier\n",
        "from sklearn.neighbors import KNeighborsClassifier\n",
        "\n",
        "#Setup arrays to store training and test accuracies\n",
        "neighbors = np.arange(1,9)\n",
        "train_accuracy =np.empty(len(neighbors))\n",
        "test_accuracy = np.empty(len(neighbors))\n",
        "\n",
        "for i,k in enumerate(neighbors):\n",
        "    #Setup a knn classifier with k neighbors\n",
        "    knn = KNeighborsClassifier(n_neighbors=k)\n",
        "    \n",
        "    #Fit the model\n",
        "    knn.fit(X_train, y_train)\n",
        "    \n",
        "    #Compute accuracy on the training set\n",
        "    train_accuracy[i] = knn.score(X_train, y_train)\n",
        "    \n",
        "    #Compute accuracy on the test set\n",
        "    test_accuracy[i] = knn.score(X_test, y_test) "
      ],
      "execution_count": 45,
      "outputs": []
    },
    {
      "cell_type": "code",
      "metadata": {
        "id": "w_2HXq4getpE",
        "colab_type": "code",
        "colab": {
          "base_uri": "https://localhost:8080/",
          "height": 298
        },
        "outputId": "db2b30c2-b47c-4ba5-f0fe-035c7f4fc830"
      },
      "source": [
        "#Generate plot\n",
        "plt.title('k-NN Varying number of neighbors')\n",
        "plt.plot(neighbors, test_accuracy, label='Testing Accuracy')\n",
        "plt.plot(neighbors, train_accuracy, label='Training accuracy')\n",
        "plt.legend()\n",
        "plt.xlabel('Number of neighbors')\n",
        "plt.ylabel('Accuracy')\n",
        "plt.show()"
      ],
      "execution_count": 46,
      "outputs": [
        {
          "output_type": "display_data",
          "data": {
            "image/png": "[encoded data removed]",
            "text/plain": [
              "<Figure size 432x288 with 1 Axes>"
            ]
          },
          "metadata": {
            "tags": [],
            "needs_background": "light"
          }
        }
      ]
    },
    {
      "cell_type": "code",
      "metadata": {
        "id": "220ZvOdBfn__",
        "colab_type": "code",
        "colab": {
          "base_uri": "https://localhost:8080/",
          "height": 34
        },
        "outputId": "e80c7fcd-6df3-4c29-b966-7506da828964"
      },
      "source": [
        "#We can observe above that we get maximum testing accuracy for k=6. So lets create a KNeighborsClassifier with number of neighbors as 6.\n",
        "\n",
        "#Setup a knn classifier with k neighbors\n",
        "knn = KNeighborsClassifier(n_neighbors=6)\n",
        "#Fit the model\n",
        "knn.fit(X_train,y_train)\n",
        "#Get accuracy. Note: In case of classification algorithms score method represents accuracy.\n",
        "knn.score(X_test,y_test)"
      ],
      "execution_count": 47,
      "outputs": [
        {
          "output_type": "execute_result",
          "data": {
            "text/plain": [
              "0.9105691056910569"
            ]
          },
          "metadata": {
            "tags": []
          },
          "execution_count": 47
        }
      ]
    },
    {
      "cell_type": "markdown",
      "metadata": {
        "id": "gUOxfqu_f_cc",
        "colab_type": "text"
      },
      "source": [
        "Confusion Matrix"
      ]
    },
    {
      "cell_type": "code",
      "metadata": {
        "id": "NqYUPi6Kf-YN",
        "colab_type": "code",
        "colab": {
          "base_uri": "https://localhost:8080/",
          "height": 52
        },
        "outputId": "399ebc2b-b14e-4743-fdfe-ab8667e0cf7f"
      },
      "source": [
        "#import confusion_matrix\n",
        "from sklearn.metrics import confusion_matrix\n",
        "#let us get the predictions using the classifier we had fit above\n",
        "y_pred = knn.predict(X_test)\n",
        "confusion_matrix(y_test,y_pred)"
      ],
      "execution_count": 48,
      "outputs": [
        {
          "output_type": "execute_result",
          "data": {
            "text/plain": [
              "array([[12927,   149],\n",
              "       [ 1171,   513]])"
            ]
          },
          "metadata": {
            "tags": []
          },
          "execution_count": 48
        }
      ]
    },
    {
      "cell_type": "code",
      "metadata": {
        "id": "3DP5FXEegPGZ",
        "colab_type": "code",
        "colab": {
          "base_uri": "https://localhost:8080/",
          "height": 172
        },
        "outputId": "0ba88868-a44f-4478-b3bb-0d257bb5d9d6"
      },
      "source": [
        "pd.crosstab(y_test, y_pred, rownames=['True'], colnames=['Predicted'], margins=True)"
      ],
      "execution_count": 49,
      "outputs": [
        {
          "output_type": "execute_result",
          "data": {
            "text/html": [
              "<div>\n",
              "<style scoped>\n",
              "    .dataframe tbody tr th:only-of-type {\n",
              "        vertical-align: middle;\n",
              "    }\n",
              "\n",
              "    .dataframe tbody tr th {\n",
              "        vertical-align: top;\n",
              "    }\n",
              "\n",
              "    .dataframe thead th {\n",
              "        text-align: right;\n",
              "    }\n",
              "</style>\n",
              "<table border=\"1\" class=\"dataframe\">\n",
              "  <thead>\n",
              "    <tr style=\"text-align: right;\">\n",
              "      <th>Predicted</th>\n",
              "      <th>0</th>\n",
              "      <th>1</th>\n",
              "      <th>All</th>\n",
              "    </tr>\n",
              "    <tr>\n",
              "      <th>True</th>\n",
              "      <th></th>\n",
              "      <th></th>\n",
              "      <th></th>\n",
              "    </tr>\n",
              "  </thead>\n",
              "  <tbody>\n",
              "    <tr>\n",
              "      <th>0</th>\n",
              "      <td>12927</td>\n",
              "      <td>149</td>\n",
              "      <td>13076</td>\n",
              "    </tr>\n",
              "    <tr>\n",
              "      <th>1</th>\n",
              "      <td>1171</td>\n",
              "      <td>513</td>\n",
              "      <td>1684</td>\n",
              "    </tr>\n",
              "    <tr>\n",
              "      <th>All</th>\n",
              "      <td>14098</td>\n",
              "      <td>662</td>\n",
              "      <td>14760</td>\n",
              "    </tr>\n",
              "  </tbody>\n",
              "</table>\n",
              "</div>"
            ],
            "text/plain": [
              "Predicted      0    1    All\n",
              "True                        \n",
              "0          12927  149  13076\n",
              "1           1171  513   1684\n",
              "All        14098  662  14760"
            ]
          },
          "metadata": {
            "tags": []
          },
          "execution_count": 49
        }
      ]
    },
    {
      "cell_type": "markdown",
      "metadata": {
        "id": "QqBck-35gcs5",
        "colab_type": "text"
      },
      "source": [
        "Classification Report"
      ]
    },
    {
      "cell_type": "code",
      "metadata": {
        "id": "bKNjzHwcgbW2",
        "colab_type": "code",
        "colab": {
          "base_uri": "https://localhost:8080/",
          "height": 173
        },
        "outputId": "b551a5c7-430c-4dc0-92f4-4b59f2e7f9dd"
      },
      "source": [
        "#import classification_report\n",
        "from sklearn.metrics import classification_report\n",
        "print(classification_report(y_test,y_pred))"
      ],
      "execution_count": 50,
      "outputs": [
        {
          "output_type": "stream",
          "text": [
            "              precision    recall  f1-score   support\n",
            "\n",
            "           0       0.92      0.99      0.95     13076\n",
            "           1       0.77      0.30      0.44      1684\n",
            "\n",
            "    accuracy                           0.91     14760\n",
            "   macro avg       0.85      0.65      0.69     14760\n",
            "weighted avg       0.90      0.91      0.89     14760\n",
            "\n"
          ],
          "name": "stdout"
        }
      ]
    },
    {
      "cell_type": "markdown",
      "metadata": {
        "id": "uukSqt4zgsJg",
        "colab_type": "text"
      },
      "source": [
        "ROC (Reciever Operating Charecteristic) curve"
      ]
    },
    {
      "cell_type": "code",
      "metadata": {
        "id": "NSsEAc1offKc",
        "colab_type": "code",
        "colab": {}
      },
      "source": [
        "y_pred_proba = knn.predict_proba(X_test)[:,1]\n",
        "from sklearn.metrics import roc_curve\n",
        "fpr, tpr, thresholds = roc_curve(y_test, y_pred_proba)"
      ],
      "execution_count": 51,
      "outputs": []
    },
    {
      "cell_type": "code",
      "metadata": {
        "id": "3tVrj5tFikdc",
        "colab_type": "code",
        "colab": {
          "base_uri": "https://localhost:8080/",
          "height": 298
        },
        "outputId": "597d55d9-9112-4ff2-9546-9ea94403ac10"
      },
      "source": [
        "plt.plot([0,1],[0,1],'k--')\n",
        "plt.plot(fpr,tpr, label='Knn')\n",
        "plt.xlabel('fpr')\n",
        "plt.ylabel('tpr')\n",
        "plt.title('Knn(n_neighbors=7) ROC curve')\n",
        "plt.show()"
      ],
      "execution_count": 52,
      "outputs": [
        {
          "output_type": "display_data",
          "data": {
            "image/png": "[encoded data removed]",
            "text/plain": [
              "<Figure size 432x288 with 1 Axes>"
            ]
          },
          "metadata": {
            "tags": [],
            "needs_background": "light"
          }
        }
      ]
    },
    {
      "cell_type": "code",
      "metadata": {
        "id": "_v4CUIdFit2d",
        "colab_type": "code",
        "colab": {
          "base_uri": "https://localhost:8080/",
          "height": 34
        },
        "outputId": "f5435328-a7c6-4214-bd53-7135b0194ba5"
      },
      "source": [
        "#Area under ROC curve\n",
        "from sklearn.metrics import roc_auc_score\n",
        "roc_auc_score(y_test,y_pred_proba)"
      ],
      "execution_count": 53,
      "outputs": [
        {
          "output_type": "execute_result",
          "data": {
            "text/plain": [
              "0.806457988343679"
            ]
          },
          "metadata": {
            "tags": []
          },
          "execution_count": 53
        }
      ]
    },
    {
      "cell_type": "markdown",
      "metadata": {
        "id": "6j2H1xTJi2PK",
        "colab_type": "text"
      },
      "source": [
        "Cross Validation & Hyperparameter tuning"
      ]
    },
    {
      "cell_type": "code",
      "metadata": {
        "id": "Qa_0aNuEiwV1",
        "colab_type": "code",
        "colab": {
          "base_uri": "https://localhost:8080/",
          "height": 225
        },
        "outputId": "9ef3914e-1e1e-4647-b5cb-8d8e86cd7f03"
      },
      "source": [
        "#import GridSearchCV\n",
        "from sklearn.model_selection import GridSearchCV\n",
        "#In case of classifier like knn the parameter to be tuned is n_neighbors\n",
        "param_grid = {'n_neighbors':np.arange(1,50)}\n",
        "knn = KNeighborsClassifier()\n",
        "knn_cv= GridSearchCV(knn,param_grid,cv=5)\n",
        "knn_cv.fit(X,y)"
      ],
      "execution_count": 54,
      "outputs": [
        {
          "output_type": "execute_result",
          "data": {
            "text/plain": [
              "GridSearchCV(cv=5, error_score=nan,\n",
              "             estimator=KNeighborsClassifier(algorithm='auto', leaf_size=30,\n",
              "                                            metric='minkowski',\n",
              "                                            metric_params=None, n_jobs=None,\n",
              "                                            n_neighbors=5, p=2,\n",
              "                                            weights='uniform'),\n",
              "             iid='deprecated', n_jobs=None,\n",
              "             param_grid={'n_neighbors': array([ 1,  2,  3,  4,  5,  6,  7,  8,  9, 10, 11, 12, 13, 14, 15, 16, 17,\n",
              "       18, 19, 20, 21, 22, 23, 24, 25, 26, 27, 28, 29, 30, 31, 32, 33, 34,\n",
              "       35, 36, 37, 38, 39, 40, 41, 42, 43, 44, 45, 46, 47, 48, 49])},\n",
              "             pre_dispatch='2*n_jobs', refit=True, return_train_score=False,\n",
              "             scoring=None, verbose=0)"
            ]
          },
          "metadata": {
            "tags": []
          },
          "execution_count": 54
        }
      ]
    },
    {
      "cell_type": "code",
      "metadata": {
        "id": "Npw-G0ZkjcmA",
        "colab_type": "code",
        "colab": {
          "base_uri": "https://localhost:8080/",
          "height": 34
        },
        "outputId": "284bb00d-4d94-40c5-9bc3-c1ba11e9d4a9"
      },
      "source": [
        "knn_cv.best_score_"
      ],
      "execution_count": 55,
      "outputs": [
        {
          "output_type": "execute_result",
          "data": {
            "text/plain": [
              "0.7699728997289973"
            ]
          },
          "metadata": {
            "tags": []
          },
          "execution_count": 55
        }
      ]
    },
    {
      "cell_type": "code",
      "metadata": {
        "id": "IjGpWXD_jfaF",
        "colab_type": "code",
        "colab": {
          "base_uri": "https://localhost:8080/",
          "height": 34
        },
        "outputId": "9bab17bb-d6a4-4b16-df36-17b523b9885d"
      },
      "source": [
        "knn_cv.best_params_"
      ],
      "execution_count": 56,
      "outputs": [
        {
          "output_type": "execute_result",
          "data": {
            "text/plain": [
              "{'n_neighbors': 48}"
            ]
          },
          "metadata": {
            "tags": []
          },
          "execution_count": 56
        }
      ]
    },
    {
      "cell_type": "markdown",
      "metadata": {
        "id": "KwM99g0wmN-2",
        "colab_type": "text"
      },
      "source": [
        "**Decision Tree Classifier**"
      ]
    },
    {
      "cell_type": "code",
      "metadata": {
        "id": "n_gGpV2Gjiqe",
        "colab_type": "code",
        "colab": {}
      },
      "source": [
        "from sklearn.tree import DecisionTreeClassifier"
      ],
      "execution_count": 57,
      "outputs": []
    },
    {
      "cell_type": "code",
      "metadata": {
        "id": "JfwPfneNsxjl",
        "colab_type": "code",
        "colab": {}
      },
      "source": [
        "#Setup arrays to store training and test accuracies\n",
        "pre_prune_depth_list= np.arange(start=3, stop=50, step=2)\n",
        "train_accuracy =np.empty(len(pre_prune_depth_list))\n",
        "test_accuracy = np.empty(len(pre_prune_depth_list))\n",
        "\n",
        "for i,ppd in enumerate(pre_prune_depth_list):\n",
        "    #Setup a DecisionTreeClassifier classifier with max_depth\n",
        "    clf = DecisionTreeClassifier(criterion='entropy', max_depth=ppd, random_state=0)\n",
        "\n",
        "    \n",
        "    #Fit the model\n",
        "    clf.fit(X_train, y_train)\n",
        "    \n",
        "    #Compute accuracy on the training set\n",
        "    train_accuracy[i] = clf.score(X_train, y_train)\n",
        "    \n",
        "    #Compute accuracy on the test set\n",
        "    test_accuracy[i] = clf.score(X_test, y_test) "
      ],
      "execution_count": 62,
      "outputs": []
    },
    {
      "cell_type": "code",
      "metadata": {
        "id": "s-j8wLAQuD6R",
        "colab_type": "code",
        "colab": {
          "base_uri": "https://localhost:8080/",
          "height": 298
        },
        "outputId": "0ea7f39a-31df-46c8-f2da-26a2051a9775"
      },
      "source": [
        "#Generate plot\n",
        "plt.title('Decision Tree Varying number of max_depth')\n",
        "plt.plot(pre_prune_depth_list, test_accuracy, label='Testing Accuracy')\n",
        "plt.plot(pre_prune_depth_list, train_accuracy, label='Training accuracy')\n",
        "plt.legend()\n",
        "plt.xlabel('Pre-prune depth')\n",
        "plt.ylabel('Accuracy')\n",
        "plt.show()"
      ],
      "execution_count": 65,
      "outputs": [
        {
          "output_type": "display_data",
          "data": {
            "image/png": "[encoded data removed]",
            "text/plain": [
              "<Figure size 432x288 with 1 Axes>"
            ]
          },
          "metadata": {
            "tags": [],
            "needs_background": "light"
          }
        }
      ]
    },
    {
      "cell_type": "code",
      "metadata": {
        "id": "jQ_l6kX1vQXB",
        "colab_type": "code",
        "colab": {
          "base_uri": "https://localhost:8080/",
          "height": 34
        },
        "outputId": "5fc68fd9-dcfa-45af-c225-219f6796cd9a"
      },
      "source": [
        "#We can observe above that we get maximum testing accuracy irrespective of max_depth\n",
        "#Setup a DecisionTreeClassifier classifier with max_depth=3\n",
        "clf = DecisionTreeClassifier(criterion='entropy', max_depth=3, random_state=0)\n",
        "#Fit the model\n",
        "clf.fit(X_train,y_train)\n",
        "#Get accuracy. Note: In case of classification algorithms score method represents accuracy.\n",
        "clf.score(X_test,y_test)"
      ],
      "execution_count": 66,
      "outputs": [
        {
          "output_type": "execute_result",
          "data": {
            "text/plain": [
              "1.0"
            ]
          },
          "metadata": {
            "tags": []
          },
          "execution_count": 66
        }
      ]
    },
    {
      "cell_type": "markdown",
      "metadata": {
        "id": "dOy7A226v-RV",
        "colab_type": "text"
      },
      "source": [
        "Confusion Matrix"
      ]
    },
    {
      "cell_type": "code",
      "metadata": {
        "id": "4zq04jQRvqAt",
        "colab_type": "code",
        "colab": {
          "base_uri": "https://localhost:8080/",
          "height": 52
        },
        "outputId": "d2a9a3fd-3acd-4a6c-dccb-aed361a90874"
      },
      "source": [
        "y_pred = clf.predict(X_test)\n",
        "confusion_matrix(y_test,y_pred)"
      ],
      "execution_count": 67,
      "outputs": [
        {
          "output_type": "execute_result",
          "data": {
            "text/plain": [
              "array([[13076,     0],\n",
              "       [    0,  1684]])"
            ]
          },
          "metadata": {
            "tags": []
          },
          "execution_count": 67
        }
      ]
    },
    {
      "cell_type": "code",
      "metadata": {
        "id": "v0Zf6Q8owJfv",
        "colab_type": "code",
        "colab": {
          "base_uri": "https://localhost:8080/",
          "height": 172
        },
        "outputId": "a34a1206-536a-4d72-99a1-1c0f12ba9be2"
      },
      "source": [
        "pd.crosstab(y_test, y_pred, rownames=['True'], colnames=['Predicted'], margins=True)"
      ],
      "execution_count": 68,
      "outputs": [
        {
          "output_type": "execute_result",
          "data": {
            "text/html": [
              "<div>\n",
              "<style scoped>\n",
              "    .dataframe tbody tr th:only-of-type {\n",
              "        vertical-align: middle;\n",
              "    }\n",
              "\n",
              "    .dataframe tbody tr th {\n",
              "        vertical-align: top;\n",
              "    }\n",
              "\n",
              "    .dataframe thead th {\n",
              "        text-align: right;\n",
              "    }\n",
              "</style>\n",
              "<table border=\"1\" class=\"dataframe\">\n",
              "  <thead>\n",
              "    <tr style=\"text-align: right;\">\n",
              "      <th>Predicted</th>\n",
              "      <th>0</th>\n",
              "      <th>1</th>\n",
              "      <th>All</th>\n",
              "    </tr>\n",
              "    <tr>\n",
              "      <th>True</th>\n",
              "      <th></th>\n",
              "      <th></th>\n",
              "      <th></th>\n",
              "    </tr>\n",
              "  </thead>\n",
              "  <tbody>\n",
              "    <tr>\n",
              "      <th>0</th>\n",
              "      <td>13076</td>\n",
              "      <td>0</td>\n",
              "      <td>13076</td>\n",
              "    </tr>\n",
              "    <tr>\n",
              "      <th>1</th>\n",
              "      <td>0</td>\n",
              "      <td>1684</td>\n",
              "      <td>1684</td>\n",
              "    </tr>\n",
              "    <tr>\n",
              "      <th>All</th>\n",
              "      <td>13076</td>\n",
              "      <td>1684</td>\n",
              "      <td>14760</td>\n",
              "    </tr>\n",
              "  </tbody>\n",
              "</table>\n",
              "</div>"
            ],
            "text/plain": [
              "Predicted      0     1    All\n",
              "True                         \n",
              "0          13076     0  13076\n",
              "1              0  1684   1684\n",
              "All        13076  1684  14760"
            ]
          },
          "metadata": {
            "tags": []
          },
          "execution_count": 68
        }
      ]
    },
    {
      "cell_type": "markdown",
      "metadata": {
        "id": "1Z2x5dg-wRMP",
        "colab_type": "text"
      },
      "source": [
        "Classification Report"
      ]
    },
    {
      "cell_type": "code",
      "metadata": {
        "id": "XZor-oihwPdF",
        "colab_type": "code",
        "colab": {
          "base_uri": "https://localhost:8080/",
          "height": 173
        },
        "outputId": "fd9ea7fd-855f-49b1-ee75-0e17d225d5cd"
      },
      "source": [
        "print(classification_report(y_test,y_pred))"
      ],
      "execution_count": 69,
      "outputs": [
        {
          "output_type": "stream",
          "text": [
            "              precision    recall  f1-score   support\n",
            "\n",
            "           0       1.00      1.00      1.00     13076\n",
            "           1       1.00      1.00      1.00      1684\n",
            "\n",
            "    accuracy                           1.00     14760\n",
            "   macro avg       1.00      1.00      1.00     14760\n",
            "weighted avg       1.00      1.00      1.00     14760\n",
            "\n"
          ],
          "name": "stdout"
        }
      ]
    },
    {
      "cell_type": "markdown",
      "metadata": {
        "id": "dVbqO2qvwbWP",
        "colab_type": "text"
      },
      "source": [
        "ROC (Reciever Operating Charecteristic) curve"
      ]
    },
    {
      "cell_type": "code",
      "metadata": {
        "id": "kxX-dk5GwOT0",
        "colab_type": "code",
        "colab": {}
      },
      "source": [
        "y_pred_proba = clf.predict_proba(X_test)[:,1]"
      ],
      "execution_count": 70,
      "outputs": []
    },
    {
      "cell_type": "code",
      "metadata": {
        "id": "c3RW32kRwgb8",
        "colab_type": "code",
        "colab": {
          "base_uri": "https://localhost:8080/",
          "height": 298
        },
        "outputId": "3563bc1f-68ac-4268-c491-1fff81e38653"
      },
      "source": [
        "fpr, tpr, thresholds = roc_curve(y_test, y_pred_proba)\n",
        "plt.plot([0,1],[0,1],'k--')\n",
        "plt.plot(fpr,tpr, label='Knn')\n",
        "plt.xlabel('fpr')\n",
        "plt.ylabel('tpr')\n",
        "plt.title('Decision Tree ROC curve')\n",
        "plt.show()"
      ],
      "execution_count": 71,
      "outputs": [
        {
          "output_type": "display_data",
          "data": {
            "image/png": "[encoded data removed]",
            "text/plain": [
              "<Figure size 432x288 with 1 Axes>"
            ]
          },
          "metadata": {
            "tags": [],
            "needs_background": "light"
          }
        }
      ]
    },
    {
      "cell_type": "code",
      "metadata": {
        "id": "qKlvXv5fwtSu",
        "colab_type": "code",
        "colab": {
          "base_uri": "https://localhost:8080/",
          "height": 34
        },
        "outputId": "39497cb0-53cc-4074-a3b1-543dd3245725"
      },
      "source": [
        "roc_auc_score(y_test,y_pred_proba)"
      ],
      "execution_count": 72,
      "outputs": [
        {
          "output_type": "execute_result",
          "data": {
            "text/plain": [
              "1.0"
            ]
          },
          "metadata": {
            "tags": []
          },
          "execution_count": 72
        }
      ]
    },
    {
      "cell_type": "markdown",
      "metadata": {
        "id": "KLSkT3gZwzoU",
        "colab_type": "text"
      },
      "source": [
        "Cross Validation & Hyperparameter tuning\n"
      ]
    },
    {
      "cell_type": "code",
      "metadata": {
        "id": "OG0J1NGRw1Tf",
        "colab_type": "code",
        "colab": {
          "base_uri": "https://localhost:8080/",
          "height": 346
        },
        "outputId": "edc5014b-003e-486c-f38b-5f6c4326e64f"
      },
      "source": [
        "#In case of classifier like knn the parameter to be tuned is n_neighbors\n",
        "param_grid = {'max_depth':np.arange(1,50)}\n",
        "\n",
        "clf=DecisionTreeClassifier()\n",
        "clf_cv= GridSearchCV(clf,param_grid,cv=5)\n",
        "clf_cv.fit(X,y)"
      ],
      "execution_count": 76,
      "outputs": [
        {
          "output_type": "execute_result",
          "data": {
            "text/plain": [
              "GridSearchCV(cv=5, error_score=nan,\n",
              "             estimator=DecisionTreeClassifier(ccp_alpha=0.0, class_weight=None,\n",
              "                                              criterion='gini', max_depth=None,\n",
              "                                              max_features=None,\n",
              "                                              max_leaf_nodes=None,\n",
              "                                              min_impurity_decrease=0.0,\n",
              "                                              min_impurity_split=None,\n",
              "                                              min_samples_leaf=1,\n",
              "                                              min_samples_split=2,\n",
              "                                              min_weight_fraction_leaf=0.0,\n",
              "                                              presort='deprecated',\n",
              "                                              random_state=None,\n",
              "                                              splitter='best'),\n",
              "             iid='deprecated', n_jobs=None,\n",
              "             param_grid={'max_depth': array([ 1,  2,  3,  4,  5,  6,  7,  8,  9, 10, 11, 12, 13, 14, 15, 16, 17,\n",
              "       18, 19, 20, 21, 22, 23, 24, 25, 26, 27, 28, 29, 30, 31, 32, 33, 34,\n",
              "       35, 36, 37, 38, 39, 40, 41, 42, 43, 44, 45, 46, 47, 48, 49])},\n",
              "             pre_dispatch='2*n_jobs', refit=True, return_train_score=False,\n",
              "             scoring=None, verbose=0)"
            ]
          },
          "metadata": {
            "tags": []
          },
          "execution_count": 76
        }
      ]
    },
    {
      "cell_type": "code",
      "metadata": {
        "id": "H0ZRvykmxMq9",
        "colab_type": "code",
        "colab": {
          "base_uri": "https://localhost:8080/",
          "height": 34
        },
        "outputId": "b34c31fe-772f-4d57-e778-cc77ed10eb45"
      },
      "source": [
        "clf_cv.best_score_"
      ],
      "execution_count": 77,
      "outputs": [
        {
          "output_type": "execute_result",
          "data": {
            "text/plain": [
              "1.0"
            ]
          },
          "metadata": {
            "tags": []
          },
          "execution_count": 77
        }
      ]
    },
    {
      "cell_type": "code",
      "metadata": {
        "id": "DKzlJCdExRuc",
        "colab_type": "code",
        "colab": {
          "base_uri": "https://localhost:8080/",
          "height": 34
        },
        "outputId": "0d2b6d24-5e6c-4b79-9652-01ef607ba1cb"
      },
      "source": [
        "clf_cv.best_params_"
      ],
      "execution_count": 78,
      "outputs": [
        {
          "output_type": "execute_result",
          "data": {
            "text/plain": [
              "{'max_depth': 1}"
            ]
          },
          "metadata": {
            "tags": []
          },
          "execution_count": 78
        }
      ]
    }
  ]
}