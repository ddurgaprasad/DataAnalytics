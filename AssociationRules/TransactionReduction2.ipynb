{
  "nbformat": 4,
  "nbformat_minor": 0,
  "metadata": {
    "colab": {
      "name": "TransactionReduction.ipynb",
      "provenance": [],
      "collapsed_sections": [
        "JlI5jFVDyFKA"
      ],
      "toc_visible": true
    },
    "kernelspec": {
      "name": "python3",
      "display_name": "Python 3"
    }
  },
  "cells": [
    {
      "cell_type": "code",
      "metadata": {
        "id": "j5SJZMjocAVq"
      },
      "source": [
        "import numpy as np\n",
        "import pandas as pd"
      ],
      "execution_count": 9,
      "outputs": []
    },
    {
      "cell_type": "markdown",
      "metadata": {
        "id": "00uEXoFCcKHN"
      },
      "source": [
        "http://ethen8181.github.io/machine-learning/association_rule/apriori.html"
      ]
    },
    {
      "cell_type": "markdown",
      "metadata": {
        "id": "JlI5jFVDyFKA"
      },
      "source": [
        "# Load SPFM data and conver it to Panda dataframe"
      ]
    },
    {
      "cell_type": "code",
      "metadata": {
        "id": "x4eSp5mrijBE",
        "outputId": "3033d3a4-bd2a-4707-c38f-5ebd382c089d",
        "colab": {
          "base_uri": "https://localhost:8080/",
          "height": 283
        }
      },
      "source": [
        "%%sh\n",
        "wget http://www.philippe-fournier-viger.com/spmf/datasets/SIGN.txt"
      ],
      "execution_count": null,
      "outputs": [
        {
          "output_type": "stream",
          "text": [
            "--2020-10-18 01:39:53--  http://www.philippe-fournier-viger.com/spmf/datasets/SIGN.txt\n",
            "Resolving www.philippe-fournier-viger.com (www.philippe-fournier-viger.com)... 74.208.236.167\n",
            "Connecting to www.philippe-fournier-viger.com (www.philippe-fournier-viger.com)|74.208.236.167|:80... connected.\n",
            "HTTP request sent, awaiting response... 200 OK\n",
            "Length: 236727 (231K) [text/plain]\n",
            "Saving to: ‘SIGN.txt’\n",
            "\n",
            "     0K .......... .......... .......... .......... .......... 21%  607K 0s\n",
            "    50K .......... .......... .......... .......... .......... 43% 1.18M 0s\n",
            "   100K .......... .......... .......... .......... .......... 64% 2.18M 0s\n",
            "   150K .......... .......... .......... .......... .......... 86% 2.59M 0s\n",
            "   200K .......... .......... .......... .                    100% 3.56M=0.2s\n",
            "\n",
            "2020-10-18 01:39:54 (1.30 MB/s) - ‘SIGN.txt’ saved [236727/236727]\n",
            "\n"
          ],
          "name": "stderr"
        }
      ]
    },
    {
      "cell_type": "code",
      "metadata": {
        "id": "k7skxXNthjz3"
      },
      "source": [
        "spfm_data='SIGN.txt'"
      ],
      "execution_count": null,
      "outputs": []
    },
    {
      "cell_type": "code",
      "metadata": {
        "id": "XcS8-6CbjNlb"
      },
      "source": [
        "#Read SPFM raw data\n",
        "f = open(spfm_data, 'r+')\n",
        "raw_lines = [line.strip() for line in f.readlines()]\n",
        "f.close()"
      ],
      "execution_count": null,
      "outputs": []
    },
    {
      "cell_type": "code",
      "metadata": {
        "id": "KfG0UBlsjvfE"
      },
      "source": [
        "#Seperator is -1 and -2 is end of line -->convert into CSV \n",
        "itemset_dict={}\n",
        "i=0\n",
        "max_cols=0\n",
        "for line in raw_lines:\n",
        "  itemset=[int(item.strip()) for item in line.split('-1')[:-1] ]\n",
        "  itemset_dict[i]=itemset\n",
        "  if max_cols < len(itemset):\n",
        "    max_cols=len(itemset)\n",
        "  i=i+1"
      ],
      "execution_count": null,
      "outputs": []
    },
    {
      "cell_type": "code",
      "metadata": {
        "id": "i0KOqcdNrm-U"
      },
      "source": [
        "#Make each row of same number of columns by padding zeros upto max_columns\n",
        "from itertools import repeat\n",
        "for key in itemset_dict:\n",
        "  itemset_dict[key].extend(repeat(0, max_cols - len(itemset_dict[key])))"
      ],
      "execution_count": null,
      "outputs": []
    },
    {
      "cell_type": "code",
      "metadata": {
        "id": "pFl3he0ntF9t",
        "outputId": "4e257c40-87d7-45f7-834d-62a234651e07",
        "colab": {
          "base_uri": "https://localhost:8080/",
          "height": 34
        }
      },
      "source": [
        "len(itemset_dict[1])"
      ],
      "execution_count": null,
      "outputs": [
        {
          "output_type": "execute_result",
          "data": {
            "text/plain": [
              "94"
            ]
          },
          "metadata": {
            "tags": []
          },
          "execution_count": 7
        }
      ]
    },
    {
      "cell_type": "code",
      "metadata": {
        "id": "eTmM3UlTugL5"
      },
      "source": [
        "itemset_list=[]\n",
        "for key in itemset_dict:\n",
        "  itemset_list.append(itemset_dict[key])"
      ],
      "execution_count": null,
      "outputs": []
    },
    {
      "cell_type": "code",
      "metadata": {
        "id": "mMJXeqSZxOxB"
      },
      "source": [
        "df=pd.DataFrame(np.array(itemset_list)).head()"
      ],
      "execution_count": null,
      "outputs": []
    },
    {
      "cell_type": "markdown",
      "metadata": {
        "id": "oYx43Elayp2b"
      },
      "source": [
        "**Get unique items from all transactions**"
      ]
    },
    {
      "cell_type": "code",
      "metadata": {
        "id": "Oa7ZP1KTKhCa"
      },
      "source": [
        "from itertools import chain \n",
        "\n",
        "item_matrix=np.array(itemset_list)\n",
        "unique_items=list(set(chain(*(item_matrix))))"
      ],
      "execution_count": null,
      "outputs": []
    },
    {
      "cell_type": "code",
      "metadata": {
        "id": "riJNHpnaKvdF"
      },
      "source": [
        "#Number of items matching with Item count provided at http://www.philippe-fournier-viger.com/spmf/index.php?link=datasets.php\n",
        "unique_items.remove(0)\n",
        "len(unique_items)"
      ],
      "execution_count": null,
      "outputs": []
    },
    {
      "cell_type": "markdown",
      "metadata": {
        "id": "M72omCKwMar9"
      },
      "source": [
        "**Bit Array Matrix**"
      ]
    },
    {
      "cell_type": "code",
      "metadata": {
        "id": "uRUKCG71Z9co"
      },
      "source": [
        "def get"
      ],
      "execution_count": null,
      "outputs": []
    },
    {
      "cell_type": "code",
      "metadata": {
        "id": "qTdhMPGZdSkq",
        "outputId": "7cc22d9d-f1d7-40f2-b0d5-16f7ed5aef8e",
        "colab": {
          "base_uri": "https://localhost:8080/",
          "height": 212
        }
      },
      "source": [
        "from sklearn.feature_extraction.text import CountVectorizer\n",
        "corpus =['I1,I2,I5',\n",
        "'I2,I4',\n",
        "'I2,I3',\n",
        "'I1,I2,I4',\n",
        "'I1,I3',\n",
        "'I2,I3',\n",
        "'I1,I3',\n",
        "'I1,I2,I3,I5',\n",
        "'I1,I2,I3']\n",
        "vectorizer = CountVectorizer()\n",
        "X = vectorizer.fit_transform(corpus)\n",
        "print(vectorizer.get_feature_names())\n",
        "index_col=['T'+str(i+1)  for i in range(len(corpus))]\n",
        "print(index_col)\n",
        "print(X.toarray())"
      ],
      "execution_count": 1,
      "outputs": [
        {
          "output_type": "stream",
          "text": [
            "['i1', 'i2', 'i3', 'i4', 'i5']\n",
            "['T1', 'T2', 'T3', 'T4', 'T5', 'T6', 'T7', 'T8', 'T9']\n",
            "[[1 1 0 0 1]\n",
            " [0 1 0 1 0]\n",
            " [0 1 1 0 0]\n",
            " [1 1 0 1 0]\n",
            " [1 0 1 0 0]\n",
            " [0 1 1 0 0]\n",
            " [1 0 1 0 0]\n",
            " [1 1 1 0 1]\n",
            " [1 1 1 0 0]]\n"
          ],
          "name": "stdout"
        }
      ]
    },
    {
      "cell_type": "code",
      "metadata": {
        "id": "a-_uTVa0ZsD_"
      },
      "source": [
        "k=1\n",
        "C={}\n",
        "L={}"
      ],
      "execution_count": 11,
      "outputs": []
    },
    {
      "cell_type": "code",
      "metadata": {
        "id": "WTvFeDpci6Qt",
        "outputId": "dacc81cf-0717-4fdd-d5bf-19339253e7ee",
        "colab": {
          "base_uri": "https://localhost:8080/",
          "height": 317
        }
      },
      "source": [
        "C[k] = pd.DataFrame(data=X.toarray(), index=index_col ,columns=vectorizer.get_feature_names())\n",
        "C[k]"
      ],
      "execution_count": 12,
      "outputs": [
        {
          "output_type": "execute_result",
          "data": {
            "text/html": [
              "<div>\n",
              "<style scoped>\n",
              "    .dataframe tbody tr th:only-of-type {\n",
              "        vertical-align: middle;\n",
              "    }\n",
              "\n",
              "    .dataframe tbody tr th {\n",
              "        vertical-align: top;\n",
              "    }\n",
              "\n",
              "    .dataframe thead th {\n",
              "        text-align: right;\n",
              "    }\n",
              "</style>\n",
              "<table border=\"1\" class=\"dataframe\">\n",
              "  <thead>\n",
              "    <tr style=\"text-align: right;\">\n",
              "      <th></th>\n",
              "      <th>i1</th>\n",
              "      <th>i2</th>\n",
              "      <th>i3</th>\n",
              "      <th>i4</th>\n",
              "      <th>i5</th>\n",
              "    </tr>\n",
              "  </thead>\n",
              "  <tbody>\n",
              "    <tr>\n",
              "      <th>T1</th>\n",
              "      <td>1</td>\n",
              "      <td>1</td>\n",
              "      <td>0</td>\n",
              "      <td>0</td>\n",
              "      <td>1</td>\n",
              "    </tr>\n",
              "    <tr>\n",
              "      <th>T2</th>\n",
              "      <td>0</td>\n",
              "      <td>1</td>\n",
              "      <td>0</td>\n",
              "      <td>1</td>\n",
              "      <td>0</td>\n",
              "    </tr>\n",
              "    <tr>\n",
              "      <th>T3</th>\n",
              "      <td>0</td>\n",
              "      <td>1</td>\n",
              "      <td>1</td>\n",
              "      <td>0</td>\n",
              "      <td>0</td>\n",
              "    </tr>\n",
              "    <tr>\n",
              "      <th>T4</th>\n",
              "      <td>1</td>\n",
              "      <td>1</td>\n",
              "      <td>0</td>\n",
              "      <td>1</td>\n",
              "      <td>0</td>\n",
              "    </tr>\n",
              "    <tr>\n",
              "      <th>T5</th>\n",
              "      <td>1</td>\n",
              "      <td>0</td>\n",
              "      <td>1</td>\n",
              "      <td>0</td>\n",
              "      <td>0</td>\n",
              "    </tr>\n",
              "    <tr>\n",
              "      <th>T6</th>\n",
              "      <td>0</td>\n",
              "      <td>1</td>\n",
              "      <td>1</td>\n",
              "      <td>0</td>\n",
              "      <td>0</td>\n",
              "    </tr>\n",
              "    <tr>\n",
              "      <th>T7</th>\n",
              "      <td>1</td>\n",
              "      <td>0</td>\n",
              "      <td>1</td>\n",
              "      <td>0</td>\n",
              "      <td>0</td>\n",
              "    </tr>\n",
              "    <tr>\n",
              "      <th>T8</th>\n",
              "      <td>1</td>\n",
              "      <td>1</td>\n",
              "      <td>1</td>\n",
              "      <td>0</td>\n",
              "      <td>1</td>\n",
              "    </tr>\n",
              "    <tr>\n",
              "      <th>T9</th>\n",
              "      <td>1</td>\n",
              "      <td>1</td>\n",
              "      <td>1</td>\n",
              "      <td>0</td>\n",
              "      <td>0</td>\n",
              "    </tr>\n",
              "  </tbody>\n",
              "</table>\n",
              "</div>"
            ],
            "text/plain": [
              "    i1  i2  i3  i4  i5\n",
              "T1   1   1   0   0   1\n",
              "T2   0   1   0   1   0\n",
              "T3   0   1   1   0   0\n",
              "T4   1   1   0   1   0\n",
              "T5   1   0   1   0   0\n",
              "T6   0   1   1   0   0\n",
              "T7   1   0   1   0   0\n",
              "T8   1   1   1   0   1\n",
              "T9   1   1   1   0   0"
            ]
          },
          "metadata": {
            "tags": []
          },
          "execution_count": 12
        }
      ]
    },
    {
      "cell_type": "code",
      "metadata": {
        "id": "0alYCFW5W-A9",
        "outputId": "f191d076-7c50-4de3-a5fa-63d837b05bee",
        "colab": {
          "base_uri": "https://localhost:8080/",
          "height": 377
        }
      },
      "source": [
        "s=C[k].reset_index().melt('index')\n",
        "pd.crosstab(index=s['index'],columns=s.variable,values=s.value,aggfunc='sum',margins=True)"
      ],
      "execution_count": 13,
      "outputs": [
        {
          "output_type": "execute_result",
          "data": {
            "text/html": [
              "<div>\n",
              "<style scoped>\n",
              "    .dataframe tbody tr th:only-of-type {\n",
              "        vertical-align: middle;\n",
              "    }\n",
              "\n",
              "    .dataframe tbody tr th {\n",
              "        vertical-align: top;\n",
              "    }\n",
              "\n",
              "    .dataframe thead th {\n",
              "        text-align: right;\n",
              "    }\n",
              "</style>\n",
              "<table border=\"1\" class=\"dataframe\">\n",
              "  <thead>\n",
              "    <tr style=\"text-align: right;\">\n",
              "      <th>variable</th>\n",
              "      <th>i1</th>\n",
              "      <th>i2</th>\n",
              "      <th>i3</th>\n",
              "      <th>i4</th>\n",
              "      <th>i5</th>\n",
              "      <th>All</th>\n",
              "    </tr>\n",
              "    <tr>\n",
              "      <th>index</th>\n",
              "      <th></th>\n",
              "      <th></th>\n",
              "      <th></th>\n",
              "      <th></th>\n",
              "      <th></th>\n",
              "      <th></th>\n",
              "    </tr>\n",
              "  </thead>\n",
              "  <tbody>\n",
              "    <tr>\n",
              "      <th>T1</th>\n",
              "      <td>1</td>\n",
              "      <td>1</td>\n",
              "      <td>0</td>\n",
              "      <td>0</td>\n",
              "      <td>1</td>\n",
              "      <td>3</td>\n",
              "    </tr>\n",
              "    <tr>\n",
              "      <th>T2</th>\n",
              "      <td>0</td>\n",
              "      <td>1</td>\n",
              "      <td>0</td>\n",
              "      <td>1</td>\n",
              "      <td>0</td>\n",
              "      <td>2</td>\n",
              "    </tr>\n",
              "    <tr>\n",
              "      <th>T3</th>\n",
              "      <td>0</td>\n",
              "      <td>1</td>\n",
              "      <td>1</td>\n",
              "      <td>0</td>\n",
              "      <td>0</td>\n",
              "      <td>2</td>\n",
              "    </tr>\n",
              "    <tr>\n",
              "      <th>T4</th>\n",
              "      <td>1</td>\n",
              "      <td>1</td>\n",
              "      <td>0</td>\n",
              "      <td>1</td>\n",
              "      <td>0</td>\n",
              "      <td>3</td>\n",
              "    </tr>\n",
              "    <tr>\n",
              "      <th>T5</th>\n",
              "      <td>1</td>\n",
              "      <td>0</td>\n",
              "      <td>1</td>\n",
              "      <td>0</td>\n",
              "      <td>0</td>\n",
              "      <td>2</td>\n",
              "    </tr>\n",
              "    <tr>\n",
              "      <th>T6</th>\n",
              "      <td>0</td>\n",
              "      <td>1</td>\n",
              "      <td>1</td>\n",
              "      <td>0</td>\n",
              "      <td>0</td>\n",
              "      <td>2</td>\n",
              "    </tr>\n",
              "    <tr>\n",
              "      <th>T7</th>\n",
              "      <td>1</td>\n",
              "      <td>0</td>\n",
              "      <td>1</td>\n",
              "      <td>0</td>\n",
              "      <td>0</td>\n",
              "      <td>2</td>\n",
              "    </tr>\n",
              "    <tr>\n",
              "      <th>T8</th>\n",
              "      <td>1</td>\n",
              "      <td>1</td>\n",
              "      <td>1</td>\n",
              "      <td>0</td>\n",
              "      <td>1</td>\n",
              "      <td>4</td>\n",
              "    </tr>\n",
              "    <tr>\n",
              "      <th>T9</th>\n",
              "      <td>1</td>\n",
              "      <td>1</td>\n",
              "      <td>1</td>\n",
              "      <td>0</td>\n",
              "      <td>0</td>\n",
              "      <td>3</td>\n",
              "    </tr>\n",
              "    <tr>\n",
              "      <th>All</th>\n",
              "      <td>6</td>\n",
              "      <td>7</td>\n",
              "      <td>6</td>\n",
              "      <td>2</td>\n",
              "      <td>2</td>\n",
              "      <td>23</td>\n",
              "    </tr>\n",
              "  </tbody>\n",
              "</table>\n",
              "</div>"
            ],
            "text/plain": [
              "variable  i1  i2  i3  i4  i5  All\n",
              "index                            \n",
              "T1         1   1   0   0   1    3\n",
              "T2         0   1   0   1   0    2\n",
              "T3         0   1   1   0   0    2\n",
              "T4         1   1   0   1   0    3\n",
              "T5         1   0   1   0   0    2\n",
              "T6         0   1   1   0   0    2\n",
              "T7         1   0   1   0   0    2\n",
              "T8         1   1   1   0   1    4\n",
              "T9         1   1   1   0   0    3\n",
              "All        6   7   6   2   2   23"
            ]
          },
          "metadata": {
            "tags": []
          },
          "execution_count": 13
        }
      ]
    },
    {
      "cell_type": "code",
      "metadata": {
        "id": "R6tGdxr6dNag",
        "outputId": "97de3da5-4432-45de-c1c1-d8ce6fe22ea1",
        "colab": {
          "base_uri": "https://localhost:8080/",
          "height": 34
        }
      },
      "source": [
        "type( pd.crosstab(index=s['index'],columns=s.variable,values=s.value,aggfunc='sum',margins=True) )"
      ],
      "execution_count": 14,
      "outputs": [
        {
          "output_type": "execute_result",
          "data": {
            "text/plain": [
              "pandas.core.frame.DataFrame"
            ]
          },
          "metadata": {
            "tags": []
          },
          "execution_count": 14
        }
      ]
    },
    {
      "cell_type": "code",
      "metadata": {
        "id": "MFHNjyogdssM",
        "outputId": "cd747a48-e37b-4a1e-d60f-be292a80d4e2",
        "colab": {
          "base_uri": "https://localhost:8080/",
          "height": 317
        }
      },
      "source": [
        "min_sup=2\n",
        "L[k]=C[k].loc[:, (C[k] .sum(axis=0) >= min_sup)]  #Sum of columns is greater than minimum support\n",
        "L[k]=L[k][L[k].sum(axis=1) >= min_sup]            #Sum of rows is greater than minimum support\n",
        "L[k]"
      ],
      "execution_count": null,
      "outputs": [
        {
          "output_type": "execute_result",
          "data": {
            "text/html": [
              "<div>\n",
              "<style scoped>\n",
              "    .dataframe tbody tr th:only-of-type {\n",
              "        vertical-align: middle;\n",
              "    }\n",
              "\n",
              "    .dataframe tbody tr th {\n",
              "        vertical-align: top;\n",
              "    }\n",
              "\n",
              "    .dataframe thead th {\n",
              "        text-align: right;\n",
              "    }\n",
              "</style>\n",
              "<table border=\"1\" class=\"dataframe\">\n",
              "  <thead>\n",
              "    <tr style=\"text-align: right;\">\n",
              "      <th></th>\n",
              "      <th>i1</th>\n",
              "      <th>i2</th>\n",
              "      <th>i3</th>\n",
              "      <th>i4</th>\n",
              "      <th>i5</th>\n",
              "    </tr>\n",
              "  </thead>\n",
              "  <tbody>\n",
              "    <tr>\n",
              "      <th>T1</th>\n",
              "      <td>1</td>\n",
              "      <td>1</td>\n",
              "      <td>0</td>\n",
              "      <td>0</td>\n",
              "      <td>1</td>\n",
              "    </tr>\n",
              "    <tr>\n",
              "      <th>T2</th>\n",
              "      <td>0</td>\n",
              "      <td>1</td>\n",
              "      <td>0</td>\n",
              "      <td>1</td>\n",
              "      <td>0</td>\n",
              "    </tr>\n",
              "    <tr>\n",
              "      <th>T3</th>\n",
              "      <td>0</td>\n",
              "      <td>1</td>\n",
              "      <td>1</td>\n",
              "      <td>0</td>\n",
              "      <td>0</td>\n",
              "    </tr>\n",
              "    <tr>\n",
              "      <th>T4</th>\n",
              "      <td>1</td>\n",
              "      <td>1</td>\n",
              "      <td>0</td>\n",
              "      <td>1</td>\n",
              "      <td>0</td>\n",
              "    </tr>\n",
              "    <tr>\n",
              "      <th>T5</th>\n",
              "      <td>1</td>\n",
              "      <td>0</td>\n",
              "      <td>1</td>\n",
              "      <td>0</td>\n",
              "      <td>0</td>\n",
              "    </tr>\n",
              "    <tr>\n",
              "      <th>T6</th>\n",
              "      <td>0</td>\n",
              "      <td>1</td>\n",
              "      <td>1</td>\n",
              "      <td>0</td>\n",
              "      <td>0</td>\n",
              "    </tr>\n",
              "    <tr>\n",
              "      <th>T7</th>\n",
              "      <td>1</td>\n",
              "      <td>0</td>\n",
              "      <td>1</td>\n",
              "      <td>0</td>\n",
              "      <td>0</td>\n",
              "    </tr>\n",
              "    <tr>\n",
              "      <th>T8</th>\n",
              "      <td>1</td>\n",
              "      <td>1</td>\n",
              "      <td>1</td>\n",
              "      <td>0</td>\n",
              "      <td>1</td>\n",
              "    </tr>\n",
              "    <tr>\n",
              "      <th>T9</th>\n",
              "      <td>1</td>\n",
              "      <td>1</td>\n",
              "      <td>1</td>\n",
              "      <td>0</td>\n",
              "      <td>0</td>\n",
              "    </tr>\n",
              "  </tbody>\n",
              "</table>\n",
              "</div>"
            ],
            "text/plain": [
              "    i1  i2  i3  i4  i5\n",
              "T1   1   1   0   0   1\n",
              "T2   0   1   0   1   0\n",
              "T3   0   1   1   0   0\n",
              "T4   1   1   0   1   0\n",
              "T5   1   0   1   0   0\n",
              "T6   0   1   1   0   0\n",
              "T7   1   0   1   0   0\n",
              "T8   1   1   1   0   1\n",
              "T9   1   1   1   0   0"
            ]
          },
          "metadata": {
            "tags": []
          },
          "execution_count": 48
        }
      ]
    },
    {
      "cell_type": "code",
      "metadata": {
        "id": "uS7KoRxhSOzw",
        "outputId": "93a78e4b-de84-4ef9-9214-f8d2513d3819",
        "colab": {
          "base_uri": "https://localhost:8080/",
          "height": 372
        }
      },
      "source": [
        "print(C[1] )\n",
        "\n",
        "print(L[1])"
      ],
      "execution_count": null,
      "outputs": [
        {
          "output_type": "stream",
          "text": [
            "    i1  i2  i3  i4  i5\n",
            "T1   1   1   0   0   1\n",
            "T2   0   1   0   1   0\n",
            "T3   0   1   1   0   0\n",
            "T4   1   1   0   1   0\n",
            "T5   1   0   1   0   0\n",
            "T6   0   1   1   0   0\n",
            "T7   1   0   1   0   0\n",
            "T8   1   1   1   0   1\n",
            "T9   1   1   1   0   0\n",
            "    i1  i2  i3  i4  i5\n",
            "T1   1   1   0   0   1\n",
            "T2   0   1   0   1   0\n",
            "T3   0   1   1   0   0\n",
            "T4   1   1   0   1   0\n",
            "T5   1   0   1   0   0\n",
            "T6   0   1   1   0   0\n",
            "T7   1   0   1   0   0\n",
            "T8   1   1   1   0   1\n",
            "T9   1   1   1   0   0\n"
          ],
          "name": "stdout"
        }
      ]
    },
    {
      "cell_type": "code",
      "metadata": {
        "id": "DskR_gs3kBc9",
        "outputId": "a9b9c7ea-7648-45fa-aa27-c46252b8bb5e",
        "colab": {
          "base_uri": "https://localhost:8080/",
          "height": 34
        }
      },
      "source": [
        "freq_items_set={}\n",
        "freq_items_set[k]=L[k].columns.tolist()\n",
        "freq_items_set[k]"
      ],
      "execution_count": null,
      "outputs": [
        {
          "output_type": "execute_result",
          "data": {
            "text/plain": [
              "['i1', 'i2', 'i3', 'i4', 'i5']"
            ]
          },
          "metadata": {
            "tags": []
          },
          "execution_count": 50
        }
      ]
    },
    {
      "cell_type": "code",
      "metadata": {
        "id": "1uXjZH_9mCc4"
      },
      "source": [
        "# Function which returns subset or r length from n \n",
        "from itertools import combinations \n",
        "def rSubset(arr, r): \n",
        "  return frozenset(list(combinations(arr, r)))"
      ],
      "execution_count": null,
      "outputs": []
    },
    {
      "cell_type": "code",
      "metadata": {
        "id": "6kHuZI8W6VMc",
        "outputId": "c2970740-78b4-4feb-c06f-514d210a89e1",
        "colab": {
          "base_uri": "https://localhost:8080/",
          "height": 194
        }
      },
      "source": [
        "itemset_col_dict=rSubset(freq_items_set[k], k+1)\n",
        "itemset_col_dict"
      ],
      "execution_count": null,
      "outputs": [
        {
          "output_type": "execute_result",
          "data": {
            "text/plain": [
              "frozenset({('i1', 'i2'),\n",
              "           ('i1', 'i3'),\n",
              "           ('i1', 'i4'),\n",
              "           ('i1', 'i5'),\n",
              "           ('i2', 'i3'),\n",
              "           ('i2', 'i4'),\n",
              "           ('i2', 'i5'),\n",
              "           ('i3', 'i4'),\n",
              "           ('i3', 'i5'),\n",
              "           ('i4', 'i5')})"
            ]
          },
          "metadata": {
            "tags": []
          },
          "execution_count": 52
        }
      ]
    },
    {
      "cell_type": "code",
      "metadata": {
        "id": "vEIOdIjhpcYN",
        "outputId": "9f649c12-e736-4a03-cc53-716a141b941d",
        "colab": {
          "base_uri": "https://localhost:8080/",
          "height": 34
        }
      },
      "source": [
        "k=k+1\n",
        "k"
      ],
      "execution_count": null,
      "outputs": [
        {
          "output_type": "execute_result",
          "data": {
            "text/plain": [
              "2"
            ]
          },
          "metadata": {
            "tags": []
          },
          "execution_count": 53
        }
      ]
    },
    {
      "cell_type": "code",
      "metadata": {
        "id": "IUExu_mxEGwj"
      },
      "source": [
        "C[k]=L[k-1].copy()"
      ],
      "execution_count": null,
      "outputs": []
    },
    {
      "cell_type": "code",
      "metadata": {
        "id": "aSir1uX0F0Qm"
      },
      "source": [
        "# list of columns\n",
        "columns = C[k].columns\n",
        "\n",
        "# Creating a new pd.DataFrame\n",
        "new_df = C[k].copy()\n",
        "\n",
        "for itemset in itemset_col_dict:\n",
        "  combination_string = \",\".join(itemset)\n",
        "  new_df[combination_string] = C[k][itemset[1]] & C[k][itemset[0]]\n",
        "  #print(combination_string)\n",
        "\n",
        "new_df.drop(columns,axis=1,inplace=True)"
      ],
      "execution_count": null,
      "outputs": []
    },
    {
      "cell_type": "code",
      "metadata": {
        "id": "GL2heKMYLh97"
      },
      "source": [
        "C[k]=new_df.copy()"
      ],
      "execution_count": null,
      "outputs": []
    },
    {
      "cell_type": "code",
      "metadata": {
        "id": "Y6FRneiJNh3A",
        "outputId": "2b6d111c-fafd-4bbe-d729-0fb660dced3b",
        "colab": {
          "base_uri": "https://localhost:8080/",
          "height": 317
        }
      },
      "source": [
        "C[k]"
      ],
      "execution_count": null,
      "outputs": [
        {
          "output_type": "execute_result",
          "data": {
            "text/html": [
              "<div>\n",
              "<style scoped>\n",
              "    .dataframe tbody tr th:only-of-type {\n",
              "        vertical-align: middle;\n",
              "    }\n",
              "\n",
              "    .dataframe tbody tr th {\n",
              "        vertical-align: top;\n",
              "    }\n",
              "\n",
              "    .dataframe thead th {\n",
              "        text-align: right;\n",
              "    }\n",
              "</style>\n",
              "<table border=\"1\" class=\"dataframe\">\n",
              "  <thead>\n",
              "    <tr style=\"text-align: right;\">\n",
              "      <th></th>\n",
              "      <th>i2,i4</th>\n",
              "      <th>i1,i3</th>\n",
              "      <th>i4,i5</th>\n",
              "      <th>i2,i5</th>\n",
              "      <th>i3,i4</th>\n",
              "      <th>i1,i4</th>\n",
              "      <th>i3,i5</th>\n",
              "      <th>i1,i2</th>\n",
              "      <th>i2,i3</th>\n",
              "      <th>i1,i5</th>\n",
              "    </tr>\n",
              "  </thead>\n",
              "  <tbody>\n",
              "    <tr>\n",
              "      <th>T1</th>\n",
              "      <td>0</td>\n",
              "      <td>0</td>\n",
              "      <td>0</td>\n",
              "      <td>1</td>\n",
              "      <td>0</td>\n",
              "      <td>0</td>\n",
              "      <td>0</td>\n",
              "      <td>1</td>\n",
              "      <td>0</td>\n",
              "      <td>1</td>\n",
              "    </tr>\n",
              "    <tr>\n",
              "      <th>T2</th>\n",
              "      <td>1</td>\n",
              "      <td>0</td>\n",
              "      <td>0</td>\n",
              "      <td>0</td>\n",
              "      <td>0</td>\n",
              "      <td>0</td>\n",
              "      <td>0</td>\n",
              "      <td>0</td>\n",
              "      <td>0</td>\n",
              "      <td>0</td>\n",
              "    </tr>\n",
              "    <tr>\n",
              "      <th>T3</th>\n",
              "      <td>0</td>\n",
              "      <td>0</td>\n",
              "      <td>0</td>\n",
              "      <td>0</td>\n",
              "      <td>0</td>\n",
              "      <td>0</td>\n",
              "      <td>0</td>\n",
              "      <td>0</td>\n",
              "      <td>1</td>\n",
              "      <td>0</td>\n",
              "    </tr>\n",
              "    <tr>\n",
              "      <th>T4</th>\n",
              "      <td>1</td>\n",
              "      <td>0</td>\n",
              "      <td>0</td>\n",
              "      <td>0</td>\n",
              "      <td>0</td>\n",
              "      <td>1</td>\n",
              "      <td>0</td>\n",
              "      <td>1</td>\n",
              "      <td>0</td>\n",
              "      <td>0</td>\n",
              "    </tr>\n",
              "    <tr>\n",
              "      <th>T5</th>\n",
              "      <td>0</td>\n",
              "      <td>1</td>\n",
              "      <td>0</td>\n",
              "      <td>0</td>\n",
              "      <td>0</td>\n",
              "      <td>0</td>\n",
              "      <td>0</td>\n",
              "      <td>0</td>\n",
              "      <td>0</td>\n",
              "      <td>0</td>\n",
              "    </tr>\n",
              "    <tr>\n",
              "      <th>T6</th>\n",
              "      <td>0</td>\n",
              "      <td>0</td>\n",
              "      <td>0</td>\n",
              "      <td>0</td>\n",
              "      <td>0</td>\n",
              "      <td>0</td>\n",
              "      <td>0</td>\n",
              "      <td>0</td>\n",
              "      <td>1</td>\n",
              "      <td>0</td>\n",
              "    </tr>\n",
              "    <tr>\n",
              "      <th>T7</th>\n",
              "      <td>0</td>\n",
              "      <td>1</td>\n",
              "      <td>0</td>\n",
              "      <td>0</td>\n",
              "      <td>0</td>\n",
              "      <td>0</td>\n",
              "      <td>0</td>\n",
              "      <td>0</td>\n",
              "      <td>0</td>\n",
              "      <td>0</td>\n",
              "    </tr>\n",
              "    <tr>\n",
              "      <th>T8</th>\n",
              "      <td>0</td>\n",
              "      <td>1</td>\n",
              "      <td>0</td>\n",
              "      <td>1</td>\n",
              "      <td>0</td>\n",
              "      <td>0</td>\n",
              "      <td>1</td>\n",
              "      <td>1</td>\n",
              "      <td>1</td>\n",
              "      <td>1</td>\n",
              "    </tr>\n",
              "    <tr>\n",
              "      <th>T9</th>\n",
              "      <td>0</td>\n",
              "      <td>1</td>\n",
              "      <td>0</td>\n",
              "      <td>0</td>\n",
              "      <td>0</td>\n",
              "      <td>0</td>\n",
              "      <td>0</td>\n",
              "      <td>1</td>\n",
              "      <td>1</td>\n",
              "      <td>0</td>\n",
              "    </tr>\n",
              "  </tbody>\n",
              "</table>\n",
              "</div>"
            ],
            "text/plain": [
              "    i2,i4  i1,i3  i4,i5  i2,i5  i3,i4  i1,i4  i3,i5  i1,i2  i2,i3  i1,i5\n",
              "T1      0      0      0      1      0      0      0      1      0      1\n",
              "T2      1      0      0      0      0      0      0      0      0      0\n",
              "T3      0      0      0      0      0      0      0      0      1      0\n",
              "T4      1      0      0      0      0      1      0      1      0      0\n",
              "T5      0      1      0      0      0      0      0      0      0      0\n",
              "T6      0      0      0      0      0      0      0      0      1      0\n",
              "T7      0      1      0      0      0      0      0      0      0      0\n",
              "T8      0      1      0      1      0      0      1      1      1      1\n",
              "T9      0      1      0      0      0      0      0      1      1      0"
            ]
          },
          "metadata": {
            "tags": []
          },
          "execution_count": 57
        }
      ]
    },
    {
      "cell_type": "code",
      "metadata": {
        "id": "gm8Vx7MMO8Cg",
        "outputId": "3cebd391-7dae-4c20-c7fb-2810e7a68d52",
        "colab": {
          "base_uri": "https://localhost:8080/",
          "height": 377
        }
      },
      "source": [
        "s=C[k].reset_index().melt('index')\n",
        "pd.crosstab(index=s['index'],columns=s.variable,values=s.value,aggfunc='sum',margins=True)"
      ],
      "execution_count": null,
      "outputs": [
        {
          "output_type": "execute_result",
          "data": {
            "text/html": [
              "<div>\n",
              "<style scoped>\n",
              "    .dataframe tbody tr th:only-of-type {\n",
              "        vertical-align: middle;\n",
              "    }\n",
              "\n",
              "    .dataframe tbody tr th {\n",
              "        vertical-align: top;\n",
              "    }\n",
              "\n",
              "    .dataframe thead th {\n",
              "        text-align: right;\n",
              "    }\n",
              "</style>\n",
              "<table border=\"1\" class=\"dataframe\">\n",
              "  <thead>\n",
              "    <tr style=\"text-align: right;\">\n",
              "      <th>variable</th>\n",
              "      <th>i1,i2</th>\n",
              "      <th>i1,i3</th>\n",
              "      <th>i1,i4</th>\n",
              "      <th>i1,i5</th>\n",
              "      <th>i2,i3</th>\n",
              "      <th>i2,i4</th>\n",
              "      <th>i2,i5</th>\n",
              "      <th>i3,i4</th>\n",
              "      <th>i3,i5</th>\n",
              "      <th>i4,i5</th>\n",
              "      <th>All</th>\n",
              "    </tr>\n",
              "    <tr>\n",
              "      <th>index</th>\n",
              "      <th></th>\n",
              "      <th></th>\n",
              "      <th></th>\n",
              "      <th></th>\n",
              "      <th></th>\n",
              "      <th></th>\n",
              "      <th></th>\n",
              "      <th></th>\n",
              "      <th></th>\n",
              "      <th></th>\n",
              "      <th></th>\n",
              "    </tr>\n",
              "  </thead>\n",
              "  <tbody>\n",
              "    <tr>\n",
              "      <th>T1</th>\n",
              "      <td>1</td>\n",
              "      <td>0</td>\n",
              "      <td>0</td>\n",
              "      <td>1</td>\n",
              "      <td>0</td>\n",
              "      <td>0</td>\n",
              "      <td>1</td>\n",
              "      <td>0</td>\n",
              "      <td>0</td>\n",
              "      <td>0</td>\n",
              "      <td>3</td>\n",
              "    </tr>\n",
              "    <tr>\n",
              "      <th>T2</th>\n",
              "      <td>0</td>\n",
              "      <td>0</td>\n",
              "      <td>0</td>\n",
              "      <td>0</td>\n",
              "      <td>0</td>\n",
              "      <td>1</td>\n",
              "      <td>0</td>\n",
              "      <td>0</td>\n",
              "      <td>0</td>\n",
              "      <td>0</td>\n",
              "      <td>1</td>\n",
              "    </tr>\n",
              "    <tr>\n",
              "      <th>T3</th>\n",
              "      <td>0</td>\n",
              "      <td>0</td>\n",
              "      <td>0</td>\n",
              "      <td>0</td>\n",
              "      <td>1</td>\n",
              "      <td>0</td>\n",
              "      <td>0</td>\n",
              "      <td>0</td>\n",
              "      <td>0</td>\n",
              "      <td>0</td>\n",
              "      <td>1</td>\n",
              "    </tr>\n",
              "    <tr>\n",
              "      <th>T4</th>\n",
              "      <td>1</td>\n",
              "      <td>0</td>\n",
              "      <td>1</td>\n",
              "      <td>0</td>\n",
              "      <td>0</td>\n",
              "      <td>1</td>\n",
              "      <td>0</td>\n",
              "      <td>0</td>\n",
              "      <td>0</td>\n",
              "      <td>0</td>\n",
              "      <td>3</td>\n",
              "    </tr>\n",
              "    <tr>\n",
              "      <th>T5</th>\n",
              "      <td>0</td>\n",
              "      <td>1</td>\n",
              "      <td>0</td>\n",
              "      <td>0</td>\n",
              "      <td>0</td>\n",
              "      <td>0</td>\n",
              "      <td>0</td>\n",
              "      <td>0</td>\n",
              "      <td>0</td>\n",
              "      <td>0</td>\n",
              "      <td>1</td>\n",
              "    </tr>\n",
              "    <tr>\n",
              "      <th>T6</th>\n",
              "      <td>0</td>\n",
              "      <td>0</td>\n",
              "      <td>0</td>\n",
              "      <td>0</td>\n",
              "      <td>1</td>\n",
              "      <td>0</td>\n",
              "      <td>0</td>\n",
              "      <td>0</td>\n",
              "      <td>0</td>\n",
              "      <td>0</td>\n",
              "      <td>1</td>\n",
              "    </tr>\n",
              "    <tr>\n",
              "      <th>T7</th>\n",
              "      <td>0</td>\n",
              "      <td>1</td>\n",
              "      <td>0</td>\n",
              "      <td>0</td>\n",
              "      <td>0</td>\n",
              "      <td>0</td>\n",
              "      <td>0</td>\n",
              "      <td>0</td>\n",
              "      <td>0</td>\n",
              "      <td>0</td>\n",
              "      <td>1</td>\n",
              "    </tr>\n",
              "    <tr>\n",
              "      <th>T8</th>\n",
              "      <td>1</td>\n",
              "      <td>1</td>\n",
              "      <td>0</td>\n",
              "      <td>1</td>\n",
              "      <td>1</td>\n",
              "      <td>0</td>\n",
              "      <td>1</td>\n",
              "      <td>0</td>\n",
              "      <td>1</td>\n",
              "      <td>0</td>\n",
              "      <td>6</td>\n",
              "    </tr>\n",
              "    <tr>\n",
              "      <th>T9</th>\n",
              "      <td>1</td>\n",
              "      <td>1</td>\n",
              "      <td>0</td>\n",
              "      <td>0</td>\n",
              "      <td>1</td>\n",
              "      <td>0</td>\n",
              "      <td>0</td>\n",
              "      <td>0</td>\n",
              "      <td>0</td>\n",
              "      <td>0</td>\n",
              "      <td>3</td>\n",
              "    </tr>\n",
              "    <tr>\n",
              "      <th>All</th>\n",
              "      <td>4</td>\n",
              "      <td>4</td>\n",
              "      <td>1</td>\n",
              "      <td>2</td>\n",
              "      <td>4</td>\n",
              "      <td>2</td>\n",
              "      <td>2</td>\n",
              "      <td>0</td>\n",
              "      <td>1</td>\n",
              "      <td>0</td>\n",
              "      <td>20</td>\n",
              "    </tr>\n",
              "  </tbody>\n",
              "</table>\n",
              "</div>"
            ],
            "text/plain": [
              "variable  i1,i2  i1,i3  i1,i4  i1,i5  i2,i3  ...  i2,i5  i3,i4  i3,i5  i4,i5  All\n",
              "index                                        ...                                 \n",
              "T1            1      0      0      1      0  ...      1      0      0      0    3\n",
              "T2            0      0      0      0      0  ...      0      0      0      0    1\n",
              "T3            0      0      0      0      1  ...      0      0      0      0    1\n",
              "T4            1      0      1      0      0  ...      0      0      0      0    3\n",
              "T5            0      1      0      0      0  ...      0      0      0      0    1\n",
              "T6            0      0      0      0      1  ...      0      0      0      0    1\n",
              "T7            0      1      0      0      0  ...      0      0      0      0    1\n",
              "T8            1      1      0      1      1  ...      1      0      1      0    6\n",
              "T9            1      1      0      0      1  ...      0      0      0      0    3\n",
              "All           4      4      1      2      4  ...      2      0      1      0   20\n",
              "\n",
              "[10 rows x 11 columns]"
            ]
          },
          "metadata": {
            "tags": []
          },
          "execution_count": 58
        }
      ]
    },
    {
      "cell_type": "code",
      "metadata": {
        "id": "cWJgH5IhMoV8",
        "outputId": "b410eb07-ad40-4e1f-b38c-a781f9dfb806",
        "colab": {
          "base_uri": "https://localhost:8080/",
          "height": 167
        }
      },
      "source": [
        "L[k]=C[k].loc[:, (C[k] .sum(axis=0) >= min_sup)]  #Sum of columns is greater than minimum support\n",
        "L[k]=L[k][L[k].sum(axis=1) >= min_sup]            #Sum of rows is greater than minimum support\n",
        "L[k]"
      ],
      "execution_count": null,
      "outputs": [
        {
          "output_type": "execute_result",
          "data": {
            "text/html": [
              "<div>\n",
              "<style scoped>\n",
              "    .dataframe tbody tr th:only-of-type {\n",
              "        vertical-align: middle;\n",
              "    }\n",
              "\n",
              "    .dataframe tbody tr th {\n",
              "        vertical-align: top;\n",
              "    }\n",
              "\n",
              "    .dataframe thead th {\n",
              "        text-align: right;\n",
              "    }\n",
              "</style>\n",
              "<table border=\"1\" class=\"dataframe\">\n",
              "  <thead>\n",
              "    <tr style=\"text-align: right;\">\n",
              "      <th></th>\n",
              "      <th>i2,i4</th>\n",
              "      <th>i1,i3</th>\n",
              "      <th>i2,i5</th>\n",
              "      <th>i1,i2</th>\n",
              "      <th>i2,i3</th>\n",
              "      <th>i1,i5</th>\n",
              "    </tr>\n",
              "  </thead>\n",
              "  <tbody>\n",
              "    <tr>\n",
              "      <th>T1</th>\n",
              "      <td>0</td>\n",
              "      <td>0</td>\n",
              "      <td>1</td>\n",
              "      <td>1</td>\n",
              "      <td>0</td>\n",
              "      <td>1</td>\n",
              "    </tr>\n",
              "    <tr>\n",
              "      <th>T4</th>\n",
              "      <td>1</td>\n",
              "      <td>0</td>\n",
              "      <td>0</td>\n",
              "      <td>1</td>\n",
              "      <td>0</td>\n",
              "      <td>0</td>\n",
              "    </tr>\n",
              "    <tr>\n",
              "      <th>T8</th>\n",
              "      <td>0</td>\n",
              "      <td>1</td>\n",
              "      <td>1</td>\n",
              "      <td>1</td>\n",
              "      <td>1</td>\n",
              "      <td>1</td>\n",
              "    </tr>\n",
              "    <tr>\n",
              "      <th>T9</th>\n",
              "      <td>0</td>\n",
              "      <td>1</td>\n",
              "      <td>0</td>\n",
              "      <td>1</td>\n",
              "      <td>1</td>\n",
              "      <td>0</td>\n",
              "    </tr>\n",
              "  </tbody>\n",
              "</table>\n",
              "</div>"
            ],
            "text/plain": [
              "    i2,i4  i1,i3  i2,i5  i1,i2  i2,i3  i1,i5\n",
              "T1      0      0      1      1      0      1\n",
              "T4      1      0      0      1      0      0\n",
              "T8      0      1      1      1      1      1\n",
              "T9      0      1      0      1      1      0"
            ]
          },
          "metadata": {
            "tags": []
          },
          "execution_count": 59
        }
      ]
    },
    {
      "cell_type": "code",
      "metadata": {
        "id": "xCnq9YOfRkt9",
        "outputId": "27066f69-2952-4f6f-e7bb-f01efca6f7ac",
        "colab": {
          "base_uri": "https://localhost:8080/",
          "height": 283
        }
      },
      "source": [
        "print(C[2] )\n",
        "\n",
        "print(L[2])"
      ],
      "execution_count": null,
      "outputs": [
        {
          "output_type": "stream",
          "text": [
            "    i2,i4  i1,i3  i4,i5  i2,i5  i3,i4  i1,i4  i3,i5  i1,i2  i2,i3  i1,i5\n",
            "T1      0      0      0      1      0      0      0      1      0      1\n",
            "T2      1      0      0      0      0      0      0      0      0      0\n",
            "T3      0      0      0      0      0      0      0      0      1      0\n",
            "T4      1      0      0      0      0      1      0      1      0      0\n",
            "T5      0      1      0      0      0      0      0      0      0      0\n",
            "T6      0      0      0      0      0      0      0      0      1      0\n",
            "T7      0      1      0      0      0      0      0      0      0      0\n",
            "T8      0      1      0      1      0      0      1      1      1      1\n",
            "T9      0      1      0      0      0      0      0      1      1      0\n",
            "    i2,i4  i1,i3  i2,i5  i1,i2  i2,i3  i1,i5\n",
            "T1      0      0      1      1      0      1\n",
            "T4      1      0      0      1      0      0\n",
            "T8      0      1      1      1      1      1\n",
            "T9      0      1      0      1      1      0\n"
          ],
          "name": "stdout"
        }
      ]
    },
    {
      "cell_type": "code",
      "metadata": {
        "id": "_-qLFzF_wJ37",
        "outputId": "8ffaa2ea-5143-4551-87e1-82c872a0b53d",
        "colab": {
          "base_uri": "https://localhost:8080/",
          "height": 34
        }
      },
      "source": [
        "L[k].columns.tolist()"
      ],
      "execution_count": null,
      "outputs": [
        {
          "output_type": "execute_result",
          "data": {
            "text/plain": [
              "['i2,i4', 'i1,i3', 'i2,i5', 'i1,i2', 'i2,i3', 'i1,i5']"
            ]
          },
          "metadata": {
            "tags": []
          },
          "execution_count": 61
        }
      ]
    },
    {
      "cell_type": "code",
      "metadata": {
        "id": "SlHEPWBy6tWp"
      },
      "source": [
        "temp_vectortizer = vectorizer.fit_transform(L[k].columns.tolist())"
      ],
      "execution_count": null,
      "outputs": []
    },
    {
      "cell_type": "code",
      "metadata": {
        "id": "ctKinrR3wgra",
        "outputId": "f09bd10e-27c6-4bf8-ac3e-9b1ef5222034",
        "colab": {
          "base_uri": "https://localhost:8080/",
          "height": 194
        }
      },
      "source": [
        "freq_items_set[k]=vectorizer.get_feature_names()\n",
        "itemset_col_dict=rSubset(freq_items_set[k],k+1)\n",
        "itemset_col_dict"
      ],
      "execution_count": null,
      "outputs": [
        {
          "output_type": "execute_result",
          "data": {
            "text/plain": [
              "frozenset({('i1', 'i2', 'i3'),\n",
              "           ('i1', 'i2', 'i4'),\n",
              "           ('i1', 'i2', 'i5'),\n",
              "           ('i1', 'i3', 'i4'),\n",
              "           ('i1', 'i3', 'i5'),\n",
              "           ('i1', 'i4', 'i5'),\n",
              "           ('i2', 'i3', 'i4'),\n",
              "           ('i2', 'i3', 'i5'),\n",
              "           ('i2', 'i4', 'i5'),\n",
              "           ('i3', 'i4', 'i5')})"
            ]
          },
          "metadata": {
            "tags": []
          },
          "execution_count": 63
        }
      ]
    },
    {
      "cell_type": "code",
      "metadata": {
        "id": "ZDK1cP4kxukU",
        "outputId": "457bc737-9804-411f-84f5-7e3b791e21ba",
        "colab": {
          "base_uri": "https://localhost:8080/",
          "height": 34
        }
      },
      "source": [
        "k=k+1\n",
        "k"
      ],
      "execution_count": null,
      "outputs": [
        {
          "output_type": "execute_result",
          "data": {
            "text/plain": [
              "3"
            ]
          },
          "metadata": {
            "tags": []
          },
          "execution_count": 64
        }
      ]
    },
    {
      "cell_type": "code",
      "metadata": {
        "id": "D_2mWQs5xyk2"
      },
      "source": [
        "C[k]=L[k-1].copy()"
      ],
      "execution_count": null,
      "outputs": []
    },
    {
      "cell_type": "code",
      "metadata": {
        "id": "ZJxVfB7U7as3",
        "outputId": "e55ae4c3-fffa-41e6-d598-91efd6be4e0d",
        "colab": {
          "base_uri": "https://localhost:8080/",
          "height": 167
        }
      },
      "source": [
        "C[k]"
      ],
      "execution_count": null,
      "outputs": [
        {
          "output_type": "execute_result",
          "data": {
            "text/html": [
              "<div>\n",
              "<style scoped>\n",
              "    .dataframe tbody tr th:only-of-type {\n",
              "        vertical-align: middle;\n",
              "    }\n",
              "\n",
              "    .dataframe tbody tr th {\n",
              "        vertical-align: top;\n",
              "    }\n",
              "\n",
              "    .dataframe thead th {\n",
              "        text-align: right;\n",
              "    }\n",
              "</style>\n",
              "<table border=\"1\" class=\"dataframe\">\n",
              "  <thead>\n",
              "    <tr style=\"text-align: right;\">\n",
              "      <th></th>\n",
              "      <th>i2,i4</th>\n",
              "      <th>i1,i3</th>\n",
              "      <th>i2,i5</th>\n",
              "      <th>i1,i2</th>\n",
              "      <th>i2,i3</th>\n",
              "      <th>i1,i5</th>\n",
              "    </tr>\n",
              "  </thead>\n",
              "  <tbody>\n",
              "    <tr>\n",
              "      <th>T1</th>\n",
              "      <td>0</td>\n",
              "      <td>0</td>\n",
              "      <td>1</td>\n",
              "      <td>1</td>\n",
              "      <td>0</td>\n",
              "      <td>1</td>\n",
              "    </tr>\n",
              "    <tr>\n",
              "      <th>T4</th>\n",
              "      <td>1</td>\n",
              "      <td>0</td>\n",
              "      <td>0</td>\n",
              "      <td>1</td>\n",
              "      <td>0</td>\n",
              "      <td>0</td>\n",
              "    </tr>\n",
              "    <tr>\n",
              "      <th>T8</th>\n",
              "      <td>0</td>\n",
              "      <td>1</td>\n",
              "      <td>1</td>\n",
              "      <td>1</td>\n",
              "      <td>1</td>\n",
              "      <td>1</td>\n",
              "    </tr>\n",
              "    <tr>\n",
              "      <th>T9</th>\n",
              "      <td>0</td>\n",
              "      <td>1</td>\n",
              "      <td>0</td>\n",
              "      <td>1</td>\n",
              "      <td>1</td>\n",
              "      <td>0</td>\n",
              "    </tr>\n",
              "  </tbody>\n",
              "</table>\n",
              "</div>"
            ],
            "text/plain": [
              "    i2,i4  i1,i3  i2,i5  i1,i2  i2,i3  i1,i5\n",
              "T1      0      0      1      1      0      1\n",
              "T4      1      0      0      1      0      0\n",
              "T8      0      1      1      1      1      1\n",
              "T9      0      1      0      1      1      0"
            ]
          },
          "metadata": {
            "tags": []
          },
          "execution_count": 66
        }
      ]
    },
    {
      "cell_type": "code",
      "metadata": {
        "id": "3BcQw3MP9c4C",
        "outputId": "56e76aea-c15f-4d1d-9f75-4236ade53643",
        "colab": {
          "base_uri": "https://localhost:8080/",
          "height": 34
        }
      },
      "source": [
        "# Creating a new pd.DataFrame\n",
        "new_df = C[k].copy()\n",
        "new_df.index"
      ],
      "execution_count": null,
      "outputs": [
        {
          "output_type": "execute_result",
          "data": {
            "text/plain": [
              "Index(['T1', 'T4', 'T8', 'T9'], dtype='object')"
            ]
          },
          "metadata": {
            "tags": []
          },
          "execution_count": 67
        }
      ]
    },
    {
      "cell_type": "code",
      "metadata": {
        "id": "KwnNcCeVCJRK",
        "outputId": "7e9ff55a-243d-4e9c-c0be-b896f10f3131",
        "colab": {
          "base_uri": "https://localhost:8080/",
          "height": 167
        }
      },
      "source": [
        "C1_Valid_rows=C[1][C[1].index.isin(new_df.index)]\n",
        "C1_Valid_rows[freq_items_set[1]]"
      ],
      "execution_count": null,
      "outputs": [
        {
          "output_type": "execute_result",
          "data": {
            "text/html": [
              "<div>\n",
              "<style scoped>\n",
              "    .dataframe tbody tr th:only-of-type {\n",
              "        vertical-align: middle;\n",
              "    }\n",
              "\n",
              "    .dataframe tbody tr th {\n",
              "        vertical-align: top;\n",
              "    }\n",
              "\n",
              "    .dataframe thead th {\n",
              "        text-align: right;\n",
              "    }\n",
              "</style>\n",
              "<table border=\"1\" class=\"dataframe\">\n",
              "  <thead>\n",
              "    <tr style=\"text-align: right;\">\n",
              "      <th></th>\n",
              "      <th>i1</th>\n",
              "      <th>i2</th>\n",
              "      <th>i3</th>\n",
              "      <th>i4</th>\n",
              "      <th>i5</th>\n",
              "    </tr>\n",
              "  </thead>\n",
              "  <tbody>\n",
              "    <tr>\n",
              "      <th>T1</th>\n",
              "      <td>1</td>\n",
              "      <td>1</td>\n",
              "      <td>0</td>\n",
              "      <td>0</td>\n",
              "      <td>1</td>\n",
              "    </tr>\n",
              "    <tr>\n",
              "      <th>T4</th>\n",
              "      <td>1</td>\n",
              "      <td>1</td>\n",
              "      <td>0</td>\n",
              "      <td>1</td>\n",
              "      <td>0</td>\n",
              "    </tr>\n",
              "    <tr>\n",
              "      <th>T8</th>\n",
              "      <td>1</td>\n",
              "      <td>1</td>\n",
              "      <td>1</td>\n",
              "      <td>0</td>\n",
              "      <td>1</td>\n",
              "    </tr>\n",
              "    <tr>\n",
              "      <th>T9</th>\n",
              "      <td>1</td>\n",
              "      <td>1</td>\n",
              "      <td>1</td>\n",
              "      <td>0</td>\n",
              "      <td>0</td>\n",
              "    </tr>\n",
              "  </tbody>\n",
              "</table>\n",
              "</div>"
            ],
            "text/plain": [
              "    i1  i2  i3  i4  i5\n",
              "T1   1   1   0   0   1\n",
              "T4   1   1   0   1   0\n",
              "T8   1   1   1   0   1\n",
              "T9   1   1   1   0   0"
            ]
          },
          "metadata": {
            "tags": []
          },
          "execution_count": 68
        }
      ]
    },
    {
      "cell_type": "code",
      "metadata": {
        "id": "0-hdnaejDO-q",
        "outputId": "b3e66af7-6cc9-491d-b26c-26874c46531b",
        "colab": {
          "base_uri": "https://localhost:8080/",
          "height": 34
        }
      },
      "source": [
        "freq_items_set[1]"
      ],
      "execution_count": null,
      "outputs": [
        {
          "output_type": "execute_result",
          "data": {
            "text/plain": [
              "['i1', 'i2', 'i3', 'i4', 'i5']"
            ]
          },
          "metadata": {
            "tags": []
          },
          "execution_count": 69
        }
      ]
    },
    {
      "cell_type": "code",
      "metadata": {
        "id": "Dq62gaT4dGS2",
        "outputId": "86e5cb3a-d209-4bdd-c67d-4c143099f650",
        "colab": {
          "base_uri": "https://localhost:8080/",
          "height": 167
        }
      },
      "source": [
        "C1_Valid_rows"
      ],
      "execution_count": null,
      "outputs": [
        {
          "output_type": "execute_result",
          "data": {
            "text/html": [
              "<div>\n",
              "<style scoped>\n",
              "    .dataframe tbody tr th:only-of-type {\n",
              "        vertical-align: middle;\n",
              "    }\n",
              "\n",
              "    .dataframe tbody tr th {\n",
              "        vertical-align: top;\n",
              "    }\n",
              "\n",
              "    .dataframe thead th {\n",
              "        text-align: right;\n",
              "    }\n",
              "</style>\n",
              "<table border=\"1\" class=\"dataframe\">\n",
              "  <thead>\n",
              "    <tr style=\"text-align: right;\">\n",
              "      <th></th>\n",
              "      <th>i1</th>\n",
              "      <th>i2</th>\n",
              "      <th>i3</th>\n",
              "      <th>i4</th>\n",
              "      <th>i5</th>\n",
              "    </tr>\n",
              "  </thead>\n",
              "  <tbody>\n",
              "    <tr>\n",
              "      <th>T1</th>\n",
              "      <td>1</td>\n",
              "      <td>1</td>\n",
              "      <td>0</td>\n",
              "      <td>0</td>\n",
              "      <td>1</td>\n",
              "    </tr>\n",
              "    <tr>\n",
              "      <th>T4</th>\n",
              "      <td>1</td>\n",
              "      <td>1</td>\n",
              "      <td>0</td>\n",
              "      <td>1</td>\n",
              "      <td>0</td>\n",
              "    </tr>\n",
              "    <tr>\n",
              "      <th>T8</th>\n",
              "      <td>1</td>\n",
              "      <td>1</td>\n",
              "      <td>1</td>\n",
              "      <td>0</td>\n",
              "      <td>1</td>\n",
              "    </tr>\n",
              "    <tr>\n",
              "      <th>T9</th>\n",
              "      <td>1</td>\n",
              "      <td>1</td>\n",
              "      <td>1</td>\n",
              "      <td>0</td>\n",
              "      <td>0</td>\n",
              "    </tr>\n",
              "  </tbody>\n",
              "</table>\n",
              "</div>"
            ],
            "text/plain": [
              "    i1  i2  i3  i4  i5\n",
              "T1   1   1   0   0   1\n",
              "T4   1   1   0   1   0\n",
              "T8   1   1   1   0   1\n",
              "T9   1   1   1   0   0"
            ]
          },
          "metadata": {
            "tags": []
          },
          "execution_count": 70
        }
      ]
    },
    {
      "cell_type": "code",
      "metadata": {
        "id": "myV5ztGuxkD4",
        "outputId": "fb6942c6-a686-42bd-f7fe-d1f9974be91d",
        "colab": {
          "base_uri": "https://localhost:8080/",
          "height": 345
        }
      },
      "source": [
        "# Creating a new pd.DataFrame\n",
        "new_df = C1_Valid_rows.copy()\n",
        "for itemset in itemset_col_dict:\n",
        "  combination_string = \",\".join(itemset)\n",
        "  print(combination_string)\n",
        "  new_df[combination_string] = new_df[itemset[0]] & new_df[itemset[1]] & new_df[itemset[2]]\n",
        "\n",
        "new_df.drop(columns,axis=1,inplace=True)\n",
        "new_df"
      ],
      "execution_count": null,
      "outputs": [
        {
          "output_type": "stream",
          "text": [
            "i1,i3,i4\n",
            "i1,i2,i3\n",
            "i2,i4,i5\n",
            "i1,i3,i5\n",
            "i3,i4,i5\n",
            "i1,i2,i5\n",
            "i1,i2,i4\n",
            "i2,i3,i4\n",
            "i1,i4,i5\n",
            "i2,i3,i5\n"
          ],
          "name": "stdout"
        },
        {
          "output_type": "execute_result",
          "data": {
            "text/html": [
              "<div>\n",
              "<style scoped>\n",
              "    .dataframe tbody tr th:only-of-type {\n",
              "        vertical-align: middle;\n",
              "    }\n",
              "\n",
              "    .dataframe tbody tr th {\n",
              "        vertical-align: top;\n",
              "    }\n",
              "\n",
              "    .dataframe thead th {\n",
              "        text-align: right;\n",
              "    }\n",
              "</style>\n",
              "<table border=\"1\" class=\"dataframe\">\n",
              "  <thead>\n",
              "    <tr style=\"text-align: right;\">\n",
              "      <th></th>\n",
              "      <th>i1,i3,i4</th>\n",
              "      <th>i1,i2,i3</th>\n",
              "      <th>i2,i4,i5</th>\n",
              "      <th>i1,i3,i5</th>\n",
              "      <th>i3,i4,i5</th>\n",
              "      <th>i1,i2,i5</th>\n",
              "      <th>i1,i2,i4</th>\n",
              "      <th>i2,i3,i4</th>\n",
              "      <th>i1,i4,i5</th>\n",
              "      <th>i2,i3,i5</th>\n",
              "    </tr>\n",
              "  </thead>\n",
              "  <tbody>\n",
              "    <tr>\n",
              "      <th>T1</th>\n",
              "      <td>0</td>\n",
              "      <td>0</td>\n",
              "      <td>0</td>\n",
              "      <td>0</td>\n",
              "      <td>0</td>\n",
              "      <td>1</td>\n",
              "      <td>0</td>\n",
              "      <td>0</td>\n",
              "      <td>0</td>\n",
              "      <td>0</td>\n",
              "    </tr>\n",
              "    <tr>\n",
              "      <th>T4</th>\n",
              "      <td>0</td>\n",
              "      <td>0</td>\n",
              "      <td>0</td>\n",
              "      <td>0</td>\n",
              "      <td>0</td>\n",
              "      <td>0</td>\n",
              "      <td>1</td>\n",
              "      <td>0</td>\n",
              "      <td>0</td>\n",
              "      <td>0</td>\n",
              "    </tr>\n",
              "    <tr>\n",
              "      <th>T8</th>\n",
              "      <td>0</td>\n",
              "      <td>1</td>\n",
              "      <td>0</td>\n",
              "      <td>1</td>\n",
              "      <td>0</td>\n",
              "      <td>1</td>\n",
              "      <td>0</td>\n",
              "      <td>0</td>\n",
              "      <td>0</td>\n",
              "      <td>1</td>\n",
              "    </tr>\n",
              "    <tr>\n",
              "      <th>T9</th>\n",
              "      <td>0</td>\n",
              "      <td>1</td>\n",
              "      <td>0</td>\n",
              "      <td>0</td>\n",
              "      <td>0</td>\n",
              "      <td>0</td>\n",
              "      <td>0</td>\n",
              "      <td>0</td>\n",
              "      <td>0</td>\n",
              "      <td>0</td>\n",
              "    </tr>\n",
              "  </tbody>\n",
              "</table>\n",
              "</div>"
            ],
            "text/plain": [
              "    i1,i3,i4  i1,i2,i3  i2,i4,i5  ...  i2,i3,i4  i1,i4,i5  i2,i3,i5\n",
              "T1         0         0         0  ...         0         0         0\n",
              "T4         0         0         0  ...         0         0         0\n",
              "T8         0         1         0  ...         0         0         1\n",
              "T9         0         1         0  ...         0         0         0\n",
              "\n",
              "[4 rows x 10 columns]"
            ]
          },
          "metadata": {
            "tags": []
          },
          "execution_count": 71
        }
      ]
    },
    {
      "cell_type": "code",
      "metadata": {
        "id": "vVkYrODBgUwO",
        "outputId": "0f06b676-ceb1-4518-a02e-1c4da084a591",
        "colab": {
          "base_uri": "https://localhost:8080/",
          "height": 167
        }
      },
      "source": [
        "C[k]=new_df.copy()\n",
        "C[k]"
      ],
      "execution_count": null,
      "outputs": [
        {
          "output_type": "execute_result",
          "data": {
            "text/html": [
              "<div>\n",
              "<style scoped>\n",
              "    .dataframe tbody tr th:only-of-type {\n",
              "        vertical-align: middle;\n",
              "    }\n",
              "\n",
              "    .dataframe tbody tr th {\n",
              "        vertical-align: top;\n",
              "    }\n",
              "\n",
              "    .dataframe thead th {\n",
              "        text-align: right;\n",
              "    }\n",
              "</style>\n",
              "<table border=\"1\" class=\"dataframe\">\n",
              "  <thead>\n",
              "    <tr style=\"text-align: right;\">\n",
              "      <th></th>\n",
              "      <th>i1,i3,i4</th>\n",
              "      <th>i1,i2,i3</th>\n",
              "      <th>i2,i4,i5</th>\n",
              "      <th>i1,i3,i5</th>\n",
              "      <th>i3,i4,i5</th>\n",
              "      <th>i1,i2,i5</th>\n",
              "      <th>i1,i2,i4</th>\n",
              "      <th>i2,i3,i4</th>\n",
              "      <th>i1,i4,i5</th>\n",
              "      <th>i2,i3,i5</th>\n",
              "    </tr>\n",
              "  </thead>\n",
              "  <tbody>\n",
              "    <tr>\n",
              "      <th>T1</th>\n",
              "      <td>0</td>\n",
              "      <td>0</td>\n",
              "      <td>0</td>\n",
              "      <td>0</td>\n",
              "      <td>0</td>\n",
              "      <td>1</td>\n",
              "      <td>0</td>\n",
              "      <td>0</td>\n",
              "      <td>0</td>\n",
              "      <td>0</td>\n",
              "    </tr>\n",
              "    <tr>\n",
              "      <th>T4</th>\n",
              "      <td>0</td>\n",
              "      <td>0</td>\n",
              "      <td>0</td>\n",
              "      <td>0</td>\n",
              "      <td>0</td>\n",
              "      <td>0</td>\n",
              "      <td>1</td>\n",
              "      <td>0</td>\n",
              "      <td>0</td>\n",
              "      <td>0</td>\n",
              "    </tr>\n",
              "    <tr>\n",
              "      <th>T8</th>\n",
              "      <td>0</td>\n",
              "      <td>1</td>\n",
              "      <td>0</td>\n",
              "      <td>1</td>\n",
              "      <td>0</td>\n",
              "      <td>1</td>\n",
              "      <td>0</td>\n",
              "      <td>0</td>\n",
              "      <td>0</td>\n",
              "      <td>1</td>\n",
              "    </tr>\n",
              "    <tr>\n",
              "      <th>T9</th>\n",
              "      <td>0</td>\n",
              "      <td>1</td>\n",
              "      <td>0</td>\n",
              "      <td>0</td>\n",
              "      <td>0</td>\n",
              "      <td>0</td>\n",
              "      <td>0</td>\n",
              "      <td>0</td>\n",
              "      <td>0</td>\n",
              "      <td>0</td>\n",
              "    </tr>\n",
              "  </tbody>\n",
              "</table>\n",
              "</div>"
            ],
            "text/plain": [
              "    i1,i3,i4  i1,i2,i3  i2,i4,i5  ...  i2,i3,i4  i1,i4,i5  i2,i3,i5\n",
              "T1         0         0         0  ...         0         0         0\n",
              "T4         0         0         0  ...         0         0         0\n",
              "T8         0         1         0  ...         0         0         1\n",
              "T9         0         1         0  ...         0         0         0\n",
              "\n",
              "[4 rows x 10 columns]"
            ]
          },
          "metadata": {
            "tags": []
          },
          "execution_count": 72
        }
      ]
    },
    {
      "cell_type": "code",
      "metadata": {
        "id": "0pyByTKqgX7w",
        "outputId": "27e52c07-6eb6-4550-976e-815b5323ec59",
        "colab": {
          "base_uri": "https://localhost:8080/",
          "height": 227
        }
      },
      "source": [
        "s=C[k].reset_index().melt('index')\n",
        "pd.crosstab(index=s['index'],columns=s.variable,values=s.value,aggfunc='sum',margins=True)"
      ],
      "execution_count": null,
      "outputs": [
        {
          "output_type": "execute_result",
          "data": {
            "text/html": [
              "<div>\n",
              "<style scoped>\n",
              "    .dataframe tbody tr th:only-of-type {\n",
              "        vertical-align: middle;\n",
              "    }\n",
              "\n",
              "    .dataframe tbody tr th {\n",
              "        vertical-align: top;\n",
              "    }\n",
              "\n",
              "    .dataframe thead th {\n",
              "        text-align: right;\n",
              "    }\n",
              "</style>\n",
              "<table border=\"1\" class=\"dataframe\">\n",
              "  <thead>\n",
              "    <tr style=\"text-align: right;\">\n",
              "      <th>variable</th>\n",
              "      <th>i1,i2,i3</th>\n",
              "      <th>i1,i2,i4</th>\n",
              "      <th>i1,i2,i5</th>\n",
              "      <th>i1,i3,i4</th>\n",
              "      <th>i1,i3,i5</th>\n",
              "      <th>i1,i4,i5</th>\n",
              "      <th>i2,i3,i4</th>\n",
              "      <th>i2,i3,i5</th>\n",
              "      <th>i2,i4,i5</th>\n",
              "      <th>i3,i4,i5</th>\n",
              "      <th>All</th>\n",
              "    </tr>\n",
              "    <tr>\n",
              "      <th>index</th>\n",
              "      <th></th>\n",
              "      <th></th>\n",
              "      <th></th>\n",
              "      <th></th>\n",
              "      <th></th>\n",
              "      <th></th>\n",
              "      <th></th>\n",
              "      <th></th>\n",
              "      <th></th>\n",
              "      <th></th>\n",
              "      <th></th>\n",
              "    </tr>\n",
              "  </thead>\n",
              "  <tbody>\n",
              "    <tr>\n",
              "      <th>T1</th>\n",
              "      <td>0</td>\n",
              "      <td>0</td>\n",
              "      <td>1</td>\n",
              "      <td>0</td>\n",
              "      <td>0</td>\n",
              "      <td>0</td>\n",
              "      <td>0</td>\n",
              "      <td>0</td>\n",
              "      <td>0</td>\n",
              "      <td>0</td>\n",
              "      <td>1</td>\n",
              "    </tr>\n",
              "    <tr>\n",
              "      <th>T4</th>\n",
              "      <td>0</td>\n",
              "      <td>1</td>\n",
              "      <td>0</td>\n",
              "      <td>0</td>\n",
              "      <td>0</td>\n",
              "      <td>0</td>\n",
              "      <td>0</td>\n",
              "      <td>0</td>\n",
              "      <td>0</td>\n",
              "      <td>0</td>\n",
              "      <td>1</td>\n",
              "    </tr>\n",
              "    <tr>\n",
              "      <th>T8</th>\n",
              "      <td>1</td>\n",
              "      <td>0</td>\n",
              "      <td>1</td>\n",
              "      <td>0</td>\n",
              "      <td>1</td>\n",
              "      <td>0</td>\n",
              "      <td>0</td>\n",
              "      <td>1</td>\n",
              "      <td>0</td>\n",
              "      <td>0</td>\n",
              "      <td>4</td>\n",
              "    </tr>\n",
              "    <tr>\n",
              "      <th>T9</th>\n",
              "      <td>1</td>\n",
              "      <td>0</td>\n",
              "      <td>0</td>\n",
              "      <td>0</td>\n",
              "      <td>0</td>\n",
              "      <td>0</td>\n",
              "      <td>0</td>\n",
              "      <td>0</td>\n",
              "      <td>0</td>\n",
              "      <td>0</td>\n",
              "      <td>1</td>\n",
              "    </tr>\n",
              "    <tr>\n",
              "      <th>All</th>\n",
              "      <td>2</td>\n",
              "      <td>1</td>\n",
              "      <td>2</td>\n",
              "      <td>0</td>\n",
              "      <td>1</td>\n",
              "      <td>0</td>\n",
              "      <td>0</td>\n",
              "      <td>1</td>\n",
              "      <td>0</td>\n",
              "      <td>0</td>\n",
              "      <td>7</td>\n",
              "    </tr>\n",
              "  </tbody>\n",
              "</table>\n",
              "</div>"
            ],
            "text/plain": [
              "variable  i1,i2,i3  i1,i2,i4  i1,i2,i5  ...  i2,i4,i5  i3,i4,i5  All\n",
              "index                                   ...                         \n",
              "T1               0         0         1  ...         0         0    1\n",
              "T4               0         1         0  ...         0         0    1\n",
              "T8               1         0         1  ...         0         0    4\n",
              "T9               1         0         0  ...         0         0    1\n",
              "All              2         1         2  ...         0         0    7\n",
              "\n",
              "[5 rows x 11 columns]"
            ]
          },
          "metadata": {
            "tags": []
          },
          "execution_count": 73
        }
      ]
    },
    {
      "cell_type": "code",
      "metadata": {
        "id": "TyLc_6UPgiyt",
        "outputId": "377b8036-3626-4b86-9315-e4843a3473c6",
        "colab": {
          "base_uri": "https://localhost:8080/",
          "height": 77
        }
      },
      "source": [
        "L[k]=C[k].loc[:, (C[k] .sum(axis=0) >= min_sup)]  #Sum of columns is greater then minimum support\n",
        "L[k]=L[k][L[k].sum(axis=1) >= min_sup]            #Sum of rows is greater then minimum support\n",
        "L[k]"
      ],
      "execution_count": null,
      "outputs": [
        {
          "output_type": "execute_result",
          "data": {
            "text/html": [
              "<div>\n",
              "<style scoped>\n",
              "    .dataframe tbody tr th:only-of-type {\n",
              "        vertical-align: middle;\n",
              "    }\n",
              "\n",
              "    .dataframe tbody tr th {\n",
              "        vertical-align: top;\n",
              "    }\n",
              "\n",
              "    .dataframe thead th {\n",
              "        text-align: right;\n",
              "    }\n",
              "</style>\n",
              "<table border=\"1\" class=\"dataframe\">\n",
              "  <thead>\n",
              "    <tr style=\"text-align: right;\">\n",
              "      <th></th>\n",
              "      <th>i1,i2,i3</th>\n",
              "      <th>i1,i2,i5</th>\n",
              "    </tr>\n",
              "  </thead>\n",
              "  <tbody>\n",
              "    <tr>\n",
              "      <th>T8</th>\n",
              "      <td>1</td>\n",
              "      <td>1</td>\n",
              "    </tr>\n",
              "  </tbody>\n",
              "</table>\n",
              "</div>"
            ],
            "text/plain": [
              "    i1,i2,i3  i1,i2,i5\n",
              "T8         1         1"
            ]
          },
          "metadata": {
            "tags": []
          },
          "execution_count": 74
        }
      ]
    },
    {
      "cell_type": "markdown",
      "metadata": {
        "id": "4zBjYg4yjNeK"
      },
      "source": [
        "**Rule Generation**"
      ]
    },
    {
      "cell_type": "code",
      "metadata": {
        "id": "gKHedIkKjMu1",
        "outputId": "6477c861-e3fa-451b-9618-8592676f9064",
        "colab": {
          "base_uri": "https://localhost:8080/",
          "height": 34
        }
      },
      "source": [
        "from itertools import chain, combinations\n",
        "\n",
        "def getNonEmptySubsets(iterable):    \n",
        "    s = list(iterable)\n",
        "    lst=chain.from_iterable(combinations(s, r) for r in range(1,len(s)+1))\n",
        "    lst=[\",\".join(item) for item in lst]\n",
        "    return lst\n",
        "\n",
        "L[k].columns.tolist()    "
      ],
      "execution_count": null,
      "outputs": [
        {
          "output_type": "execute_result",
          "data": {
            "text/plain": [
              "['i1,i2,i3', 'i1,i2,i5']"
            ]
          },
          "metadata": {
            "tags": []
          },
          "execution_count": 75
        }
      ]
    },
    {
      "cell_type": "code",
      "metadata": {
        "id": "Wjob9HBPkjez",
        "outputId": "6e6d2be7-c2e7-45cb-9c14-84f0555b2dc4",
        "colab": {
          "base_uri": "https://localhost:8080/",
          "height": 52
        }
      },
      "source": [
        "for item in L[k].columns.tolist():\n",
        "  tup=tuple(item.split(','))\n",
        "  lst=list(getNonEmptySubsets(tup))\n",
        "  \n",
        "  print(lst)"
      ],
      "execution_count": null,
      "outputs": [
        {
          "output_type": "stream",
          "text": [
            "['i1', 'i2', 'i3', 'i1,i2', 'i1,i3', 'i2,i3', 'i1,i2,i3']\n",
            "['i1', 'i2', 'i5', 'i1,i2', 'i1,i5', 'i2,i5', 'i1,i2,i5']\n"
          ],
          "name": "stdout"
        }
      ]
    },
    {
      "cell_type": "code",
      "metadata": {
        "id": "T3c3LYPBl1zF",
        "outputId": "0e466ea7-dc4b-4016-dec9-4dc4c14ed7b6",
        "colab": {
          "base_uri": "https://localhost:8080/",
          "height": 34
        }
      },
      "source": [
        "min_confidence=60/100\n",
        "min_confidence"
      ],
      "execution_count": null,
      "outputs": [
        {
          "output_type": "execute_result",
          "data": {
            "text/plain": [
              "0.6"
            ]
          },
          "metadata": {
            "tags": []
          },
          "execution_count": 77
        }
      ]
    },
    {
      "cell_type": "code",
      "metadata": {
        "id": "LQNYuY8PWarw",
        "outputId": "b4e18a07-c59a-490d-de63-b5835a87879a",
        "colab": {
          "base_uri": "https://localhost:8080/",
          "height": 167
        }
      },
      "source": [
        "L[2]"
      ],
      "execution_count": null,
      "outputs": [
        {
          "output_type": "execute_result",
          "data": {
            "text/html": [
              "<div>\n",
              "<style scoped>\n",
              "    .dataframe tbody tr th:only-of-type {\n",
              "        vertical-align: middle;\n",
              "    }\n",
              "\n",
              "    .dataframe tbody tr th {\n",
              "        vertical-align: top;\n",
              "    }\n",
              "\n",
              "    .dataframe thead th {\n",
              "        text-align: right;\n",
              "    }\n",
              "</style>\n",
              "<table border=\"1\" class=\"dataframe\">\n",
              "  <thead>\n",
              "    <tr style=\"text-align: right;\">\n",
              "      <th></th>\n",
              "      <th>i2,i4</th>\n",
              "      <th>i1,i3</th>\n",
              "      <th>i2,i5</th>\n",
              "      <th>i1,i2</th>\n",
              "      <th>i2,i3</th>\n",
              "      <th>i1,i5</th>\n",
              "    </tr>\n",
              "  </thead>\n",
              "  <tbody>\n",
              "    <tr>\n",
              "      <th>T1</th>\n",
              "      <td>0</td>\n",
              "      <td>0</td>\n",
              "      <td>1</td>\n",
              "      <td>1</td>\n",
              "      <td>0</td>\n",
              "      <td>1</td>\n",
              "    </tr>\n",
              "    <tr>\n",
              "      <th>T4</th>\n",
              "      <td>1</td>\n",
              "      <td>0</td>\n",
              "      <td>0</td>\n",
              "      <td>1</td>\n",
              "      <td>0</td>\n",
              "      <td>0</td>\n",
              "    </tr>\n",
              "    <tr>\n",
              "      <th>T8</th>\n",
              "      <td>0</td>\n",
              "      <td>1</td>\n",
              "      <td>1</td>\n",
              "      <td>1</td>\n",
              "      <td>1</td>\n",
              "      <td>1</td>\n",
              "    </tr>\n",
              "    <tr>\n",
              "      <th>T9</th>\n",
              "      <td>0</td>\n",
              "      <td>1</td>\n",
              "      <td>0</td>\n",
              "      <td>1</td>\n",
              "      <td>1</td>\n",
              "      <td>0</td>\n",
              "    </tr>\n",
              "  </tbody>\n",
              "</table>\n",
              "</div>"
            ],
            "text/plain": [
              "    i2,i4  i1,i3  i2,i5  i1,i2  i2,i3  i1,i5\n",
              "T1      0      0      1      1      0      1\n",
              "T4      1      0      0      1      0      0\n",
              "T8      0      1      1      1      1      1\n",
              "T9      0      1      0      1      1      0"
            ]
          },
          "metadata": {
            "tags": []
          },
          "execution_count": 78
        }
      ]
    },
    {
      "cell_type": "code",
      "metadata": {
        "id": "SK_zN9wmaTKk"
      },
      "source": [
        ""
      ],
      "execution_count": null,
      "outputs": []
    },
    {
      "cell_type": "code",
      "metadata": {
        "id": "-eUTcBuHaTuq"
      },
      "source": [
        ""
      ],
      "execution_count": null,
      "outputs": []
    },
    {
      "cell_type": "markdown",
      "metadata": {
        "id": "DyLzDWNDaUyo"
      },
      "source": [
        "# Recursive"
      ]
    },
    {
      "cell_type": "code",
      "metadata": {
        "id": "9pNEFcYbaTyL",
        "outputId": "13d22518-efc0-456e-a69a-35821297f88d",
        "colab": {
          "base_uri": "https://localhost:8080/",
          "height": 194
        }
      },
      "source": [
        "import numpy as np\n",
        "import pandas as pd\n",
        "from sklearn.feature_extraction.text import CountVectorizer\n",
        "corpus =['I1,I2,I5',\n",
        "'I2,I4',\n",
        "'I2,I3',\n",
        "'I1,I2,I4',\n",
        "'I1,I3',\n",
        "'I2,I3',\n",
        "'I1,I3',\n",
        "'I1,I2,I3,I5',\n",
        "'I1,I2,I3']\n",
        "vectorizer = CountVectorizer()\n",
        "X = vectorizer.fit_transform(corpus)\n",
        "print(vectorizer.get_feature_names())\n",
        "index_col=['T'+str(i+1)  for i in range(len(corpus))]\n",
        "print(index_col)\n",
        "print(X.toarray())\n",
        "print(index_col)\n",
        "print(X.toarray())"
      ],
      "execution_count": 3,
      "outputs": [
        {
          "output_type": "stream",
          "text": [
            "['T1', 'T2', 'T3', 'T4', 'T5', 'T6', 'T7', 'T8', 'T9']\n",
            "[[1 1 0 0 1]\n",
            " [0 1 0 1 0]\n",
            " [0 1 1 0 0]\n",
            " [1 1 0 1 0]\n",
            " [1 0 1 0 0]\n",
            " [0 1 1 0 0]\n",
            " [1 0 1 0 0]\n",
            " [1 1 1 0 1]\n",
            " [1 1 1 0 0]]\n"
          ],
          "name": "stdout"
        }
      ]
    },
    {
      "cell_type": "code",
      "metadata": {
        "id": "OLDNzjJcbSsw",
        "outputId": "8718c9c7-e01d-4c25-9f74-6667096e6d1c",
        "colab": {
          "base_uri": "https://localhost:8080/",
          "height": 34
        }
      },
      "source": [
        "columns=vectorizer.get_feature_names()\n",
        "columns"
      ],
      "execution_count": 7,
      "outputs": [
        {
          "output_type": "execute_result",
          "data": {
            "text/plain": [
              "['i1', 'i2', 'i3', 'i4', 'i5']"
            ]
          },
          "metadata": {
            "tags": []
          },
          "execution_count": 7
        }
      ]
    },
    {
      "cell_type": "code",
      "metadata": {
        "id": "p-gJdnrranjl",
        "outputId": "b3512d17-9a22-4e71-f913-f6a070e49f70",
        "colab": {
          "base_uri": "https://localhost:8080/",
          "height": 658
        }
      },
      "source": [
        "k=1\n",
        "C={}\n",
        "L={}\n",
        "ct={}\n",
        "min_sup=2\n",
        "# Function which retunrs tuples of item combinations \n",
        "from itertools import combinations \n",
        "def getItemSets(arr, tuple_size): \n",
        "  return frozenset(list(combinations(arr, tuple_size)))\n",
        "\n",
        "def getFrequentItemset(CC,kk):\n",
        "  df_L=None\n",
        "  if kk==1:\n",
        "    df_C=CC.copy()\n",
        "    s=df_C.reset_index().melt('index')\n",
        "    ct[kk]=pd.crosstab(index=s['index'],columns=s.variable,values=s.value,aggfunc='sum',margins=True)\n",
        "    #print(ct[kk])\n",
        "    df_L=df_C.loc[:, (df_C .sum(axis=0) >= min_sup)]  #Sum of columns is greater than minimum support\n",
        "    df_L=df_L[df_L.sum(axis=1) >= min_sup]            #Sum of rows is greater than minimum support\n",
        "  else:\n",
        "    print(getItemSets(L[1],kk+1))\n",
        "    new_df=L[1].copy() # Singleton frequnet itemset\n",
        "\n",
        "    for itemset in getItemSets(L[1],kk+1):\n",
        "      combination_string = \",\".join(itemset)\n",
        "      itemset_as_list=[]\n",
        "      for item in itemset:\n",
        "        itemset_as_list.append(item)\n",
        "      print(itemset_as_list)\n",
        "      new_df[combination_string] = new_df[itemset_as_list].all(axis=1)\n",
        "\n",
        "    new_df.drop(columns,axis=1,inplace=True)\n",
        "    df_L=new_df.loc[:, (new_df .sum(axis=0) >= min_sup)]  #Sum of columns is greater than minimum support\n",
        "    df_L=new_df[df_L.sum(axis=1) >= min_sup]            #Sum of rows is greater than minimum support\n",
        "\n",
        "  return df_L\n",
        "\n",
        "max_items=4\n",
        "for k in range(1,max_items):\n",
        "  if k==1 :\n",
        "    C[k]=pd.DataFrame(data=X.toarray(), index=index_col ,columns=columns)\n",
        "  else:\n",
        "    C[k]=L[k-1].copy()\n",
        "  L[k]=  getFrequentItemset(C[k],k)  \n",
        "  if L[k] is None :\n",
        "    break\n",
        "  else:\n",
        "    print(L[k])\n",
        "print('Retained itemsets -',k)    "
      ],
      "execution_count": 47,
      "outputs": [
        {
          "output_type": "stream",
          "text": [
            "    i1  i2  i3  i4  i5\n",
            "T1   1   1   0   0   1\n",
            "T2   0   1   0   1   0\n",
            "T3   0   1   1   0   0\n",
            "T4   1   1   0   1   0\n",
            "T5   1   0   1   0   0\n",
            "T6   0   1   1   0   0\n",
            "T7   1   0   1   0   0\n",
            "T8   1   1   1   0   1\n",
            "T9   1   1   1   0   0\n",
            "frozenset({('i2', 'i4', 'i5'), ('i2', 'i3', 'i4'), ('i2', 'i3', 'i5'), ('i3', 'i4', 'i5'), ('i1', 'i3', 'i4'), ('i1', 'i2', 'i5'), ('i1', 'i2', 'i3'), ('i1', 'i4', 'i5'), ('i1', 'i2', 'i4'), ('i1', 'i3', 'i5')})\n",
            "['i2', 'i4', 'i5']\n",
            "['i2', 'i3', 'i4']\n",
            "['i2', 'i3', 'i5']\n",
            "['i3', 'i4', 'i5']\n",
            "['i1', 'i3', 'i4']\n",
            "['i1', 'i2', 'i5']\n",
            "['i1', 'i2', 'i3']\n",
            "['i1', 'i4', 'i5']\n",
            "['i1', 'i2', 'i4']\n",
            "['i1', 'i3', 'i5']\n",
            "    i2,i4,i5  i2,i3,i4  i2,i3,i5  ...  i1,i4,i5  i1,i2,i4  i1,i3,i5\n",
            "T8     False     False      True  ...     False     False      True\n",
            "\n",
            "[1 rows x 10 columns]\n",
            "frozenset({('i1', 'i3', 'i4', 'i5'), ('i1', 'i2', 'i3', 'i5'), ('i2', 'i3', 'i4', 'i5'), ('i1', 'i2', 'i4', 'i5'), ('i1', 'i2', 'i3', 'i4')})\n",
            "['i1', 'i3', 'i4', 'i5']\n",
            "['i1', 'i2', 'i3', 'i5']\n",
            "['i2', 'i3', 'i4', 'i5']\n",
            "['i1', 'i2', 'i4', 'i5']\n",
            "['i1', 'i2', 'i3', 'i4']\n",
            "Empty DataFrame\n",
            "Columns: [i1,i3,i4,i5, i1,i2,i3,i5, i2,i3,i4,i5, i1,i2,i4,i5, i1,i2,i3,i4]\n",
            "Index: []\n",
            "Retained itemsets - 3\n"
          ],
          "name": "stdout"
        }
      ]
    },
    {
      "cell_type": "code",
      "metadata": {
        "id": "sXh0Gu5evyto",
        "outputId": "499cd074-a910-414d-cdf0-89f76b123d56",
        "colab": {
          "base_uri": "https://localhost:8080/",
          "height": 34
        }
      },
      "source": [
        "L[k].apply(lambda row: row[row == 1].index, axis=1).to_list()\n",
        "\n",
        "L[k].columns[L[k].eq(True).any()]"
      ],
      "execution_count": 46,
      "outputs": [
        {
          "output_type": "execute_result",
          "data": {
            "text/plain": [
              "Index([], dtype='object')"
            ]
          },
          "metadata": {
            "tags": []
          },
          "execution_count": 46
        }
      ]
    }
  ]
}