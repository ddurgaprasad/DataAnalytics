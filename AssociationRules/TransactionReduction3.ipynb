{
  "nbformat": 4,
  "nbformat_minor": 0,
  "metadata": {
    "colab": {
      "name": "TransactionReduction.ipynb",
      "provenance": [],
      "collapsed_sections": [],
      "toc_visible": true
    },
    "kernelspec": {
      "name": "python3",
      "display_name": "Python 3"
    }
  },
  "cells": [
    {
      "cell_type": "code",
      "metadata": {
        "id": "j5SJZMjocAVq"
      },
      "source": [
        "import numpy as np\n",
        "import pandas as pd\n",
        "from sklearn.feature_extraction.text import CountVectorizer\n",
        "from itertools import chain\n",
        "from collections import OrderedDict\n",
        "from itertools import combinations "
      ],
      "execution_count": 157,
      "outputs": []
    },
    {
      "cell_type": "markdown",
      "metadata": {
        "id": "DyLzDWNDaUyo"
      },
      "source": [
        "# Recursive"
      ]
    },
    {
      "cell_type": "code",
      "metadata": {
        "id": "9pNEFcYbaTyL",
        "outputId": "37799fd1-871e-4562-cfb9-a378962910ae",
        "colab": {
          "base_uri": "https://localhost:8080/",
          "height": 204
        }
      },
      "source": [
        "'''\n",
        "corpus =['I1,I2,I5',\n",
        "'I2,I4',\n",
        "'I2,I3',\n",
        "'I1,I2,I4',\n",
        "'I1,I3',\n",
        "'I2,I3',\n",
        "'I1,I3',\n",
        "'I1,I2,I3,I5',\n",
        "'I1,I2,I3']\n",
        "\n",
        "'''\n",
        "corpus=['I1,I2,I5',\n",
        "'I2,I3,I4',\n",
        "'I3,I4',\n",
        "'I1,I2,I3,I4']\n",
        "\n",
        "vectorizer = CountVectorizer()\n",
        "X = vectorizer.fit_transform(corpus)\n",
        "print(vectorizer.get_feature_names())\n",
        "index_col=['T'+str(i+1)  for i in range(len(corpus))]\n",
        "print(index_col)\n",
        "print(X.toarray())\n",
        "print(index_col)\n",
        "print(X.toarray())"
      ],
      "execution_count": 158,
      "outputs": [
        {
          "output_type": "stream",
          "text": [
            "['i1', 'i2', 'i3', 'i4', 'i5']\n",
            "['T1', 'T2', 'T3', 'T4']\n",
            "[[1 1 0 0 1]\n",
            " [0 1 1 1 0]\n",
            " [0 0 1 1 0]\n",
            " [1 1 1 1 0]]\n",
            "['T1', 'T2', 'T3', 'T4']\n",
            "[[1 1 0 0 1]\n",
            " [0 1 1 1 0]\n",
            " [0 0 1 1 0]\n",
            " [1 1 1 1 0]]\n"
          ],
          "name": "stdout"
        }
      ]
    },
    {
      "cell_type": "code",
      "metadata": {
        "id": "OLDNzjJcbSsw",
        "outputId": "88c56b2a-3357-46f8-d813-9e5dc2d63279",
        "colab": {
          "base_uri": "https://localhost:8080/",
          "height": 34
        }
      },
      "source": [
        "columns=vectorizer.get_feature_names()\n",
        "columns"
      ],
      "execution_count": 159,
      "outputs": [
        {
          "output_type": "execute_result",
          "data": {
            "text/plain": [
              "['i1', 'i2', 'i3', 'i4', 'i5']"
            ]
          },
          "metadata": {
            "tags": []
          },
          "execution_count": 159
        }
      ]
    },
    {
      "cell_type": "code",
      "metadata": {
        "id": "sXh0Gu5evyto"
      },
      "source": [
        "#L[k].apply(lambda row: row[row == 1].index, axis=1).to_list()\n",
        "\n",
        "#L[k].columns[L[k].eq(True).any()]"
      ],
      "execution_count": 160,
      "outputs": []
    },
    {
      "cell_type": "code",
      "metadata": {
        "id": "FwyZg6jn_vRF"
      },
      "source": [
        "columns\n",
        "C={}\n",
        "L={}\n",
        "candidates=None\n",
        "min_sup=2\n",
        "def getMinSupport(my_table,min_sup,candidates_temp):\n",
        "  if candidates_temp is None:    \n",
        "    df_L=my_table.loc[:, (my_table .sum(axis=0) >= min_sup)]      #Sum of columns is greater than minimum support\n",
        "    df_L=df_L[df_L.sum(axis=1) >= min_sup]                        #Sum of rows is greater than minimum support\n",
        "    return df_L\n",
        "  else:\n",
        "    rows_singleton=my_table.index.to_list() #Get min support rows\n",
        "    cols_singleton=L[1].columns.to_list()   # Get min support singleton columns\n",
        "    #print('rows_singleton ' ,rows_singleton)\n",
        "    #print('cols_singleton ' ,cols_singleton)\n",
        "\n",
        "    new_df=L[1][cols_singleton] \n",
        "    #print('new_df')\n",
        "    #print(new_df)\n",
        "    for itemset in candidates_temp:\n",
        "      combination_string = \",\".join(itemset)\n",
        "      itemset_as_list=[]\n",
        "      for item in itemset:\n",
        "        itemset_as_list.append(item)\n",
        "      print(itemset_as_list)\n",
        "      new_df[combination_string] = new_df[itemset_as_list].all(axis=1)\n",
        "\n",
        "    #print(new_df)\n",
        "    new_df.drop(cols_singleton,axis=1,inplace=True)\n",
        "\n",
        "    df_L=new_df.loc[:, (new_df .sum(axis=0) >= min_sup)]  #Sum of columns is greater than minimum support\n",
        "    df_L=new_df[df_L.sum(axis=1) >= min_sup]              #Sum of rows is greater than minimum support\n",
        "    \n",
        "  return df_L\n",
        "\n",
        "def getCandidateSets(arr,tuple_size,iteration):   \n",
        "  temp_itemtuple_list=[]\n",
        "  temp=list(combinations(arr,2))  \n",
        "  for item in temp:\n",
        "    mylist=(item[0]+',' +item[1]).split(',')\n",
        "    t=list(dict.fromkeys(mylist))\n",
        "    if len(t) == iteration+1:\n",
        "      valid_tuple=t\n",
        "      temp_itemtuple_list.append(valid_tuple)\n",
        "  return temp_itemtuple_list "
      ],
      "execution_count": 161,
      "outputs": []
    },
    {
      "cell_type": "code",
      "metadata": {
        "id": "6EW4KfGF_y3C",
        "outputId": "f3244ed1-a815-416c-874e-d01de68b0141",
        "colab": {
          "base_uri": "https://localhost:8080/",
          "height": 173
        }
      },
      "source": [
        "k=1\n",
        "C[k]=pd.DataFrame(data=X.toarray(), index=index_col ,columns=columns)\n",
        "C[k]"
      ],
      "execution_count": 162,
      "outputs": [
        {
          "output_type": "execute_result",
          "data": {
            "text/html": [
              "<div>\n",
              "<style scoped>\n",
              "    .dataframe tbody tr th:only-of-type {\n",
              "        vertical-align: middle;\n",
              "    }\n",
              "\n",
              "    .dataframe tbody tr th {\n",
              "        vertical-align: top;\n",
              "    }\n",
              "\n",
              "    .dataframe thead th {\n",
              "        text-align: right;\n",
              "    }\n",
              "</style>\n",
              "<table border=\"1\" class=\"dataframe\">\n",
              "  <thead>\n",
              "    <tr style=\"text-align: right;\">\n",
              "      <th></th>\n",
              "      <th>i1</th>\n",
              "      <th>i2</th>\n",
              "      <th>i3</th>\n",
              "      <th>i4</th>\n",
              "      <th>i5</th>\n",
              "    </tr>\n",
              "  </thead>\n",
              "  <tbody>\n",
              "    <tr>\n",
              "      <th>T1</th>\n",
              "      <td>1</td>\n",
              "      <td>1</td>\n",
              "      <td>0</td>\n",
              "      <td>0</td>\n",
              "      <td>1</td>\n",
              "    </tr>\n",
              "    <tr>\n",
              "      <th>T2</th>\n",
              "      <td>0</td>\n",
              "      <td>1</td>\n",
              "      <td>1</td>\n",
              "      <td>1</td>\n",
              "      <td>0</td>\n",
              "    </tr>\n",
              "    <tr>\n",
              "      <th>T3</th>\n",
              "      <td>0</td>\n",
              "      <td>0</td>\n",
              "      <td>1</td>\n",
              "      <td>1</td>\n",
              "      <td>0</td>\n",
              "    </tr>\n",
              "    <tr>\n",
              "      <th>T4</th>\n",
              "      <td>1</td>\n",
              "      <td>1</td>\n",
              "      <td>1</td>\n",
              "      <td>1</td>\n",
              "      <td>0</td>\n",
              "    </tr>\n",
              "  </tbody>\n",
              "</table>\n",
              "</div>"
            ],
            "text/plain": [
              "    i1  i2  i3  i4  i5\n",
              "T1   1   1   0   0   1\n",
              "T2   0   1   1   1   0\n",
              "T3   0   0   1   1   0\n",
              "T4   1   1   1   1   0"
            ]
          },
          "metadata": {
            "tags": []
          },
          "execution_count": 162
        }
      ]
    },
    {
      "cell_type": "code",
      "metadata": {
        "id": "jASp7SQB_3MY",
        "outputId": "6b15a903-c7fe-4a8e-b4b0-05db7de10343",
        "colab": {
          "base_uri": "https://localhost:8080/",
          "height": 173
        }
      },
      "source": [
        "L[k]=getMinSupport(C[k],min_sup,candidates)\n",
        "L[k]"
      ],
      "execution_count": 163,
      "outputs": [
        {
          "output_type": "execute_result",
          "data": {
            "text/html": [
              "<div>\n",
              "<style scoped>\n",
              "    .dataframe tbody tr th:only-of-type {\n",
              "        vertical-align: middle;\n",
              "    }\n",
              "\n",
              "    .dataframe tbody tr th {\n",
              "        vertical-align: top;\n",
              "    }\n",
              "\n",
              "    .dataframe thead th {\n",
              "        text-align: right;\n",
              "    }\n",
              "</style>\n",
              "<table border=\"1\" class=\"dataframe\">\n",
              "  <thead>\n",
              "    <tr style=\"text-align: right;\">\n",
              "      <th></th>\n",
              "      <th>i1</th>\n",
              "      <th>i2</th>\n",
              "      <th>i3</th>\n",
              "      <th>i4</th>\n",
              "    </tr>\n",
              "  </thead>\n",
              "  <tbody>\n",
              "    <tr>\n",
              "      <th>T1</th>\n",
              "      <td>1</td>\n",
              "      <td>1</td>\n",
              "      <td>0</td>\n",
              "      <td>0</td>\n",
              "    </tr>\n",
              "    <tr>\n",
              "      <th>T2</th>\n",
              "      <td>0</td>\n",
              "      <td>1</td>\n",
              "      <td>1</td>\n",
              "      <td>1</td>\n",
              "    </tr>\n",
              "    <tr>\n",
              "      <th>T3</th>\n",
              "      <td>0</td>\n",
              "      <td>0</td>\n",
              "      <td>1</td>\n",
              "      <td>1</td>\n",
              "    </tr>\n",
              "    <tr>\n",
              "      <th>T4</th>\n",
              "      <td>1</td>\n",
              "      <td>1</td>\n",
              "      <td>1</td>\n",
              "      <td>1</td>\n",
              "    </tr>\n",
              "  </tbody>\n",
              "</table>\n",
              "</div>"
            ],
            "text/plain": [
              "    i1  i2  i3  i4\n",
              "T1   1   1   0   0\n",
              "T2   0   1   1   1\n",
              "T3   0   0   1   1\n",
              "T4   1   1   1   1"
            ]
          },
          "metadata": {
            "tags": []
          },
          "execution_count": 163
        }
      ]
    },
    {
      "cell_type": "code",
      "metadata": {
        "id": "B6QdeKOgCK_X",
        "outputId": "9ca55533-b0e4-4ebe-d976-0f32b5141d43",
        "colab": {
          "base_uri": "https://localhost:8080/",
          "height": 213
        }
      },
      "source": [
        "candidates=getCandidateSets(L[k].columns.to_list(),2,k)\n",
        "candidates\n",
        "k=k+1\n",
        "L[k]=getMinSupport(L[k-1],min_sup,candidates)\n",
        "L[k]"
      ],
      "execution_count": 164,
      "outputs": [
        {
          "output_type": "stream",
          "text": [
            "['i1', 'i2']\n",
            "['i1', 'i3']\n",
            "['i1', 'i4']\n",
            "['i2', 'i3']\n",
            "['i2', 'i4']\n",
            "['i3', 'i4']\n"
          ],
          "name": "stdout"
        },
        {
          "output_type": "execute_result",
          "data": {
            "text/html": [
              "<div>\n",
              "<style scoped>\n",
              "    .dataframe tbody tr th:only-of-type {\n",
              "        vertical-align: middle;\n",
              "    }\n",
              "\n",
              "    .dataframe tbody tr th {\n",
              "        vertical-align: top;\n",
              "    }\n",
              "\n",
              "    .dataframe thead th {\n",
              "        text-align: right;\n",
              "    }\n",
              "</style>\n",
              "<table border=\"1\" class=\"dataframe\">\n",
              "  <thead>\n",
              "    <tr style=\"text-align: right;\">\n",
              "      <th></th>\n",
              "      <th>i1,i2</th>\n",
              "      <th>i1,i3</th>\n",
              "      <th>i1,i4</th>\n",
              "      <th>i2,i3</th>\n",
              "      <th>i2,i4</th>\n",
              "      <th>i3,i4</th>\n",
              "    </tr>\n",
              "  </thead>\n",
              "  <tbody>\n",
              "    <tr>\n",
              "      <th>T2</th>\n",
              "      <td>False</td>\n",
              "      <td>False</td>\n",
              "      <td>False</td>\n",
              "      <td>True</td>\n",
              "      <td>True</td>\n",
              "      <td>True</td>\n",
              "    </tr>\n",
              "    <tr>\n",
              "      <th>T4</th>\n",
              "      <td>True</td>\n",
              "      <td>True</td>\n",
              "      <td>True</td>\n",
              "      <td>True</td>\n",
              "      <td>True</td>\n",
              "      <td>True</td>\n",
              "    </tr>\n",
              "  </tbody>\n",
              "</table>\n",
              "</div>"
            ],
            "text/plain": [
              "    i1,i2  i1,i3  i1,i4  i2,i3  i2,i4  i3,i4\n",
              "T2  False  False  False   True   True   True\n",
              "T4   True   True   True   True   True   True"
            ]
          },
          "metadata": {
            "tags": []
          },
          "execution_count": 164
        }
      ]
    },
    {
      "cell_type": "code",
      "metadata": {
        "id": "xJnNPi5LDjlv",
        "outputId": "d7f566e7-0b4f-413b-cde5-87671929aef2",
        "colab": {
          "base_uri": "https://localhost:8080/",
          "height": 315
        }
      },
      "source": [
        "candidates=getCandidateSets(L[k].columns.to_list(),2,k)\n",
        "candidates\n",
        "k=k+1\n",
        "L[k]=getMinSupport(L[k-1],min_sup,candidates)\n",
        "L[k]"
      ],
      "execution_count": 165,
      "outputs": [
        {
          "output_type": "stream",
          "text": [
            "['i1', 'i2', 'i3']\n",
            "['i1', 'i2', 'i4']\n",
            "['i1', 'i2', 'i3']\n",
            "['i1', 'i2', 'i4']\n",
            "['i1', 'i3', 'i4']\n",
            "['i1', 'i3', 'i2']\n",
            "['i1', 'i3', 'i4']\n",
            "['i1', 'i4', 'i2']\n",
            "['i1', 'i4', 'i3']\n",
            "['i2', 'i3', 'i4']\n",
            "['i2', 'i3', 'i4']\n",
            "['i2', 'i4', 'i3']\n"
          ],
          "name": "stdout"
        },
        {
          "output_type": "execute_result",
          "data": {
            "text/html": [
              "<div>\n",
              "<style scoped>\n",
              "    .dataframe tbody tr th:only-of-type {\n",
              "        vertical-align: middle;\n",
              "    }\n",
              "\n",
              "    .dataframe tbody tr th {\n",
              "        vertical-align: top;\n",
              "    }\n",
              "\n",
              "    .dataframe thead th {\n",
              "        text-align: right;\n",
              "    }\n",
              "</style>\n",
              "<table border=\"1\" class=\"dataframe\">\n",
              "  <thead>\n",
              "    <tr style=\"text-align: right;\">\n",
              "      <th></th>\n",
              "      <th>i1,i2,i3</th>\n",
              "      <th>i1,i2,i4</th>\n",
              "      <th>i1,i3,i4</th>\n",
              "      <th>i1,i3,i2</th>\n",
              "      <th>i1,i4,i2</th>\n",
              "      <th>i1,i4,i3</th>\n",
              "      <th>i2,i3,i4</th>\n",
              "      <th>i2,i4,i3</th>\n",
              "    </tr>\n",
              "  </thead>\n",
              "  <tbody>\n",
              "    <tr>\n",
              "      <th>T2</th>\n",
              "      <td>False</td>\n",
              "      <td>False</td>\n",
              "      <td>False</td>\n",
              "      <td>False</td>\n",
              "      <td>False</td>\n",
              "      <td>False</td>\n",
              "      <td>True</td>\n",
              "      <td>True</td>\n",
              "    </tr>\n",
              "    <tr>\n",
              "      <th>T4</th>\n",
              "      <td>True</td>\n",
              "      <td>True</td>\n",
              "      <td>True</td>\n",
              "      <td>True</td>\n",
              "      <td>True</td>\n",
              "      <td>True</td>\n",
              "      <td>True</td>\n",
              "      <td>True</td>\n",
              "    </tr>\n",
              "  </tbody>\n",
              "</table>\n",
              "</div>"
            ],
            "text/plain": [
              "    i1,i2,i3  i1,i2,i4  i1,i3,i4  ...  i1,i4,i3  i2,i3,i4  i2,i4,i3\n",
              "T2     False     False     False  ...     False      True      True\n",
              "T4      True      True      True  ...      True      True      True\n",
              "\n",
              "[2 rows x 8 columns]"
            ]
          },
          "metadata": {
            "tags": []
          },
          "execution_count": 165
        }
      ]
    },
    {
      "cell_type": "code",
      "metadata": {
        "id": "doSJDiQKDoym",
        "outputId": "243afb4a-ff0d-479e-9118-03f7dfbd5061",
        "colab": {
          "base_uri": "https://localhost:8080/",
          "height": 457
        }
      },
      "source": [
        "candidates=getCandidateSets(L[k].columns.to_list(),2,k)\n",
        "candidates\n",
        "k=k+1\n",
        "L[k]=getMinSupport(L[k-1],min_sup,candidates)\n",
        "L[k]"
      ],
      "execution_count": 166,
      "outputs": [
        {
          "output_type": "stream",
          "text": [
            "['i1', 'i2', 'i3', 'i4']\n",
            "['i1', 'i2', 'i3', 'i4']\n",
            "['i1', 'i2', 'i3', 'i4']\n",
            "['i1', 'i2', 'i3', 'i4']\n",
            "['i1', 'i2', 'i3', 'i4']\n",
            "['i1', 'i2', 'i3', 'i4']\n",
            "['i1', 'i2', 'i4', 'i3']\n",
            "['i1', 'i2', 'i4', 'i3']\n",
            "['i1', 'i2', 'i4', 'i3']\n",
            "['i1', 'i2', 'i4', 'i3']\n",
            "['i1', 'i2', 'i4', 'i3']\n",
            "['i1', 'i3', 'i4', 'i2']\n",
            "['i1', 'i3', 'i4', 'i2']\n",
            "['i1', 'i3', 'i4', 'i2']\n",
            "['i1', 'i3', 'i4', 'i2']\n",
            "['i1', 'i3', 'i2', 'i4']\n",
            "['i1', 'i3', 'i2', 'i4']\n",
            "['i1', 'i3', 'i2', 'i4']\n",
            "['i1', 'i3', 'i2', 'i4']\n",
            "['i1', 'i4', 'i2', 'i3']\n",
            "['i1', 'i4', 'i2', 'i3']\n",
            "['i1', 'i4', 'i2', 'i3']\n",
            "['i1', 'i4', 'i3', 'i2']\n",
            "['i1', 'i4', 'i3', 'i2']\n"
          ],
          "name": "stdout"
        },
        {
          "output_type": "execute_result",
          "data": {
            "text/html": [
              "<div>\n",
              "<style scoped>\n",
              "    .dataframe tbody tr th:only-of-type {\n",
              "        vertical-align: middle;\n",
              "    }\n",
              "\n",
              "    .dataframe tbody tr th {\n",
              "        vertical-align: top;\n",
              "    }\n",
              "\n",
              "    .dataframe thead th {\n",
              "        text-align: right;\n",
              "    }\n",
              "</style>\n",
              "<table border=\"1\" class=\"dataframe\">\n",
              "  <thead>\n",
              "    <tr style=\"text-align: right;\">\n",
              "      <th></th>\n",
              "      <th>i1,i2,i3,i4</th>\n",
              "      <th>i1,i2,i4,i3</th>\n",
              "      <th>i1,i3,i4,i2</th>\n",
              "      <th>i1,i3,i2,i4</th>\n",
              "      <th>i1,i4,i2,i3</th>\n",
              "      <th>i1,i4,i3,i2</th>\n",
              "    </tr>\n",
              "  </thead>\n",
              "  <tbody>\n",
              "  </tbody>\n",
              "</table>\n",
              "</div>"
            ],
            "text/plain": [
              "Empty DataFrame\n",
              "Columns: [i1,i2,i3,i4, i1,i2,i4,i3, i1,i3,i4,i2, i1,i3,i2,i4, i1,i4,i2,i3, i1,i4,i3,i2]\n",
              "Index: []"
            ]
          },
          "metadata": {
            "tags": []
          },
          "execution_count": 166
        }
      ]
    },
    {
      "cell_type": "code",
      "metadata": {
        "id": "xsXdpS0aG5Bf",
        "outputId": "09a06070-7880-4d8b-c5f6-60ce43e4bb9d",
        "colab": {
          "base_uri": "https://localhost:8080/",
          "height": 34
        }
      },
      "source": [
        "if (len(L[k].index) ==0):\n",
        "  print('Terminated  generaion of itemsets')"
      ],
      "execution_count": 167,
      "outputs": [
        {
          "output_type": "stream",
          "text": [
            "Terminated  generaion of itemsets\n"
          ],
          "name": "stdout"
        }
      ]
    }
  ]
}