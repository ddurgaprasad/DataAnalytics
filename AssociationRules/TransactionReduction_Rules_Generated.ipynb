{
  "nbformat": 4,
  "nbformat_minor": 0,
  "metadata": {
    "colab": {
      "name": "TransactionReduction3.ipynb",
      "provenance": [],
      "collapsed_sections": [],
      "toc_visible": true
    },
    "kernelspec": {
      "name": "python3",
      "display_name": "Python 3"
    }
  },
  "cells": [
    {
      "cell_type": "code",
      "metadata": {
        "id": "j5SJZMjocAVq"
      },
      "source": [
        "import numpy as np\n",
        "import pandas as pd\n",
        "from sklearn.feature_extraction.text import CountVectorizer\n",
        "from itertools import chain\n",
        "from collections import OrderedDict\n",
        "from itertools import combinations "
      ],
      "execution_count": 411,
      "outputs": []
    },
    {
      "cell_type": "markdown",
      "metadata": {
        "id": "DyLzDWNDaUyo"
      },
      "source": [
        "# Recursive"
      ]
    },
    {
      "cell_type": "code",
      "metadata": {
        "id": "9pNEFcYbaTyL",
        "outputId": "0464c133-cf1c-4d2d-89ff-0ee866b046e6",
        "colab": {
          "base_uri": "https://localhost:8080/",
          "height": 208
        }
      },
      "source": [
        "'''\n",
        "corpus =['I1,I2,I5',\n",
        "'I2,I4',\n",
        "'I2,I3',\n",
        "'I1,I2,I4',\n",
        "'I1,I3',\n",
        "'I2,I3',\n",
        "'I1,I3',\n",
        "'I1,I2,I3,I5',\n",
        "'I1,I2,I3']\n",
        "\n",
        "'''\n",
        "corpus=['I1,I2,I5',\n",
        "'I2,I3,I4',\n",
        "'I3,I4',\n",
        "'I1,I2,I3,I4']\n",
        "\n",
        "\n",
        "vectorizer = CountVectorizer()\n",
        "X = vectorizer.fit_transform(corpus)\n",
        "print(vectorizer.get_feature_names())\n",
        "index_col=['T'+str(i+1)  for i in range(len(corpus))]\n",
        "print(index_col)\n",
        "print(X.toarray())\n",
        "print(index_col)\n",
        "print(X.toarray())"
      ],
      "execution_count": 412,
      "outputs": [
        {
          "output_type": "stream",
          "text": [
            "['i1', 'i2', 'i3', 'i4', 'i5']\n",
            "['T1', 'T2', 'T3', 'T4']\n",
            "[[1 1 0 0 1]\n",
            " [0 1 1 1 0]\n",
            " [0 0 1 1 0]\n",
            " [1 1 1 1 0]]\n",
            "['T1', 'T2', 'T3', 'T4']\n",
            "[[1 1 0 0 1]\n",
            " [0 1 1 1 0]\n",
            " [0 0 1 1 0]\n",
            " [1 1 1 1 0]]\n"
          ],
          "name": "stdout"
        }
      ]
    },
    {
      "cell_type": "code",
      "metadata": {
        "id": "OLDNzjJcbSsw",
        "outputId": "c274dd40-dff8-4051-b682-c02a7c35e2de",
        "colab": {
          "base_uri": "https://localhost:8080/",
          "height": 34
        }
      },
      "source": [
        "columns=vectorizer.get_feature_names()\n",
        "columns"
      ],
      "execution_count": 413,
      "outputs": [
        {
          "output_type": "execute_result",
          "data": {
            "text/plain": [
              "['i1', 'i2', 'i3', 'i4', 'i5']"
            ]
          },
          "metadata": {
            "tags": []
          },
          "execution_count": 413
        }
      ]
    },
    {
      "cell_type": "code",
      "metadata": {
        "id": "sXh0Gu5evyto"
      },
      "source": [
        "#L[k].apply(lambda row: row[row == 1].index, axis=1).to_list()\n",
        "\n",
        "#L[k].columns[L[k].eq(True).any()]"
      ],
      "execution_count": 414,
      "outputs": []
    },
    {
      "cell_type": "code",
      "metadata": {
        "id": "FwyZg6jn_vRF"
      },
      "source": [
        "columns\n",
        "C={}\n",
        "L={}\n",
        "candidates=None\n",
        "min_sup=2\n",
        "def getMinSupport(my_table,min_sup,candidates_temp):\n",
        "  if candidates_temp is None:    \n",
        "    df_L=my_table.loc[:, (my_table .sum(axis=0) >= min_sup)]      #Sum of columns is greater than minimum support\n",
        "    df_L=df_L[df_L.sum(axis=1) >= min_sup]                        #Sum of rows is greater than minimum support\n",
        "    return df_L\n",
        "  else:\n",
        "    rows_singleton=my_table.index.to_list() #Get min support rows\n",
        "    cols_singleton=L[1].columns.to_list()   # Get min support singleton columns\n",
        "    print('rows_singleton ' ,rows_singleton)\n",
        "    #print('cols_singleton ' ,cols_singleton)\n",
        "\n",
        "    new_df=L[1][cols_singleton].copy()\n",
        "    new_df=new_df[new_df.index.isin(my_table.index)]\n",
        "    #print('new_df')\n",
        "    #print(new_df)\n",
        "    for itemset in candidates_temp:\n",
        "      combination_string = \",\".join(itemset)\n",
        "      itemset_as_list=[]\n",
        "      for item in itemset:\n",
        "        itemset_as_list.append(item)\n",
        "      print(itemset_as_list)\n",
        "      new_df[combination_string] = new_df[itemset_as_list].all(axis=1)\n",
        "    print('Before dropping singleton columns')\n",
        "    print(new_df)\n",
        "    new_df.drop(cols_singleton,axis=1,inplace=True)\n",
        "\n",
        "    print('After dropping singleton columns')\n",
        "    print(new_df)\n",
        "\n",
        "    df_L=new_df.loc[:, (new_df .sum(axis=0) >= min_sup)]  #Sum of columns is greater than minimum support\n",
        "    print('Sum of columns is greater than minimum support')\n",
        "    print(df_L)\n",
        "\n",
        "    if len(df_L.columns) ==1 :\n",
        "      return df_L\n",
        "\n",
        "    df_L=df_L[df_L.sum(axis=1) >= min_sup]                #Sum of rows is greater than minimum support\n",
        "    print('Sum of rows is greater than minimum support')\n",
        "    print(df_L)\n",
        "    \n",
        "  return df_L\n",
        "\n",
        "# Python3 program to remove duplicate \n",
        "# tuples from list of tuples \n",
        "\n",
        "def removeDuplicates(lst): \t\n",
        "\treturn [t for t in (set(tuple(i) for i in lst))] \n",
        "\t\n",
        "\n",
        "def getCandidateSets(arr,tuple_size,iteration):   \n",
        "  temp_itemtuple_list=[]\n",
        "  temp=list(combinations(arr,2))  \n",
        "  for item in temp:\n",
        "    mylist=(item[0]+',' +item[1]).split(',')\n",
        "    t=sorted(list(dict.fromkeys(mylist))) #Order the item list lexigraphically\n",
        "    if len(t) == iteration+1:\n",
        "      valid_tuple=t\n",
        "      temp_itemtuple_list.append(valid_tuple)\n",
        "\n",
        "  temp_itemtuple_list=removeDuplicates(temp_itemtuple_list)   #Remove duplicate tuples from the list \n",
        "  return temp_itemtuple_list "
      ],
      "execution_count": 415,
      "outputs": []
    },
    {
      "cell_type": "code",
      "metadata": {
        "id": "6EW4KfGF_y3C",
        "outputId": "a532bdc3-0b58-4d24-cc63-372c00d2c99e",
        "colab": {
          "base_uri": "https://localhost:8080/",
          "height": 172
        }
      },
      "source": [
        "k=1\n",
        "C[k]=pd.DataFrame(data=X.toarray(), index=index_col ,columns=columns)\n",
        "C[k]"
      ],
      "execution_count": 416,
      "outputs": [
        {
          "output_type": "execute_result",
          "data": {
            "text/html": [
              "<div>\n",
              "<style scoped>\n",
              "    .dataframe tbody tr th:only-of-type {\n",
              "        vertical-align: middle;\n",
              "    }\n",
              "\n",
              "    .dataframe tbody tr th {\n",
              "        vertical-align: top;\n",
              "    }\n",
              "\n",
              "    .dataframe thead th {\n",
              "        text-align: right;\n",
              "    }\n",
              "</style>\n",
              "<table border=\"1\" class=\"dataframe\">\n",
              "  <thead>\n",
              "    <tr style=\"text-align: right;\">\n",
              "      <th></th>\n",
              "      <th>i1</th>\n",
              "      <th>i2</th>\n",
              "      <th>i3</th>\n",
              "      <th>i4</th>\n",
              "      <th>i5</th>\n",
              "    </tr>\n",
              "  </thead>\n",
              "  <tbody>\n",
              "    <tr>\n",
              "      <th>T1</th>\n",
              "      <td>1</td>\n",
              "      <td>1</td>\n",
              "      <td>0</td>\n",
              "      <td>0</td>\n",
              "      <td>1</td>\n",
              "    </tr>\n",
              "    <tr>\n",
              "      <th>T2</th>\n",
              "      <td>0</td>\n",
              "      <td>1</td>\n",
              "      <td>1</td>\n",
              "      <td>1</td>\n",
              "      <td>0</td>\n",
              "    </tr>\n",
              "    <tr>\n",
              "      <th>T3</th>\n",
              "      <td>0</td>\n",
              "      <td>0</td>\n",
              "      <td>1</td>\n",
              "      <td>1</td>\n",
              "      <td>0</td>\n",
              "    </tr>\n",
              "    <tr>\n",
              "      <th>T4</th>\n",
              "      <td>1</td>\n",
              "      <td>1</td>\n",
              "      <td>1</td>\n",
              "      <td>1</td>\n",
              "      <td>0</td>\n",
              "    </tr>\n",
              "  </tbody>\n",
              "</table>\n",
              "</div>"
            ],
            "text/plain": [
              "    i1  i2  i3  i4  i5\n",
              "T1   1   1   0   0   1\n",
              "T2   0   1   1   1   0\n",
              "T3   0   0   1   1   0\n",
              "T4   1   1   1   1   0"
            ]
          },
          "metadata": {
            "tags": []
          },
          "execution_count": 416
        }
      ]
    },
    {
      "cell_type": "code",
      "metadata": {
        "id": "jASp7SQB_3MY",
        "outputId": "dc5e5c18-ad95-44b6-b0d9-7a0581c6c791",
        "colab": {
          "base_uri": "https://localhost:8080/",
          "height": 172
        }
      },
      "source": [
        "L[k]=getMinSupport(C[k],min_sup,candidates)\n",
        "L[k]"
      ],
      "execution_count": 417,
      "outputs": [
        {
          "output_type": "execute_result",
          "data": {
            "text/html": [
              "<div>\n",
              "<style scoped>\n",
              "    .dataframe tbody tr th:only-of-type {\n",
              "        vertical-align: middle;\n",
              "    }\n",
              "\n",
              "    .dataframe tbody tr th {\n",
              "        vertical-align: top;\n",
              "    }\n",
              "\n",
              "    .dataframe thead th {\n",
              "        text-align: right;\n",
              "    }\n",
              "</style>\n",
              "<table border=\"1\" class=\"dataframe\">\n",
              "  <thead>\n",
              "    <tr style=\"text-align: right;\">\n",
              "      <th></th>\n",
              "      <th>i1</th>\n",
              "      <th>i2</th>\n",
              "      <th>i3</th>\n",
              "      <th>i4</th>\n",
              "    </tr>\n",
              "  </thead>\n",
              "  <tbody>\n",
              "    <tr>\n",
              "      <th>T1</th>\n",
              "      <td>1</td>\n",
              "      <td>1</td>\n",
              "      <td>0</td>\n",
              "      <td>0</td>\n",
              "    </tr>\n",
              "    <tr>\n",
              "      <th>T2</th>\n",
              "      <td>0</td>\n",
              "      <td>1</td>\n",
              "      <td>1</td>\n",
              "      <td>1</td>\n",
              "    </tr>\n",
              "    <tr>\n",
              "      <th>T3</th>\n",
              "      <td>0</td>\n",
              "      <td>0</td>\n",
              "      <td>1</td>\n",
              "      <td>1</td>\n",
              "    </tr>\n",
              "    <tr>\n",
              "      <th>T4</th>\n",
              "      <td>1</td>\n",
              "      <td>1</td>\n",
              "      <td>1</td>\n",
              "      <td>1</td>\n",
              "    </tr>\n",
              "  </tbody>\n",
              "</table>\n",
              "</div>"
            ],
            "text/plain": [
              "    i1  i2  i3  i4\n",
              "T1   1   1   0   0\n",
              "T2   0   1   1   1\n",
              "T3   0   0   1   1\n",
              "T4   1   1   1   1"
            ]
          },
          "metadata": {
            "tags": []
          },
          "execution_count": 417
        }
      ]
    },
    {
      "cell_type": "code",
      "metadata": {
        "id": "B6QdeKOgCK_X",
        "outputId": "e36b9453-3856-4279-dcbb-d4c1b871bce9",
        "colab": {
          "base_uri": "https://localhost:8080/",
          "height": 613
        }
      },
      "source": [
        "candidates=getCandidateSets(L[k].columns.to_list(),2,k)\n",
        "candidates\n",
        "k=k+1\n",
        "L[k]=getMinSupport(L[k-1],min_sup,candidates)\n",
        "L[k]"
      ],
      "execution_count": 418,
      "outputs": [
        {
          "output_type": "stream",
          "text": [
            "rows_singleton  ['T1', 'T2', 'T3', 'T4']\n",
            "['i1', 'i3']\n",
            "['i3', 'i4']\n",
            "['i1', 'i2']\n",
            "['i2', 'i4']\n",
            "['i2', 'i3']\n",
            "['i1', 'i4']\n",
            "Before dropping singleton columns\n",
            "    i1  i2  i3  i4  i1,i3  i3,i4  i1,i2  i2,i4  i2,i3  i1,i4\n",
            "T1   1   1   0   0  False  False   True  False  False  False\n",
            "T2   0   1   1   1  False   True  False   True   True  False\n",
            "T3   0   0   1   1  False   True  False  False  False  False\n",
            "T4   1   1   1   1   True   True   True   True   True   True\n",
            "After dropping singleton columns\n",
            "    i1,i3  i3,i4  i1,i2  i2,i4  i2,i3  i1,i4\n",
            "T1  False  False   True  False  False  False\n",
            "T2  False   True  False   True   True  False\n",
            "T3  False   True  False  False  False  False\n",
            "T4   True   True   True   True   True   True\n",
            "Sum of columns is greater than minimum support\n",
            "    i3,i4  i1,i2  i2,i4  i2,i3\n",
            "T1  False   True  False  False\n",
            "T2   True  False   True   True\n",
            "T3   True  False  False  False\n",
            "T4   True   True   True   True\n",
            "Sum of rows is greater than minimum support\n",
            "    i3,i4  i1,i2  i2,i4  i2,i3\n",
            "T2   True  False   True   True\n",
            "T4   True   True   True   True\n"
          ],
          "name": "stdout"
        },
        {
          "output_type": "execute_result",
          "data": {
            "text/html": [
              "<div>\n",
              "<style scoped>\n",
              "    .dataframe tbody tr th:only-of-type {\n",
              "        vertical-align: middle;\n",
              "    }\n",
              "\n",
              "    .dataframe tbody tr th {\n",
              "        vertical-align: top;\n",
              "    }\n",
              "\n",
              "    .dataframe thead th {\n",
              "        text-align: right;\n",
              "    }\n",
              "</style>\n",
              "<table border=\"1\" class=\"dataframe\">\n",
              "  <thead>\n",
              "    <tr style=\"text-align: right;\">\n",
              "      <th></th>\n",
              "      <th>i3,i4</th>\n",
              "      <th>i1,i2</th>\n",
              "      <th>i2,i4</th>\n",
              "      <th>i2,i3</th>\n",
              "    </tr>\n",
              "  </thead>\n",
              "  <tbody>\n",
              "    <tr>\n",
              "      <th>T2</th>\n",
              "      <td>True</td>\n",
              "      <td>False</td>\n",
              "      <td>True</td>\n",
              "      <td>True</td>\n",
              "    </tr>\n",
              "    <tr>\n",
              "      <th>T4</th>\n",
              "      <td>True</td>\n",
              "      <td>True</td>\n",
              "      <td>True</td>\n",
              "      <td>True</td>\n",
              "    </tr>\n",
              "  </tbody>\n",
              "</table>\n",
              "</div>"
            ],
            "text/plain": [
              "    i3,i4  i1,i2  i2,i4  i2,i3\n",
              "T2   True  False   True   True\n",
              "T4   True   True   True   True"
            ]
          },
          "metadata": {
            "tags": []
          },
          "execution_count": 418
        }
      ]
    },
    {
      "cell_type": "code",
      "metadata": {
        "id": "xJnNPi5LDjlv",
        "outputId": "278b154b-c9a1-4a6e-d1fe-c3c5024358c9",
        "colab": {
          "base_uri": "https://localhost:8080/",
          "height": 388
        }
      },
      "source": [
        "candidates=getCandidateSets(L[k].columns.to_list(),2,k)\n",
        "candidates\n",
        "k=k+1\n",
        "L[k]=getMinSupport(L[k-1],min_sup,candidates)\n",
        "L[k]"
      ],
      "execution_count": 419,
      "outputs": [
        {
          "output_type": "stream",
          "text": [
            "rows_singleton  ['T2', 'T4']\n",
            "['i2', 'i3', 'i4']\n",
            "['i1', 'i2', 'i4']\n",
            "['i1', 'i2', 'i3']\n",
            "Before dropping singleton columns\n",
            "    i1  i2  i3  i4  i2,i3,i4  i1,i2,i4  i1,i2,i3\n",
            "T2   0   1   1   1      True     False     False\n",
            "T4   1   1   1   1      True      True      True\n",
            "After dropping singleton columns\n",
            "    i2,i3,i4  i1,i2,i4  i1,i2,i3\n",
            "T2      True     False     False\n",
            "T4      True      True      True\n",
            "Sum of columns is greater than minimum support\n",
            "    i2,i3,i4\n",
            "T2      True\n",
            "T4      True\n"
          ],
          "name": "stdout"
        },
        {
          "output_type": "execute_result",
          "data": {
            "text/html": [
              "<div>\n",
              "<style scoped>\n",
              "    .dataframe tbody tr th:only-of-type {\n",
              "        vertical-align: middle;\n",
              "    }\n",
              "\n",
              "    .dataframe tbody tr th {\n",
              "        vertical-align: top;\n",
              "    }\n",
              "\n",
              "    .dataframe thead th {\n",
              "        text-align: right;\n",
              "    }\n",
              "</style>\n",
              "<table border=\"1\" class=\"dataframe\">\n",
              "  <thead>\n",
              "    <tr style=\"text-align: right;\">\n",
              "      <th></th>\n",
              "      <th>i2,i3,i4</th>\n",
              "    </tr>\n",
              "  </thead>\n",
              "  <tbody>\n",
              "    <tr>\n",
              "      <th>T2</th>\n",
              "      <td>True</td>\n",
              "    </tr>\n",
              "    <tr>\n",
              "      <th>T4</th>\n",
              "      <td>True</td>\n",
              "    </tr>\n",
              "  </tbody>\n",
              "</table>\n",
              "</div>"
            ],
            "text/plain": [
              "    i2,i3,i4\n",
              "T2      True\n",
              "T4      True"
            ]
          },
          "metadata": {
            "tags": []
          },
          "execution_count": 419
        }
      ]
    },
    {
      "cell_type": "code",
      "metadata": {
        "id": "doSJDiQKDoym",
        "outputId": "c7784514-9176-4b79-e6c5-f37a384f7de0",
        "colab": {
          "base_uri": "https://localhost:8080/",
          "height": 326
        }
      },
      "source": [
        "candidates=getCandidateSets(L[k].columns.to_list(),2,k)\n",
        "candidates\n",
        "k=k+1\n",
        "L[k]=getMinSupport(L[k-1],min_sup,candidates)\n",
        "L[k]"
      ],
      "execution_count": 420,
      "outputs": [
        {
          "output_type": "stream",
          "text": [
            "rows_singleton  ['T2', 'T4']\n",
            "Before dropping singleton columns\n",
            "    i1  i2  i3  i4\n",
            "T2   0   1   1   1\n",
            "T4   1   1   1   1\n",
            "After dropping singleton columns\n",
            "Empty DataFrame\n",
            "Columns: []\n",
            "Index: [T2, T4]\n",
            "Sum of columns is greater than minimum support\n",
            "Empty DataFrame\n",
            "Columns: []\n",
            "Index: [T2, T4]\n",
            "Sum of rows is greater than minimum support\n",
            "Empty DataFrame\n",
            "Columns: []\n",
            "Index: []\n"
          ],
          "name": "stdout"
        },
        {
          "output_type": "execute_result",
          "data": {
            "text/html": [
              "<div>\n",
              "<style scoped>\n",
              "    .dataframe tbody tr th:only-of-type {\n",
              "        vertical-align: middle;\n",
              "    }\n",
              "\n",
              "    .dataframe tbody tr th {\n",
              "        vertical-align: top;\n",
              "    }\n",
              "\n",
              "    .dataframe thead th {\n",
              "        text-align: right;\n",
              "    }\n",
              "</style>\n",
              "<table border=\"1\" class=\"dataframe\">\n",
              "  <thead>\n",
              "    <tr style=\"text-align: right;\">\n",
              "      <th></th>\n",
              "    </tr>\n",
              "  </thead>\n",
              "  <tbody>\n",
              "  </tbody>\n",
              "</table>\n",
              "</div>"
            ],
            "text/plain": [
              "Empty DataFrame\n",
              "Columns: []\n",
              "Index: []"
            ]
          },
          "metadata": {
            "tags": []
          },
          "execution_count": 420
        }
      ]
    },
    {
      "cell_type": "code",
      "metadata": {
        "id": "xsXdpS0aG5Bf",
        "outputId": "7b4831d4-bbed-4023-fcab-bd5fdcad9bc0",
        "colab": {
          "base_uri": "https://localhost:8080/",
          "height": 34
        }
      },
      "source": [
        "if (len(L[k].index) ==0):\n",
        "  print('Terminated  generaion of itemsets')"
      ],
      "execution_count": 421,
      "outputs": [
        {
          "output_type": "stream",
          "text": [
            "Terminated  generaion of itemsets\n"
          ],
          "name": "stdout"
        }
      ]
    },
    {
      "cell_type": "code",
      "metadata": {
        "id": "rwtIQ_PqNhm6",
        "outputId": "5e98bc47-e812-4553-d502-fc6cab4d199d",
        "colab": {
          "base_uri": "https://localhost:8080/",
          "height": 110
        }
      },
      "source": [
        "L[k-1]"
      ],
      "execution_count": 422,
      "outputs": [
        {
          "output_type": "execute_result",
          "data": {
            "text/html": [
              "<div>\n",
              "<style scoped>\n",
              "    .dataframe tbody tr th:only-of-type {\n",
              "        vertical-align: middle;\n",
              "    }\n",
              "\n",
              "    .dataframe tbody tr th {\n",
              "        vertical-align: top;\n",
              "    }\n",
              "\n",
              "    .dataframe thead th {\n",
              "        text-align: right;\n",
              "    }\n",
              "</style>\n",
              "<table border=\"1\" class=\"dataframe\">\n",
              "  <thead>\n",
              "    <tr style=\"text-align: right;\">\n",
              "      <th></th>\n",
              "      <th>i2,i3,i4</th>\n",
              "    </tr>\n",
              "  </thead>\n",
              "  <tbody>\n",
              "    <tr>\n",
              "      <th>T2</th>\n",
              "      <td>True</td>\n",
              "    </tr>\n",
              "    <tr>\n",
              "      <th>T4</th>\n",
              "      <td>True</td>\n",
              "    </tr>\n",
              "  </tbody>\n",
              "</table>\n",
              "</div>"
            ],
            "text/plain": [
              "    i2,i3,i4\n",
              "T2      True\n",
              "T4      True"
            ]
          },
          "metadata": {
            "tags": []
          },
          "execution_count": 422
        }
      ]
    },
    {
      "cell_type": "markdown",
      "metadata": {
        "id": "qb_ukSZYdibD"
      },
      "source": [
        "**Rule generation**"
      ]
    },
    {
      "cell_type": "markdown",
      "metadata": {
        "id": "hSKvLgpQeUSB"
      },
      "source": [
        "Get proper subsets "
      ]
    },
    {
      "cell_type": "code",
      "metadata": {
        "id": "SH6A8GNQdfV3"
      },
      "source": [
        "from itertools import chain, combinations\n",
        "\n",
        "def powerset(arr):\n",
        "    itemset4rules_dict={}\n",
        "    tuple_size=len(arr)\n",
        "    for i in range(1,tuple_size+1):      \n",
        "      itemset4rules_dict[i]= list(combinations(arr,i))\n",
        "    return itemset4rules_dict"
      ],
      "execution_count": 423,
      "outputs": []
    },
    {
      "cell_type": "code",
      "metadata": {
        "id": "ltM7j5mBrRnC"
      },
      "source": [
        "L[k-1].columns.to_list()\n",
        "for col in L[k-1].columns.to_list():\n",
        "  lst=col.split(',')\n",
        "  itemset4rules_dict=powerset(lst)"
      ],
      "execution_count": 424,
      "outputs": []
    },
    {
      "cell_type": "markdown",
      "metadata": {
        "id": "c0O7qlKbtIou"
      },
      "source": [
        "Find support for each itemset"
      ]
    },
    {
      "cell_type": "code",
      "metadata": {
        "id": "rHStjOiRtPWT"
      },
      "source": [
        "def getSupport(list_itemsets,itemset_size):\n",
        "  #itemset_size is k\n",
        "  s=L[itemset_size][[c for c in L[itemset_size].columns if c in list_itemsets]].reset_index().melt('index')\n",
        "  temp=pd.crosstab(index=s['index'],columns=s.variable,values=s.value,aggfunc='sum',margins=True)\n",
        "  return temp.iloc[-1][:-1].to_list()"
      ],
      "execution_count": 425,
      "outputs": []
    },
    {
      "cell_type": "code",
      "metadata": {
        "id": "f5p98dEdsH6t",
        "outputId": "ae0276e5-8a05-4f0e-d0c9-3b0ae98a3743",
        "colab": {
          "base_uri": "https://localhost:8080/",
          "height": 34
        }
      },
      "source": [
        "support_dictionary={}\n",
        "for key, value in itemset4rules_dict.items():\n",
        "    #print(key, ' : ', value)\n",
        "    #print('Itemset count :',key)\n",
        "    list_itemsets=[]\n",
        "    for itemset in value:      \n",
        "      my_string = ','.join(str(x) for x in itemset)\n",
        "      #print(my_string) \n",
        "      list_itemsets.append(my_string)\n",
        "\n",
        "    #print(list_itemsets)\n",
        "    \n",
        "    list_supports=getSupport(list_itemsets,key)\n",
        "\n",
        "    #support_dictionary = dict(zip(list_itemsets, list_supports))\n",
        "    support_dictionary.update(dict(zip(list_itemsets, list_supports)))\n",
        "print(support_dictionary)    "
      ],
      "execution_count": 426,
      "outputs": [
        {
          "output_type": "stream",
          "text": [
            "{'i2': 3, 'i3': 3, 'i4': 3, 'i2,i3': 2, 'i2,i4': 2, 'i3,i4': 2, 'i2,i3,i4': 2}\n"
          ],
          "name": "stdout"
        }
      ]
    },
    {
      "cell_type": "markdown",
      "metadata": {
        "id": "TDfIM6sgBEzQ"
      },
      "source": [
        "Find the items with required confidence"
      ]
    },
    {
      "cell_type": "code",
      "metadata": {
        "id": "zpu4dKWD6TGA"
      },
      "source": [
        "#Confidence = support {I1, I2, I3} / support {I1, I2}\n",
        "#{1,3} –> ({1,3,5} – {1,3}) means 1 & 3 –> 5\n",
        "#{1} –> ({1,3,5} – {1}) means 1 –> 3 & 5"
      ],
      "execution_count": 427,
      "outputs": []
    },
    {
      "cell_type": "code",
      "metadata": {
        "id": "cA_w1TxSEaNT"
      },
      "source": [
        "def printRules(valid_rules):\n",
        "\n",
        "  for lhs in valid_rules:  \n",
        "    \n",
        "    rhs=list(set(superset.split(','))- set(lhs.split(',')))\n",
        "    \n",
        "    rhs = \" & \".join(rhs)\n",
        "\n",
        "    print(lhs + '   ==>    ' + rhs)"
      ],
      "execution_count": 428,
      "outputs": []
    },
    {
      "cell_type": "code",
      "metadata": {
        "id": "otAYfKHV-R8F",
        "outputId": "a60103d4-8c87-4d96-d2e4-0ccc4f9b00ce",
        "colab": {
          "base_uri": "https://localhost:8080/",
          "height": 138
        }
      },
      "source": [
        "superset=list(support_dictionary.keys())[-1]\n",
        "\n",
        "superset_support=support_dictionary[list(support_dictionary.keys())[-1]] #Last item in dictionary is the superset\n",
        "\n",
        "min_conf=50.0\n",
        "valid_rules=[]\n",
        "\n",
        "#print('Itemset','Confidence')\n",
        "for key, value in support_dictionary.items():  \n",
        "  subset_support=value\n",
        "  confidence=(superset_support/subset_support)*100.0\n",
        "  if confidence >= min_conf:\n",
        "    #print(key,confidence)\n",
        "    valid_rules.append(key)\n",
        "\n",
        "print(\"Rules generated with  min_sup = %s and  min_conf = %s\" % (min_sup, min_conf))\n",
        "\n",
        "printRules(valid_rules[:-1])"
      ],
      "execution_count": 429,
      "outputs": [
        {
          "output_type": "stream",
          "text": [
            "Rules generated with  min_sup = 2 and  min_conf = 50.0\n",
            "i2   ==>    i4 & i3\n",
            "i3   ==>    i2 & i4\n",
            "i4   ==>    i2 & i3\n",
            "i2,i3   ==>    i4\n",
            "i2,i4   ==>    i3\n",
            "i3,i4   ==>    i2\n"
          ],
          "name": "stdout"
        }
      ]
    }
  ]
}