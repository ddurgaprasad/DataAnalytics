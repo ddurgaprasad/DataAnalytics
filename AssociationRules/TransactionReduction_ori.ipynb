{
  "nbformat": 4,
  "nbformat_minor": 0,
  "metadata": {
    "colab": {
      "name": "TransactionReduction.ipynb",
      "provenance": [],
      "collapsed_sections": [],
      "toc_visible": true
    },
    "kernelspec": {
      "name": "python3",
      "display_name": "Python 3"
    }
  },
  "cells": [
    {
      "cell_type": "code",
      "metadata": {
        "id": "j5SJZMjocAVq"
      },
      "source": [
        "import numpy as np\n",
        "import pandas as pd"
      ],
      "execution_count": 1,
      "outputs": []
    },
    {
      "cell_type": "markdown",
      "metadata": {
        "id": "00uEXoFCcKHN"
      },
      "source": [
        "http://ethen8181.github.io/machine-learning/association_rule/apriori.html"
      ]
    },
    {
      "cell_type": "markdown",
      "metadata": {
        "id": "JlI5jFVDyFKA"
      },
      "source": [
        "# Load SPFM data and conver it to Panda dataframe"
      ]
    },
    {
      "cell_type": "code",
      "metadata": {
        "id": "x4eSp5mrijBE",
        "outputId": "3033d3a4-bd2a-4707-c38f-5ebd382c089d",
        "colab": {
          "base_uri": "https://localhost:8080/",
          "height": 283
        }
      },
      "source": [
        "%%sh\n",
        "wget http://www.philippe-fournier-viger.com/spmf/datasets/SIGN.txt"
      ],
      "execution_count": 2,
      "outputs": [
        {
          "output_type": "stream",
          "text": [
            "--2020-10-18 01:39:53--  http://www.philippe-fournier-viger.com/spmf/datasets/SIGN.txt\n",
            "Resolving www.philippe-fournier-viger.com (www.philippe-fournier-viger.com)... 74.208.236.167\n",
            "Connecting to www.philippe-fournier-viger.com (www.philippe-fournier-viger.com)|74.208.236.167|:80... connected.\n",
            "HTTP request sent, awaiting response... 200 OK\n",
            "Length: 236727 (231K) [text/plain]\n",
            "Saving to: ‘SIGN.txt’\n",
            "\n",
            "     0K .......... .......... .......... .......... .......... 21%  607K 0s\n",
            "    50K .......... .......... .......... .......... .......... 43% 1.18M 0s\n",
            "   100K .......... .......... .......... .......... .......... 64% 2.18M 0s\n",
            "   150K .......... .......... .......... .......... .......... 86% 2.59M 0s\n",
            "   200K .......... .......... .......... .                    100% 3.56M=0.2s\n",
            "\n",
            "2020-10-18 01:39:54 (1.30 MB/s) - ‘SIGN.txt’ saved [236727/236727]\n",
            "\n"
          ],
          "name": "stderr"
        }
      ]
    },
    {
      "cell_type": "code",
      "metadata": {
        "id": "k7skxXNthjz3"
      },
      "source": [
        "spfm_data='SIGN.txt'"
      ],
      "execution_count": 3,
      "outputs": []
    },
    {
      "cell_type": "code",
      "metadata": {
        "id": "XcS8-6CbjNlb"
      },
      "source": [
        "#Read SPFM raw data\n",
        "f = open(spfm_data, 'r+')\n",
        "raw_lines = [line.strip() for line in f.readlines()]\n",
        "f.close()"
      ],
      "execution_count": 4,
      "outputs": []
    },
    {
      "cell_type": "code",
      "metadata": {
        "id": "KfG0UBlsjvfE"
      },
      "source": [
        "#Seperator is -1 and -2 is end of line -->convert into CSV \n",
        "itemset_dict={}\n",
        "i=0\n",
        "max_cols=0\n",
        "for line in raw_lines:\n",
        "  itemset=[int(item.strip()) for item in line.split('-1')[:-1] ]\n",
        "  itemset_dict[i]=itemset\n",
        "  if max_cols < len(itemset):\n",
        "    max_cols=len(itemset)\n",
        "  i=i+1"
      ],
      "execution_count": 126,
      "outputs": []
    },
    {
      "cell_type": "code",
      "metadata": {
        "id": "i0KOqcdNrm-U"
      },
      "source": [
        "#Make each row of same number of columns by padding zeros upto max_columns\n",
        "from itertools import repeat\n",
        "for key in itemset_dict:\n",
        "  itemset_dict[key].extend(repeat(0, max_cols - len(itemset_dict[key])))"
      ],
      "execution_count": 6,
      "outputs": []
    },
    {
      "cell_type": "code",
      "metadata": {
        "id": "pFl3he0ntF9t",
        "outputId": "4e257c40-87d7-45f7-834d-62a234651e07",
        "colab": {
          "base_uri": "https://localhost:8080/",
          "height": 34
        }
      },
      "source": [
        "len(itemset_dict[1])"
      ],
      "execution_count": 7,
      "outputs": [
        {
          "output_type": "execute_result",
          "data": {
            "text/plain": [
              "94"
            ]
          },
          "metadata": {
            "tags": []
          },
          "execution_count": 7
        }
      ]
    },
    {
      "cell_type": "code",
      "metadata": {
        "id": "eTmM3UlTugL5"
      },
      "source": [
        "itemset_list=[]\n",
        "for key in itemset_dict:\n",
        "  itemset_list.append(itemset_dict[key])"
      ],
      "execution_count": 8,
      "outputs": []
    },
    {
      "cell_type": "code",
      "metadata": {
        "id": "mMJXeqSZxOxB"
      },
      "source": [
        "df=pd.DataFrame(np.array(itemset_list)).head()"
      ],
      "execution_count": 9,
      "outputs": []
    },
    {
      "cell_type": "markdown",
      "metadata": {
        "id": "oYx43Elayp2b"
      },
      "source": [
        "**Get unique items from all transactions**"
      ]
    },
    {
      "cell_type": "code",
      "metadata": {
        "id": "Oa7ZP1KTKhCa"
      },
      "source": [
        "from itertools import chain \n",
        "\n",
        "item_matrix=np.array(itemset_list)\n",
        "unique_items=list(set(chain(*(item_matrix))))"
      ],
      "execution_count": 127,
      "outputs": []
    },
    {
      "cell_type": "code",
      "metadata": {
        "id": "riJNHpnaKvdF",
        "outputId": "bc493233-f852-42ab-8997-c01fa479df92",
        "colab": {
          "base_uri": "https://localhost:8080/",
          "height": 34
        }
      },
      "source": [
        "#Number of items matching with Item count provided at http://www.philippe-fournier-viger.com/spmf/index.php?link=datasets.php\n",
        "unique_items.remove(0)\n",
        "len(unique_items)"
      ],
      "execution_count": 128,
      "outputs": [
        {
          "output_type": "execute_result",
          "data": {
            "text/plain": [
              "267"
            ]
          },
          "metadata": {
            "tags": []
          },
          "execution_count": 128
        }
      ]
    },
    {
      "cell_type": "markdown",
      "metadata": {
        "id": "M72omCKwMar9"
      },
      "source": [
        "**Bit Array Matrix**"
      ]
    },
    {
      "cell_type": "code",
      "metadata": {
        "id": "qTdhMPGZdSkq",
        "outputId": "123fa4c0-222e-4507-ccfd-b1250c9879f0",
        "colab": {
          "base_uri": "https://localhost:8080/",
          "height": 212
        }
      },
      "source": [
        "from sklearn.feature_extraction.text import CountVectorizer\n",
        "corpus =['I1,I2,I5',\n",
        "'I2,I4',\n",
        "'I2,I3',\n",
        "'I1,I2,I4',\n",
        "'I1,I3',\n",
        "'I2,I3',\n",
        "'I1,I3',\n",
        "'I1,I2,I3,I5',\n",
        "'I1,I2,I3']\n",
        "vectorizer = CountVectorizer()\n",
        "X = vectorizer.fit_transform(corpus)\n",
        "print(vectorizer.get_feature_names())\n",
        "index_col=['T'+str(i+1)  for i in range(len(corpus))]\n",
        "print(index_col)\n",
        "print(X.toarray())"
      ],
      "execution_count": 429,
      "outputs": [
        {
          "output_type": "stream",
          "text": [
            "['i1', 'i2', 'i3', 'i4', 'i5']\n",
            "['T1', 'T2', 'T3', 'T4', 'T5', 'T6', 'T7', 'T8', 'T9']\n",
            "[[1 1 0 0 1]\n",
            " [0 1 0 1 0]\n",
            " [0 1 1 0 0]\n",
            " [1 1 0 1 0]\n",
            " [1 0 1 0 0]\n",
            " [0 1 1 0 0]\n",
            " [1 0 1 0 0]\n",
            " [1 1 1 0 1]\n",
            " [1 1 1 0 0]]\n"
          ],
          "name": "stdout"
        }
      ]
    },
    {
      "cell_type": "code",
      "metadata": {
        "id": "a-_uTVa0ZsD_"
      },
      "source": [
        "k=1\n",
        "C={}\n",
        "L={}"
      ],
      "execution_count": 430,
      "outputs": []
    },
    {
      "cell_type": "code",
      "metadata": {
        "id": "WTvFeDpci6Qt",
        "outputId": "df6694aa-54c0-4835-87ff-5dfcb3adfabd",
        "colab": {
          "base_uri": "https://localhost:8080/",
          "height": 317
        }
      },
      "source": [
        "C[k] = pd.DataFrame(data=X.toarray(), index=index_col ,columns=vectorizer.get_feature_names())\n",
        "C[k]"
      ],
      "execution_count": 431,
      "outputs": [
        {
          "output_type": "execute_result",
          "data": {
            "text/html": [
              "<div>\n",
              "<style scoped>\n",
              "    .dataframe tbody tr th:only-of-type {\n",
              "        vertical-align: middle;\n",
              "    }\n",
              "\n",
              "    .dataframe tbody tr th {\n",
              "        vertical-align: top;\n",
              "    }\n",
              "\n",
              "    .dataframe thead th {\n",
              "        text-align: right;\n",
              "    }\n",
              "</style>\n",
              "<table border=\"1\" class=\"dataframe\">\n",
              "  <thead>\n",
              "    <tr style=\"text-align: right;\">\n",
              "      <th></th>\n",
              "      <th>i1</th>\n",
              "      <th>i2</th>\n",
              "      <th>i3</th>\n",
              "      <th>i4</th>\n",
              "      <th>i5</th>\n",
              "    </tr>\n",
              "  </thead>\n",
              "  <tbody>\n",
              "    <tr>\n",
              "      <th>T1</th>\n",
              "      <td>1</td>\n",
              "      <td>1</td>\n",
              "      <td>0</td>\n",
              "      <td>0</td>\n",
              "      <td>1</td>\n",
              "    </tr>\n",
              "    <tr>\n",
              "      <th>T2</th>\n",
              "      <td>0</td>\n",
              "      <td>1</td>\n",
              "      <td>0</td>\n",
              "      <td>1</td>\n",
              "      <td>0</td>\n",
              "    </tr>\n",
              "    <tr>\n",
              "      <th>T3</th>\n",
              "      <td>0</td>\n",
              "      <td>1</td>\n",
              "      <td>1</td>\n",
              "      <td>0</td>\n",
              "      <td>0</td>\n",
              "    </tr>\n",
              "    <tr>\n",
              "      <th>T4</th>\n",
              "      <td>1</td>\n",
              "      <td>1</td>\n",
              "      <td>0</td>\n",
              "      <td>1</td>\n",
              "      <td>0</td>\n",
              "    </tr>\n",
              "    <tr>\n",
              "      <th>T5</th>\n",
              "      <td>1</td>\n",
              "      <td>0</td>\n",
              "      <td>1</td>\n",
              "      <td>0</td>\n",
              "      <td>0</td>\n",
              "    </tr>\n",
              "    <tr>\n",
              "      <th>T6</th>\n",
              "      <td>0</td>\n",
              "      <td>1</td>\n",
              "      <td>1</td>\n",
              "      <td>0</td>\n",
              "      <td>0</td>\n",
              "    </tr>\n",
              "    <tr>\n",
              "      <th>T7</th>\n",
              "      <td>1</td>\n",
              "      <td>0</td>\n",
              "      <td>1</td>\n",
              "      <td>0</td>\n",
              "      <td>0</td>\n",
              "    </tr>\n",
              "    <tr>\n",
              "      <th>T8</th>\n",
              "      <td>1</td>\n",
              "      <td>1</td>\n",
              "      <td>1</td>\n",
              "      <td>0</td>\n",
              "      <td>1</td>\n",
              "    </tr>\n",
              "    <tr>\n",
              "      <th>T9</th>\n",
              "      <td>1</td>\n",
              "      <td>1</td>\n",
              "      <td>1</td>\n",
              "      <td>0</td>\n",
              "      <td>0</td>\n",
              "    </tr>\n",
              "  </tbody>\n",
              "</table>\n",
              "</div>"
            ],
            "text/plain": [
              "    i1  i2  i3  i4  i5\n",
              "T1   1   1   0   0   1\n",
              "T2   0   1   0   1   0\n",
              "T3   0   1   1   0   0\n",
              "T4   1   1   0   1   0\n",
              "T5   1   0   1   0   0\n",
              "T6   0   1   1   0   0\n",
              "T7   1   0   1   0   0\n",
              "T8   1   1   1   0   1\n",
              "T9   1   1   1   0   0"
            ]
          },
          "metadata": {
            "tags": []
          },
          "execution_count": 431
        }
      ]
    },
    {
      "cell_type": "code",
      "metadata": {
        "id": "MFHNjyogdssM",
        "outputId": "8ae5e903-cc84-41e6-aa32-79da81974302",
        "colab": {
          "base_uri": "https://localhost:8080/",
          "height": 317
        }
      },
      "source": [
        "min_sup=2\n",
        "L[k]=C[k].loc[:, (C[k] .sum(axis=0) >= min_sup)]  #Sum of columns is greater then minimum support\n",
        "L[k]=L[k][L[k].sum(axis=1) >= min_sup]            #Sum of rows is greater then minimum support\n",
        "L[k]"
      ],
      "execution_count": 432,
      "outputs": [
        {
          "output_type": "execute_result",
          "data": {
            "text/html": [
              "<div>\n",
              "<style scoped>\n",
              "    .dataframe tbody tr th:only-of-type {\n",
              "        vertical-align: middle;\n",
              "    }\n",
              "\n",
              "    .dataframe tbody tr th {\n",
              "        vertical-align: top;\n",
              "    }\n",
              "\n",
              "    .dataframe thead th {\n",
              "        text-align: right;\n",
              "    }\n",
              "</style>\n",
              "<table border=\"1\" class=\"dataframe\">\n",
              "  <thead>\n",
              "    <tr style=\"text-align: right;\">\n",
              "      <th></th>\n",
              "      <th>i1</th>\n",
              "      <th>i2</th>\n",
              "      <th>i3</th>\n",
              "      <th>i4</th>\n",
              "      <th>i5</th>\n",
              "    </tr>\n",
              "  </thead>\n",
              "  <tbody>\n",
              "    <tr>\n",
              "      <th>T1</th>\n",
              "      <td>1</td>\n",
              "      <td>1</td>\n",
              "      <td>0</td>\n",
              "      <td>0</td>\n",
              "      <td>1</td>\n",
              "    </tr>\n",
              "    <tr>\n",
              "      <th>T2</th>\n",
              "      <td>0</td>\n",
              "      <td>1</td>\n",
              "      <td>0</td>\n",
              "      <td>1</td>\n",
              "      <td>0</td>\n",
              "    </tr>\n",
              "    <tr>\n",
              "      <th>T3</th>\n",
              "      <td>0</td>\n",
              "      <td>1</td>\n",
              "      <td>1</td>\n",
              "      <td>0</td>\n",
              "      <td>0</td>\n",
              "    </tr>\n",
              "    <tr>\n",
              "      <th>T4</th>\n",
              "      <td>1</td>\n",
              "      <td>1</td>\n",
              "      <td>0</td>\n",
              "      <td>1</td>\n",
              "      <td>0</td>\n",
              "    </tr>\n",
              "    <tr>\n",
              "      <th>T5</th>\n",
              "      <td>1</td>\n",
              "      <td>0</td>\n",
              "      <td>1</td>\n",
              "      <td>0</td>\n",
              "      <td>0</td>\n",
              "    </tr>\n",
              "    <tr>\n",
              "      <th>T6</th>\n",
              "      <td>0</td>\n",
              "      <td>1</td>\n",
              "      <td>1</td>\n",
              "      <td>0</td>\n",
              "      <td>0</td>\n",
              "    </tr>\n",
              "    <tr>\n",
              "      <th>T7</th>\n",
              "      <td>1</td>\n",
              "      <td>0</td>\n",
              "      <td>1</td>\n",
              "      <td>0</td>\n",
              "      <td>0</td>\n",
              "    </tr>\n",
              "    <tr>\n",
              "      <th>T8</th>\n",
              "      <td>1</td>\n",
              "      <td>1</td>\n",
              "      <td>1</td>\n",
              "      <td>0</td>\n",
              "      <td>1</td>\n",
              "    </tr>\n",
              "    <tr>\n",
              "      <th>T9</th>\n",
              "      <td>1</td>\n",
              "      <td>1</td>\n",
              "      <td>1</td>\n",
              "      <td>0</td>\n",
              "      <td>0</td>\n",
              "    </tr>\n",
              "  </tbody>\n",
              "</table>\n",
              "</div>"
            ],
            "text/plain": [
              "    i1  i2  i3  i4  i5\n",
              "T1   1   1   0   0   1\n",
              "T2   0   1   0   1   0\n",
              "T3   0   1   1   0   0\n",
              "T4   1   1   0   1   0\n",
              "T5   1   0   1   0   0\n",
              "T6   0   1   1   0   0\n",
              "T7   1   0   1   0   0\n",
              "T8   1   1   1   0   1\n",
              "T9   1   1   1   0   0"
            ]
          },
          "metadata": {
            "tags": []
          },
          "execution_count": 432
        }
      ]
    },
    {
      "cell_type": "code",
      "metadata": {
        "id": "uS7KoRxhSOzw",
        "outputId": "162888de-b4a8-4de1-ae37-a04673197e8d",
        "colab": {
          "base_uri": "https://localhost:8080/",
          "height": 372
        }
      },
      "source": [
        "print(C[1] )\n",
        "\n",
        "print(L[1])"
      ],
      "execution_count": 433,
      "outputs": [
        {
          "output_type": "stream",
          "text": [
            "    i1  i2  i3  i4  i5\n",
            "T1   1   1   0   0   1\n",
            "T2   0   1   0   1   0\n",
            "T3   0   1   1   0   0\n",
            "T4   1   1   0   1   0\n",
            "T5   1   0   1   0   0\n",
            "T6   0   1   1   0   0\n",
            "T7   1   0   1   0   0\n",
            "T8   1   1   1   0   1\n",
            "T9   1   1   1   0   0\n",
            "    i1  i2  i3  i4  i5\n",
            "T1   1   1   0   0   1\n",
            "T2   0   1   0   1   0\n",
            "T3   0   1   1   0   0\n",
            "T4   1   1   0   1   0\n",
            "T5   1   0   1   0   0\n",
            "T6   0   1   1   0   0\n",
            "T7   1   0   1   0   0\n",
            "T8   1   1   1   0   1\n",
            "T9   1   1   1   0   0\n"
          ],
          "name": "stdout"
        }
      ]
    },
    {
      "cell_type": "code",
      "metadata": {
        "id": "DskR_gs3kBc9",
        "outputId": "7e36f21d-a5b8-40a0-f2e8-443d58053b05",
        "colab": {
          "base_uri": "https://localhost:8080/",
          "height": 34
        }
      },
      "source": [
        "freq_items_set={}\n",
        "freq_items_set[k]=L[k].columns.tolist()\n",
        "freq_items_set[k]"
      ],
      "execution_count": 434,
      "outputs": [
        {
          "output_type": "execute_result",
          "data": {
            "text/plain": [
              "['i1', 'i2', 'i3', 'i4', 'i5']"
            ]
          },
          "metadata": {
            "tags": []
          },
          "execution_count": 434
        }
      ]
    },
    {
      "cell_type": "code",
      "metadata": {
        "id": "1uXjZH_9mCc4"
      },
      "source": [
        "# Function which returns subset or r length from n \n",
        "from itertools import combinations \n",
        "def rSubset(arr, r): \n",
        "  return frozenset(list(combinations(arr, r)))"
      ],
      "execution_count": 411,
      "outputs": []
    },
    {
      "cell_type": "code",
      "metadata": {
        "id": "6kHuZI8W6VMc",
        "outputId": "577c9068-416a-476e-c8f1-2df161ae49a3",
        "colab": {
          "base_uri": "https://localhost:8080/",
          "height": 194
        }
      },
      "source": [
        "itemset_col_dict=rSubset(freq_items_set[k], k+1)\n",
        "itemset_col_dict"
      ],
      "execution_count": 435,
      "outputs": [
        {
          "output_type": "execute_result",
          "data": {
            "text/plain": [
              "frozenset({('i1', 'i2'),\n",
              "           ('i1', 'i3'),\n",
              "           ('i1', 'i4'),\n",
              "           ('i1', 'i5'),\n",
              "           ('i2', 'i3'),\n",
              "           ('i2', 'i4'),\n",
              "           ('i2', 'i5'),\n",
              "           ('i3', 'i4'),\n",
              "           ('i3', 'i5'),\n",
              "           ('i4', 'i5')})"
            ]
          },
          "metadata": {
            "tags": []
          },
          "execution_count": 435
        }
      ]
    },
    {
      "cell_type": "code",
      "metadata": {
        "id": "vEIOdIjhpcYN",
        "outputId": "4f1e459e-6d8e-4fb9-b238-1c761745b0ac",
        "colab": {
          "base_uri": "https://localhost:8080/",
          "height": 34
        }
      },
      "source": [
        "k=k+1\n",
        "k"
      ],
      "execution_count": 436,
      "outputs": [
        {
          "output_type": "execute_result",
          "data": {
            "text/plain": [
              "2"
            ]
          },
          "metadata": {
            "tags": []
          },
          "execution_count": 436
        }
      ]
    },
    {
      "cell_type": "code",
      "metadata": {
        "id": "IUExu_mxEGwj"
      },
      "source": [
        "C[k]=L[k-1].copy()"
      ],
      "execution_count": 437,
      "outputs": []
    },
    {
      "cell_type": "code",
      "metadata": {
        "id": "aSir1uX0F0Qm"
      },
      "source": [
        "# list of columns\n",
        "columns = C[k].columns\n",
        "\n",
        "# Creating a new pd.DataFrame\n",
        "new_df = C[k].copy()\n",
        "\n",
        "for itemset in itemset_col_dict:\n",
        "  combination_string = \",\".join(itemset)\n",
        "  new_df[combination_string] = C[k][itemset[1]] & C[k][itemset[0]]\n",
        "  #print(combination_string)\n",
        "\n",
        "new_df.drop(columns,axis=1,inplace=True)"
      ],
      "execution_count": 438,
      "outputs": []
    },
    {
      "cell_type": "code",
      "metadata": {
        "id": "GL2heKMYLh97"
      },
      "source": [
        "C[k]=new_df.copy()"
      ],
      "execution_count": 439,
      "outputs": []
    },
    {
      "cell_type": "code",
      "metadata": {
        "id": "Y6FRneiJNh3A",
        "outputId": "9ad77887-1954-4873-cb3c-ddc4df7c8d5a",
        "colab": {
          "base_uri": "https://localhost:8080/",
          "height": 317
        }
      },
      "source": [
        "C[k]"
      ],
      "execution_count": 440,
      "outputs": [
        {
          "output_type": "execute_result",
          "data": {
            "text/html": [
              "<div>\n",
              "<style scoped>\n",
              "    .dataframe tbody tr th:only-of-type {\n",
              "        vertical-align: middle;\n",
              "    }\n",
              "\n",
              "    .dataframe tbody tr th {\n",
              "        vertical-align: top;\n",
              "    }\n",
              "\n",
              "    .dataframe thead th {\n",
              "        text-align: right;\n",
              "    }\n",
              "</style>\n",
              "<table border=\"1\" class=\"dataframe\">\n",
              "  <thead>\n",
              "    <tr style=\"text-align: right;\">\n",
              "      <th></th>\n",
              "      <th>i1,i3</th>\n",
              "      <th>i1,i4</th>\n",
              "      <th>i4,i5</th>\n",
              "      <th>i3,i4</th>\n",
              "      <th>i2,i4</th>\n",
              "      <th>i1,i5</th>\n",
              "      <th>i3,i5</th>\n",
              "      <th>i2,i3</th>\n",
              "      <th>i2,i5</th>\n",
              "      <th>i1,i2</th>\n",
              "    </tr>\n",
              "  </thead>\n",
              "  <tbody>\n",
              "    <tr>\n",
              "      <th>T1</th>\n",
              "      <td>0</td>\n",
              "      <td>0</td>\n",
              "      <td>0</td>\n",
              "      <td>0</td>\n",
              "      <td>0</td>\n",
              "      <td>1</td>\n",
              "      <td>0</td>\n",
              "      <td>0</td>\n",
              "      <td>1</td>\n",
              "      <td>1</td>\n",
              "    </tr>\n",
              "    <tr>\n",
              "      <th>T2</th>\n",
              "      <td>0</td>\n",
              "      <td>0</td>\n",
              "      <td>0</td>\n",
              "      <td>0</td>\n",
              "      <td>1</td>\n",
              "      <td>0</td>\n",
              "      <td>0</td>\n",
              "      <td>0</td>\n",
              "      <td>0</td>\n",
              "      <td>0</td>\n",
              "    </tr>\n",
              "    <tr>\n",
              "      <th>T3</th>\n",
              "      <td>0</td>\n",
              "      <td>0</td>\n",
              "      <td>0</td>\n",
              "      <td>0</td>\n",
              "      <td>0</td>\n",
              "      <td>0</td>\n",
              "      <td>0</td>\n",
              "      <td>1</td>\n",
              "      <td>0</td>\n",
              "      <td>0</td>\n",
              "    </tr>\n",
              "    <tr>\n",
              "      <th>T4</th>\n",
              "      <td>0</td>\n",
              "      <td>1</td>\n",
              "      <td>0</td>\n",
              "      <td>0</td>\n",
              "      <td>1</td>\n",
              "      <td>0</td>\n",
              "      <td>0</td>\n",
              "      <td>0</td>\n",
              "      <td>0</td>\n",
              "      <td>1</td>\n",
              "    </tr>\n",
              "    <tr>\n",
              "      <th>T5</th>\n",
              "      <td>1</td>\n",
              "      <td>0</td>\n",
              "      <td>0</td>\n",
              "      <td>0</td>\n",
              "      <td>0</td>\n",
              "      <td>0</td>\n",
              "      <td>0</td>\n",
              "      <td>0</td>\n",
              "      <td>0</td>\n",
              "      <td>0</td>\n",
              "    </tr>\n",
              "    <tr>\n",
              "      <th>T6</th>\n",
              "      <td>0</td>\n",
              "      <td>0</td>\n",
              "      <td>0</td>\n",
              "      <td>0</td>\n",
              "      <td>0</td>\n",
              "      <td>0</td>\n",
              "      <td>0</td>\n",
              "      <td>1</td>\n",
              "      <td>0</td>\n",
              "      <td>0</td>\n",
              "    </tr>\n",
              "    <tr>\n",
              "      <th>T7</th>\n",
              "      <td>1</td>\n",
              "      <td>0</td>\n",
              "      <td>0</td>\n",
              "      <td>0</td>\n",
              "      <td>0</td>\n",
              "      <td>0</td>\n",
              "      <td>0</td>\n",
              "      <td>0</td>\n",
              "      <td>0</td>\n",
              "      <td>0</td>\n",
              "    </tr>\n",
              "    <tr>\n",
              "      <th>T8</th>\n",
              "      <td>1</td>\n",
              "      <td>0</td>\n",
              "      <td>0</td>\n",
              "      <td>0</td>\n",
              "      <td>0</td>\n",
              "      <td>1</td>\n",
              "      <td>1</td>\n",
              "      <td>1</td>\n",
              "      <td>1</td>\n",
              "      <td>1</td>\n",
              "    </tr>\n",
              "    <tr>\n",
              "      <th>T9</th>\n",
              "      <td>1</td>\n",
              "      <td>0</td>\n",
              "      <td>0</td>\n",
              "      <td>0</td>\n",
              "      <td>0</td>\n",
              "      <td>0</td>\n",
              "      <td>0</td>\n",
              "      <td>1</td>\n",
              "      <td>0</td>\n",
              "      <td>1</td>\n",
              "    </tr>\n",
              "  </tbody>\n",
              "</table>\n",
              "</div>"
            ],
            "text/plain": [
              "    i1,i3  i1,i4  i4,i5  i3,i4  i2,i4  i1,i5  i3,i5  i2,i3  i2,i5  i1,i2\n",
              "T1      0      0      0      0      0      1      0      0      1      1\n",
              "T2      0      0      0      0      1      0      0      0      0      0\n",
              "T3      0      0      0      0      0      0      0      1      0      0\n",
              "T4      0      1      0      0      1      0      0      0      0      1\n",
              "T5      1      0      0      0      0      0      0      0      0      0\n",
              "T6      0      0      0      0      0      0      0      1      0      0\n",
              "T7      1      0      0      0      0      0      0      0      0      0\n",
              "T8      1      0      0      0      0      1      1      1      1      1\n",
              "T9      1      0      0      0      0      0      0      1      0      1"
            ]
          },
          "metadata": {
            "tags": []
          },
          "execution_count": 440
        }
      ]
    },
    {
      "cell_type": "code",
      "metadata": {
        "id": "gm8Vx7MMO8Cg",
        "outputId": "102f134b-9697-4375-cb41-eb8a0836a6fa",
        "colab": {
          "base_uri": "https://localhost:8080/",
          "height": 377
        }
      },
      "source": [
        "s=C[k].reset_index().melt('index')\n",
        "pd.crosstab(index=s['index'],columns=s.variable,values=s.value,aggfunc='sum',margins=True)"
      ],
      "execution_count": 441,
      "outputs": [
        {
          "output_type": "execute_result",
          "data": {
            "text/html": [
              "<div>\n",
              "<style scoped>\n",
              "    .dataframe tbody tr th:only-of-type {\n",
              "        vertical-align: middle;\n",
              "    }\n",
              "\n",
              "    .dataframe tbody tr th {\n",
              "        vertical-align: top;\n",
              "    }\n",
              "\n",
              "    .dataframe thead th {\n",
              "        text-align: right;\n",
              "    }\n",
              "</style>\n",
              "<table border=\"1\" class=\"dataframe\">\n",
              "  <thead>\n",
              "    <tr style=\"text-align: right;\">\n",
              "      <th>variable</th>\n",
              "      <th>i1,i2</th>\n",
              "      <th>i1,i3</th>\n",
              "      <th>i1,i4</th>\n",
              "      <th>i1,i5</th>\n",
              "      <th>i2,i3</th>\n",
              "      <th>i2,i4</th>\n",
              "      <th>i2,i5</th>\n",
              "      <th>i3,i4</th>\n",
              "      <th>i3,i5</th>\n",
              "      <th>i4,i5</th>\n",
              "      <th>All</th>\n",
              "    </tr>\n",
              "    <tr>\n",
              "      <th>index</th>\n",
              "      <th></th>\n",
              "      <th></th>\n",
              "      <th></th>\n",
              "      <th></th>\n",
              "      <th></th>\n",
              "      <th></th>\n",
              "      <th></th>\n",
              "      <th></th>\n",
              "      <th></th>\n",
              "      <th></th>\n",
              "      <th></th>\n",
              "    </tr>\n",
              "  </thead>\n",
              "  <tbody>\n",
              "    <tr>\n",
              "      <th>T1</th>\n",
              "      <td>1</td>\n",
              "      <td>0</td>\n",
              "      <td>0</td>\n",
              "      <td>1</td>\n",
              "      <td>0</td>\n",
              "      <td>0</td>\n",
              "      <td>1</td>\n",
              "      <td>0</td>\n",
              "      <td>0</td>\n",
              "      <td>0</td>\n",
              "      <td>3</td>\n",
              "    </tr>\n",
              "    <tr>\n",
              "      <th>T2</th>\n",
              "      <td>0</td>\n",
              "      <td>0</td>\n",
              "      <td>0</td>\n",
              "      <td>0</td>\n",
              "      <td>0</td>\n",
              "      <td>1</td>\n",
              "      <td>0</td>\n",
              "      <td>0</td>\n",
              "      <td>0</td>\n",
              "      <td>0</td>\n",
              "      <td>1</td>\n",
              "    </tr>\n",
              "    <tr>\n",
              "      <th>T3</th>\n",
              "      <td>0</td>\n",
              "      <td>0</td>\n",
              "      <td>0</td>\n",
              "      <td>0</td>\n",
              "      <td>1</td>\n",
              "      <td>0</td>\n",
              "      <td>0</td>\n",
              "      <td>0</td>\n",
              "      <td>0</td>\n",
              "      <td>0</td>\n",
              "      <td>1</td>\n",
              "    </tr>\n",
              "    <tr>\n",
              "      <th>T4</th>\n",
              "      <td>1</td>\n",
              "      <td>0</td>\n",
              "      <td>1</td>\n",
              "      <td>0</td>\n",
              "      <td>0</td>\n",
              "      <td>1</td>\n",
              "      <td>0</td>\n",
              "      <td>0</td>\n",
              "      <td>0</td>\n",
              "      <td>0</td>\n",
              "      <td>3</td>\n",
              "    </tr>\n",
              "    <tr>\n",
              "      <th>T5</th>\n",
              "      <td>0</td>\n",
              "      <td>1</td>\n",
              "      <td>0</td>\n",
              "      <td>0</td>\n",
              "      <td>0</td>\n",
              "      <td>0</td>\n",
              "      <td>0</td>\n",
              "      <td>0</td>\n",
              "      <td>0</td>\n",
              "      <td>0</td>\n",
              "      <td>1</td>\n",
              "    </tr>\n",
              "    <tr>\n",
              "      <th>T6</th>\n",
              "      <td>0</td>\n",
              "      <td>0</td>\n",
              "      <td>0</td>\n",
              "      <td>0</td>\n",
              "      <td>1</td>\n",
              "      <td>0</td>\n",
              "      <td>0</td>\n",
              "      <td>0</td>\n",
              "      <td>0</td>\n",
              "      <td>0</td>\n",
              "      <td>1</td>\n",
              "    </tr>\n",
              "    <tr>\n",
              "      <th>T7</th>\n",
              "      <td>0</td>\n",
              "      <td>1</td>\n",
              "      <td>0</td>\n",
              "      <td>0</td>\n",
              "      <td>0</td>\n",
              "      <td>0</td>\n",
              "      <td>0</td>\n",
              "      <td>0</td>\n",
              "      <td>0</td>\n",
              "      <td>0</td>\n",
              "      <td>1</td>\n",
              "    </tr>\n",
              "    <tr>\n",
              "      <th>T8</th>\n",
              "      <td>1</td>\n",
              "      <td>1</td>\n",
              "      <td>0</td>\n",
              "      <td>1</td>\n",
              "      <td>1</td>\n",
              "      <td>0</td>\n",
              "      <td>1</td>\n",
              "      <td>0</td>\n",
              "      <td>1</td>\n",
              "      <td>0</td>\n",
              "      <td>6</td>\n",
              "    </tr>\n",
              "    <tr>\n",
              "      <th>T9</th>\n",
              "      <td>1</td>\n",
              "      <td>1</td>\n",
              "      <td>0</td>\n",
              "      <td>0</td>\n",
              "      <td>1</td>\n",
              "      <td>0</td>\n",
              "      <td>0</td>\n",
              "      <td>0</td>\n",
              "      <td>0</td>\n",
              "      <td>0</td>\n",
              "      <td>3</td>\n",
              "    </tr>\n",
              "    <tr>\n",
              "      <th>All</th>\n",
              "      <td>4</td>\n",
              "      <td>4</td>\n",
              "      <td>1</td>\n",
              "      <td>2</td>\n",
              "      <td>4</td>\n",
              "      <td>2</td>\n",
              "      <td>2</td>\n",
              "      <td>0</td>\n",
              "      <td>1</td>\n",
              "      <td>0</td>\n",
              "      <td>20</td>\n",
              "    </tr>\n",
              "  </tbody>\n",
              "</table>\n",
              "</div>"
            ],
            "text/plain": [
              "variable  i1,i2  i1,i3  i1,i4  i1,i5  i2,i3  ...  i2,i5  i3,i4  i3,i5  i4,i5  All\n",
              "index                                        ...                                 \n",
              "T1            1      0      0      1      0  ...      1      0      0      0    3\n",
              "T2            0      0      0      0      0  ...      0      0      0      0    1\n",
              "T3            0      0      0      0      1  ...      0      0      0      0    1\n",
              "T4            1      0      1      0      0  ...      0      0      0      0    3\n",
              "T5            0      1      0      0      0  ...      0      0      0      0    1\n",
              "T6            0      0      0      0      1  ...      0      0      0      0    1\n",
              "T7            0      1      0      0      0  ...      0      0      0      0    1\n",
              "T8            1      1      0      1      1  ...      1      0      1      0    6\n",
              "T9            1      1      0      0      1  ...      0      0      0      0    3\n",
              "All           4      4      1      2      4  ...      2      0      1      0   20\n",
              "\n",
              "[10 rows x 11 columns]"
            ]
          },
          "metadata": {
            "tags": []
          },
          "execution_count": 441
        }
      ]
    },
    {
      "cell_type": "code",
      "metadata": {
        "id": "cWJgH5IhMoV8",
        "outputId": "80b37875-6ed2-4900-b111-3c5e92f3987e",
        "colab": {
          "base_uri": "https://localhost:8080/",
          "height": 167
        }
      },
      "source": [
        "L[k]=C[k].loc[:, (C[k] .sum(axis=0) >= min_sup)]  #Sum of columns is greater then minimum support\n",
        "L[k]=L[k][L[k].sum(axis=1) >= min_sup]            #Sum of rows is greater then minimum support\n",
        "L[k]"
      ],
      "execution_count": 442,
      "outputs": [
        {
          "output_type": "execute_result",
          "data": {
            "text/html": [
              "<div>\n",
              "<style scoped>\n",
              "    .dataframe tbody tr th:only-of-type {\n",
              "        vertical-align: middle;\n",
              "    }\n",
              "\n",
              "    .dataframe tbody tr th {\n",
              "        vertical-align: top;\n",
              "    }\n",
              "\n",
              "    .dataframe thead th {\n",
              "        text-align: right;\n",
              "    }\n",
              "</style>\n",
              "<table border=\"1\" class=\"dataframe\">\n",
              "  <thead>\n",
              "    <tr style=\"text-align: right;\">\n",
              "      <th></th>\n",
              "      <th>i1,i3</th>\n",
              "      <th>i2,i4</th>\n",
              "      <th>i1,i5</th>\n",
              "      <th>i2,i3</th>\n",
              "      <th>i2,i5</th>\n",
              "      <th>i1,i2</th>\n",
              "    </tr>\n",
              "  </thead>\n",
              "  <tbody>\n",
              "    <tr>\n",
              "      <th>T1</th>\n",
              "      <td>0</td>\n",
              "      <td>0</td>\n",
              "      <td>1</td>\n",
              "      <td>0</td>\n",
              "      <td>1</td>\n",
              "      <td>1</td>\n",
              "    </tr>\n",
              "    <tr>\n",
              "      <th>T4</th>\n",
              "      <td>0</td>\n",
              "      <td>1</td>\n",
              "      <td>0</td>\n",
              "      <td>0</td>\n",
              "      <td>0</td>\n",
              "      <td>1</td>\n",
              "    </tr>\n",
              "    <tr>\n",
              "      <th>T8</th>\n",
              "      <td>1</td>\n",
              "      <td>0</td>\n",
              "      <td>1</td>\n",
              "      <td>1</td>\n",
              "      <td>1</td>\n",
              "      <td>1</td>\n",
              "    </tr>\n",
              "    <tr>\n",
              "      <th>T9</th>\n",
              "      <td>1</td>\n",
              "      <td>0</td>\n",
              "      <td>0</td>\n",
              "      <td>1</td>\n",
              "      <td>0</td>\n",
              "      <td>1</td>\n",
              "    </tr>\n",
              "  </tbody>\n",
              "</table>\n",
              "</div>"
            ],
            "text/plain": [
              "    i1,i3  i2,i4  i1,i5  i2,i3  i2,i5  i1,i2\n",
              "T1      0      0      1      0      1      1\n",
              "T4      0      1      0      0      0      1\n",
              "T8      1      0      1      1      1      1\n",
              "T9      1      0      0      1      0      1"
            ]
          },
          "metadata": {
            "tags": []
          },
          "execution_count": 442
        }
      ]
    },
    {
      "cell_type": "code",
      "metadata": {
        "id": "xCnq9YOfRkt9",
        "outputId": "07491086-da3f-4042-a2d6-2939e224e612",
        "colab": {
          "base_uri": "https://localhost:8080/",
          "height": 283
        }
      },
      "source": [
        "print(C[2] )\n",
        "\n",
        "print(L[2])"
      ],
      "execution_count": 443,
      "outputs": [
        {
          "output_type": "stream",
          "text": [
            "    i1,i3  i1,i4  i4,i5  i3,i4  i2,i4  i1,i5  i3,i5  i2,i3  i2,i5  i1,i2\n",
            "T1      0      0      0      0      0      1      0      0      1      1\n",
            "T2      0      0      0      0      1      0      0      0      0      0\n",
            "T3      0      0      0      0      0      0      0      1      0      0\n",
            "T4      0      1      0      0      1      0      0      0      0      1\n",
            "T5      1      0      0      0      0      0      0      0      0      0\n",
            "T6      0      0      0      0      0      0      0      1      0      0\n",
            "T7      1      0      0      0      0      0      0      0      0      0\n",
            "T8      1      0      0      0      0      1      1      1      1      1\n",
            "T9      1      0      0      0      0      0      0      1      0      1\n",
            "    i1,i3  i2,i4  i1,i5  i2,i3  i2,i5  i1,i2\n",
            "T1      0      0      1      0      1      1\n",
            "T4      0      1      0      0      0      1\n",
            "T8      1      0      1      1      1      1\n",
            "T9      1      0      0      1      0      1\n"
          ],
          "name": "stdout"
        }
      ]
    },
    {
      "cell_type": "code",
      "metadata": {
        "id": "_-qLFzF_wJ37",
        "outputId": "a9ecf534-7a17-4162-d347-d06da438023f",
        "colab": {
          "base_uri": "https://localhost:8080/",
          "height": 34
        }
      },
      "source": [
        "L[k].columns.tolist()"
      ],
      "execution_count": 444,
      "outputs": [
        {
          "output_type": "execute_result",
          "data": {
            "text/plain": [
              "['i1,i3', 'i2,i4', 'i1,i5', 'i2,i3', 'i2,i5', 'i1,i2']"
            ]
          },
          "metadata": {
            "tags": []
          },
          "execution_count": 444
        }
      ]
    },
    {
      "cell_type": "code",
      "metadata": {
        "id": "SlHEPWBy6tWp",
        "outputId": "f9b8fa39-ecb9-467c-9d2f-4b073241248f",
        "colab": {
          "base_uri": "https://localhost:8080/",
          "height": 34
        }
      },
      "source": [
        "temp_vectortizer = vectorizer.fit_transform(L[k].columns.tolist())"
      ],
      "execution_count": 445,
      "outputs": [
        {
          "output_type": "stream",
          "text": [
            "\n"
          ],
          "name": "stdout"
        }
      ]
    },
    {
      "cell_type": "code",
      "metadata": {
        "id": "ctKinrR3wgra",
        "outputId": "ebc4cc0a-8c1a-4530-c15c-ccf70679f003",
        "colab": {
          "base_uri": "https://localhost:8080/",
          "height": 194
        }
      },
      "source": [
        "freq_items_set[k]=vectorizer.get_feature_names()\n",
        "itemset_col_dict=rSubset(freq_items_set[k],k+1)\n",
        "itemset_col_dict"
      ],
      "execution_count": 446,
      "outputs": [
        {
          "output_type": "execute_result",
          "data": {
            "text/plain": [
              "frozenset({('i1', 'i2', 'i3'),\n",
              "           ('i1', 'i2', 'i4'),\n",
              "           ('i1', 'i2', 'i5'),\n",
              "           ('i1', 'i3', 'i4'),\n",
              "           ('i1', 'i3', 'i5'),\n",
              "           ('i1', 'i4', 'i5'),\n",
              "           ('i2', 'i3', 'i4'),\n",
              "           ('i2', 'i3', 'i5'),\n",
              "           ('i2', 'i4', 'i5'),\n",
              "           ('i3', 'i4', 'i5')})"
            ]
          },
          "metadata": {
            "tags": []
          },
          "execution_count": 446
        }
      ]
    },
    {
      "cell_type": "code",
      "metadata": {
        "id": "ZDK1cP4kxukU",
        "outputId": "b03a5e04-3278-458d-a2df-e1652729d72e",
        "colab": {
          "base_uri": "https://localhost:8080/",
          "height": 34
        }
      },
      "source": [
        "k=k+1\n",
        "k"
      ],
      "execution_count": 447,
      "outputs": [
        {
          "output_type": "execute_result",
          "data": {
            "text/plain": [
              "3"
            ]
          },
          "metadata": {
            "tags": []
          },
          "execution_count": 447
        }
      ]
    },
    {
      "cell_type": "code",
      "metadata": {
        "id": "D_2mWQs5xyk2"
      },
      "source": [
        "C[k]=L[k-1].copy()"
      ],
      "execution_count": 448,
      "outputs": []
    },
    {
      "cell_type": "code",
      "metadata": {
        "id": "ZJxVfB7U7as3",
        "outputId": "7dea48db-9da6-488c-d537-a731f7f07ccb",
        "colab": {
          "base_uri": "https://localhost:8080/",
          "height": 167
        }
      },
      "source": [
        "C[k]"
      ],
      "execution_count": 449,
      "outputs": [
        {
          "output_type": "execute_result",
          "data": {
            "text/html": [
              "<div>\n",
              "<style scoped>\n",
              "    .dataframe tbody tr th:only-of-type {\n",
              "        vertical-align: middle;\n",
              "    }\n",
              "\n",
              "    .dataframe tbody tr th {\n",
              "        vertical-align: top;\n",
              "    }\n",
              "\n",
              "    .dataframe thead th {\n",
              "        text-align: right;\n",
              "    }\n",
              "</style>\n",
              "<table border=\"1\" class=\"dataframe\">\n",
              "  <thead>\n",
              "    <tr style=\"text-align: right;\">\n",
              "      <th></th>\n",
              "      <th>i1,i3</th>\n",
              "      <th>i2,i4</th>\n",
              "      <th>i1,i5</th>\n",
              "      <th>i2,i3</th>\n",
              "      <th>i2,i5</th>\n",
              "      <th>i1,i2</th>\n",
              "    </tr>\n",
              "  </thead>\n",
              "  <tbody>\n",
              "    <tr>\n",
              "      <th>T1</th>\n",
              "      <td>0</td>\n",
              "      <td>0</td>\n",
              "      <td>1</td>\n",
              "      <td>0</td>\n",
              "      <td>1</td>\n",
              "      <td>1</td>\n",
              "    </tr>\n",
              "    <tr>\n",
              "      <th>T4</th>\n",
              "      <td>0</td>\n",
              "      <td>1</td>\n",
              "      <td>0</td>\n",
              "      <td>0</td>\n",
              "      <td>0</td>\n",
              "      <td>1</td>\n",
              "    </tr>\n",
              "    <tr>\n",
              "      <th>T8</th>\n",
              "      <td>1</td>\n",
              "      <td>0</td>\n",
              "      <td>1</td>\n",
              "      <td>1</td>\n",
              "      <td>1</td>\n",
              "      <td>1</td>\n",
              "    </tr>\n",
              "    <tr>\n",
              "      <th>T9</th>\n",
              "      <td>1</td>\n",
              "      <td>0</td>\n",
              "      <td>0</td>\n",
              "      <td>1</td>\n",
              "      <td>0</td>\n",
              "      <td>1</td>\n",
              "    </tr>\n",
              "  </tbody>\n",
              "</table>\n",
              "</div>"
            ],
            "text/plain": [
              "    i1,i3  i2,i4  i1,i5  i2,i3  i2,i5  i1,i2\n",
              "T1      0      0      1      0      1      1\n",
              "T4      0      1      0      0      0      1\n",
              "T8      1      0      1      1      1      1\n",
              "T9      1      0      0      1      0      1"
            ]
          },
          "metadata": {
            "tags": []
          },
          "execution_count": 449
        }
      ]
    },
    {
      "cell_type": "code",
      "metadata": {
        "id": "3BcQw3MP9c4C",
        "outputId": "59488e01-bc51-407a-c85c-ab494ebe095d",
        "colab": {
          "base_uri": "https://localhost:8080/",
          "height": 34
        }
      },
      "source": [
        "# Creating a new pd.DataFrame\n",
        "new_df = C[k].copy()\n",
        "new_df.index"
      ],
      "execution_count": 458,
      "outputs": [
        {
          "output_type": "execute_result",
          "data": {
            "text/plain": [
              "Index(['T1', 'T4', 'T8', 'T9'], dtype='object')"
            ]
          },
          "metadata": {
            "tags": []
          },
          "execution_count": 458
        }
      ]
    },
    {
      "cell_type": "code",
      "metadata": {
        "id": "KwnNcCeVCJRK",
        "outputId": "05d3f0c9-7e6f-4e88-d300-fd4b5e5b7cf3",
        "colab": {
          "base_uri": "https://localhost:8080/",
          "height": 167
        }
      },
      "source": [
        "C1_Valid_rows=C[1][C[1].index.isin(new_df.index)]\n",
        "C1_Valid_rows[freq_items_set[1]]"
      ],
      "execution_count": 488,
      "outputs": [
        {
          "output_type": "execute_result",
          "data": {
            "text/html": [
              "<div>\n",
              "<style scoped>\n",
              "    .dataframe tbody tr th:only-of-type {\n",
              "        vertical-align: middle;\n",
              "    }\n",
              "\n",
              "    .dataframe tbody tr th {\n",
              "        vertical-align: top;\n",
              "    }\n",
              "\n",
              "    .dataframe thead th {\n",
              "        text-align: right;\n",
              "    }\n",
              "</style>\n",
              "<table border=\"1\" class=\"dataframe\">\n",
              "  <thead>\n",
              "    <tr style=\"text-align: right;\">\n",
              "      <th></th>\n",
              "      <th>i1</th>\n",
              "      <th>i2</th>\n",
              "      <th>i3</th>\n",
              "      <th>i4</th>\n",
              "      <th>i5</th>\n",
              "    </tr>\n",
              "  </thead>\n",
              "  <tbody>\n",
              "    <tr>\n",
              "      <th>T1</th>\n",
              "      <td>1</td>\n",
              "      <td>1</td>\n",
              "      <td>0</td>\n",
              "      <td>0</td>\n",
              "      <td>1</td>\n",
              "    </tr>\n",
              "    <tr>\n",
              "      <th>T4</th>\n",
              "      <td>1</td>\n",
              "      <td>1</td>\n",
              "      <td>0</td>\n",
              "      <td>1</td>\n",
              "      <td>0</td>\n",
              "    </tr>\n",
              "    <tr>\n",
              "      <th>T8</th>\n",
              "      <td>1</td>\n",
              "      <td>1</td>\n",
              "      <td>1</td>\n",
              "      <td>0</td>\n",
              "      <td>1</td>\n",
              "    </tr>\n",
              "    <tr>\n",
              "      <th>T9</th>\n",
              "      <td>1</td>\n",
              "      <td>1</td>\n",
              "      <td>1</td>\n",
              "      <td>0</td>\n",
              "      <td>0</td>\n",
              "    </tr>\n",
              "  </tbody>\n",
              "</table>\n",
              "</div>"
            ],
            "text/plain": [
              "    i1  i2  i3  i4  i5\n",
              "T1   1   1   0   0   1\n",
              "T4   1   1   0   1   0\n",
              "T8   1   1   1   0   1\n",
              "T9   1   1   1   0   0"
            ]
          },
          "metadata": {
            "tags": []
          },
          "execution_count": 488
        }
      ]
    },
    {
      "cell_type": "code",
      "metadata": {
        "id": "0-hdnaejDO-q",
        "outputId": "34de13c8-7281-4ad6-ca9f-a5c0609bc69f",
        "colab": {
          "base_uri": "https://localhost:8080/",
          "height": 34
        }
      },
      "source": [
        "freq_items_set[1]"
      ],
      "execution_count": 489,
      "outputs": [
        {
          "output_type": "execute_result",
          "data": {
            "text/plain": [
              "['i1', 'i2', 'i3', 'i4', 'i5']"
            ]
          },
          "metadata": {
            "tags": []
          },
          "execution_count": 489
        }
      ]
    },
    {
      "cell_type": "code",
      "metadata": {
        "id": "Dq62gaT4dGS2",
        "outputId": "d9600dd7-5b35-4469-cbe6-d54fd3cbfd5a",
        "colab": {
          "base_uri": "https://localhost:8080/",
          "height": 167
        }
      },
      "source": [
        "C1_Valid_rows"
      ],
      "execution_count": 490,
      "outputs": [
        {
          "output_type": "execute_result",
          "data": {
            "text/html": [
              "<div>\n",
              "<style scoped>\n",
              "    .dataframe tbody tr th:only-of-type {\n",
              "        vertical-align: middle;\n",
              "    }\n",
              "\n",
              "    .dataframe tbody tr th {\n",
              "        vertical-align: top;\n",
              "    }\n",
              "\n",
              "    .dataframe thead th {\n",
              "        text-align: right;\n",
              "    }\n",
              "</style>\n",
              "<table border=\"1\" class=\"dataframe\">\n",
              "  <thead>\n",
              "    <tr style=\"text-align: right;\">\n",
              "      <th></th>\n",
              "      <th>i1</th>\n",
              "      <th>i2</th>\n",
              "      <th>i3</th>\n",
              "      <th>i4</th>\n",
              "      <th>i5</th>\n",
              "    </tr>\n",
              "  </thead>\n",
              "  <tbody>\n",
              "    <tr>\n",
              "      <th>T1</th>\n",
              "      <td>1</td>\n",
              "      <td>1</td>\n",
              "      <td>0</td>\n",
              "      <td>0</td>\n",
              "      <td>1</td>\n",
              "    </tr>\n",
              "    <tr>\n",
              "      <th>T4</th>\n",
              "      <td>1</td>\n",
              "      <td>1</td>\n",
              "      <td>0</td>\n",
              "      <td>1</td>\n",
              "      <td>0</td>\n",
              "    </tr>\n",
              "    <tr>\n",
              "      <th>T8</th>\n",
              "      <td>1</td>\n",
              "      <td>1</td>\n",
              "      <td>1</td>\n",
              "      <td>0</td>\n",
              "      <td>1</td>\n",
              "    </tr>\n",
              "    <tr>\n",
              "      <th>T9</th>\n",
              "      <td>1</td>\n",
              "      <td>1</td>\n",
              "      <td>1</td>\n",
              "      <td>0</td>\n",
              "      <td>0</td>\n",
              "    </tr>\n",
              "  </tbody>\n",
              "</table>\n",
              "</div>"
            ],
            "text/plain": [
              "    i1  i2  i3  i4  i5\n",
              "T1   1   1   0   0   1\n",
              "T4   1   1   0   1   0\n",
              "T8   1   1   1   0   1\n",
              "T9   1   1   1   0   0"
            ]
          },
          "metadata": {
            "tags": []
          },
          "execution_count": 490
        }
      ]
    },
    {
      "cell_type": "code",
      "metadata": {
        "id": "myV5ztGuxkD4",
        "outputId": "3ad7543d-c257-48c0-d028-5d04045d36c8",
        "colab": {
          "base_uri": "https://localhost:8080/",
          "height": 345
        }
      },
      "source": [
        "# Creating a new pd.DataFrame\n",
        "new_df = C1_Valid_rows.copy()\n",
        "for itemset in itemset_col_dict:\n",
        "  combination_string = \",\".join(itemset)\n",
        "  print(combination_string)\n",
        "  new_df[combination_string] = new_df[itemset[0]] & new_df[itemset[1]] & new_df[itemset[2]]\n",
        "\n",
        "new_df.drop(columns,axis=1,inplace=True)\n",
        "new_df"
      ],
      "execution_count": 491,
      "outputs": [
        {
          "output_type": "stream",
          "text": [
            "i1,i3,i5\n",
            "i2,i3,i5\n",
            "i1,i3,i4\n",
            "i1,i2,i4\n",
            "i2,i4,i5\n",
            "i1,i2,i3\n",
            "i2,i3,i4\n",
            "i3,i4,i5\n",
            "i1,i2,i5\n",
            "i1,i4,i5\n"
          ],
          "name": "stdout"
        },
        {
          "output_type": "execute_result",
          "data": {
            "text/html": [
              "<div>\n",
              "<style scoped>\n",
              "    .dataframe tbody tr th:only-of-type {\n",
              "        vertical-align: middle;\n",
              "    }\n",
              "\n",
              "    .dataframe tbody tr th {\n",
              "        vertical-align: top;\n",
              "    }\n",
              "\n",
              "    .dataframe thead th {\n",
              "        text-align: right;\n",
              "    }\n",
              "</style>\n",
              "<table border=\"1\" class=\"dataframe\">\n",
              "  <thead>\n",
              "    <tr style=\"text-align: right;\">\n",
              "      <th></th>\n",
              "      <th>i1,i3,i5</th>\n",
              "      <th>i2,i3,i5</th>\n",
              "      <th>i1,i3,i4</th>\n",
              "      <th>i1,i2,i4</th>\n",
              "      <th>i2,i4,i5</th>\n",
              "      <th>i1,i2,i3</th>\n",
              "      <th>i2,i3,i4</th>\n",
              "      <th>i3,i4,i5</th>\n",
              "      <th>i1,i2,i5</th>\n",
              "      <th>i1,i4,i5</th>\n",
              "    </tr>\n",
              "  </thead>\n",
              "  <tbody>\n",
              "    <tr>\n",
              "      <th>T1</th>\n",
              "      <td>0</td>\n",
              "      <td>0</td>\n",
              "      <td>0</td>\n",
              "      <td>0</td>\n",
              "      <td>0</td>\n",
              "      <td>0</td>\n",
              "      <td>0</td>\n",
              "      <td>0</td>\n",
              "      <td>1</td>\n",
              "      <td>0</td>\n",
              "    </tr>\n",
              "    <tr>\n",
              "      <th>T4</th>\n",
              "      <td>0</td>\n",
              "      <td>0</td>\n",
              "      <td>0</td>\n",
              "      <td>1</td>\n",
              "      <td>0</td>\n",
              "      <td>0</td>\n",
              "      <td>0</td>\n",
              "      <td>0</td>\n",
              "      <td>0</td>\n",
              "      <td>0</td>\n",
              "    </tr>\n",
              "    <tr>\n",
              "      <th>T8</th>\n",
              "      <td>1</td>\n",
              "      <td>1</td>\n",
              "      <td>0</td>\n",
              "      <td>0</td>\n",
              "      <td>0</td>\n",
              "      <td>1</td>\n",
              "      <td>0</td>\n",
              "      <td>0</td>\n",
              "      <td>1</td>\n",
              "      <td>0</td>\n",
              "    </tr>\n",
              "    <tr>\n",
              "      <th>T9</th>\n",
              "      <td>0</td>\n",
              "      <td>0</td>\n",
              "      <td>0</td>\n",
              "      <td>0</td>\n",
              "      <td>0</td>\n",
              "      <td>1</td>\n",
              "      <td>0</td>\n",
              "      <td>0</td>\n",
              "      <td>0</td>\n",
              "      <td>0</td>\n",
              "    </tr>\n",
              "  </tbody>\n",
              "</table>\n",
              "</div>"
            ],
            "text/plain": [
              "    i1,i3,i5  i2,i3,i5  i1,i3,i4  ...  i3,i4,i5  i1,i2,i5  i1,i4,i5\n",
              "T1         0         0         0  ...         0         1         0\n",
              "T4         0         0         0  ...         0         0         0\n",
              "T8         1         1         0  ...         0         1         0\n",
              "T9         0         0         0  ...         0         0         0\n",
              "\n",
              "[4 rows x 10 columns]"
            ]
          },
          "metadata": {
            "tags": []
          },
          "execution_count": 491
        }
      ]
    },
    {
      "cell_type": "code",
      "metadata": {
        "id": "vVkYrODBgUwO",
        "outputId": "e1c88937-21ba-46c0-c994-2860f28e10ea",
        "colab": {
          "base_uri": "https://localhost:8080/",
          "height": 167
        }
      },
      "source": [
        "C[k]=new_df.copy()\n",
        "C[k]"
      ],
      "execution_count": 492,
      "outputs": [
        {
          "output_type": "execute_result",
          "data": {
            "text/html": [
              "<div>\n",
              "<style scoped>\n",
              "    .dataframe tbody tr th:only-of-type {\n",
              "        vertical-align: middle;\n",
              "    }\n",
              "\n",
              "    .dataframe tbody tr th {\n",
              "        vertical-align: top;\n",
              "    }\n",
              "\n",
              "    .dataframe thead th {\n",
              "        text-align: right;\n",
              "    }\n",
              "</style>\n",
              "<table border=\"1\" class=\"dataframe\">\n",
              "  <thead>\n",
              "    <tr style=\"text-align: right;\">\n",
              "      <th></th>\n",
              "      <th>i1,i3,i5</th>\n",
              "      <th>i2,i3,i5</th>\n",
              "      <th>i1,i3,i4</th>\n",
              "      <th>i1,i2,i4</th>\n",
              "      <th>i2,i4,i5</th>\n",
              "      <th>i1,i2,i3</th>\n",
              "      <th>i2,i3,i4</th>\n",
              "      <th>i3,i4,i5</th>\n",
              "      <th>i1,i2,i5</th>\n",
              "      <th>i1,i4,i5</th>\n",
              "    </tr>\n",
              "  </thead>\n",
              "  <tbody>\n",
              "    <tr>\n",
              "      <th>T1</th>\n",
              "      <td>0</td>\n",
              "      <td>0</td>\n",
              "      <td>0</td>\n",
              "      <td>0</td>\n",
              "      <td>0</td>\n",
              "      <td>0</td>\n",
              "      <td>0</td>\n",
              "      <td>0</td>\n",
              "      <td>1</td>\n",
              "      <td>0</td>\n",
              "    </tr>\n",
              "    <tr>\n",
              "      <th>T4</th>\n",
              "      <td>0</td>\n",
              "      <td>0</td>\n",
              "      <td>0</td>\n",
              "      <td>1</td>\n",
              "      <td>0</td>\n",
              "      <td>0</td>\n",
              "      <td>0</td>\n",
              "      <td>0</td>\n",
              "      <td>0</td>\n",
              "      <td>0</td>\n",
              "    </tr>\n",
              "    <tr>\n",
              "      <th>T8</th>\n",
              "      <td>1</td>\n",
              "      <td>1</td>\n",
              "      <td>0</td>\n",
              "      <td>0</td>\n",
              "      <td>0</td>\n",
              "      <td>1</td>\n",
              "      <td>0</td>\n",
              "      <td>0</td>\n",
              "      <td>1</td>\n",
              "      <td>0</td>\n",
              "    </tr>\n",
              "    <tr>\n",
              "      <th>T9</th>\n",
              "      <td>0</td>\n",
              "      <td>0</td>\n",
              "      <td>0</td>\n",
              "      <td>0</td>\n",
              "      <td>0</td>\n",
              "      <td>1</td>\n",
              "      <td>0</td>\n",
              "      <td>0</td>\n",
              "      <td>0</td>\n",
              "      <td>0</td>\n",
              "    </tr>\n",
              "  </tbody>\n",
              "</table>\n",
              "</div>"
            ],
            "text/plain": [
              "    i1,i3,i5  i2,i3,i5  i1,i3,i4  ...  i3,i4,i5  i1,i2,i5  i1,i4,i5\n",
              "T1         0         0         0  ...         0         1         0\n",
              "T4         0         0         0  ...         0         0         0\n",
              "T8         1         1         0  ...         0         1         0\n",
              "T9         0         0         0  ...         0         0         0\n",
              "\n",
              "[4 rows x 10 columns]"
            ]
          },
          "metadata": {
            "tags": []
          },
          "execution_count": 492
        }
      ]
    },
    {
      "cell_type": "code",
      "metadata": {
        "id": "0pyByTKqgX7w",
        "outputId": "c2fb0385-20e0-4b1e-b905-c59854a4cb6d",
        "colab": {
          "base_uri": "https://localhost:8080/",
          "height": 227
        }
      },
      "source": [
        "s=C[k].reset_index().melt('index')\n",
        "pd.crosstab(index=s['index'],columns=s.variable,values=s.value,aggfunc='sum',margins=True)"
      ],
      "execution_count": 493,
      "outputs": [
        {
          "output_type": "execute_result",
          "data": {
            "text/html": [
              "<div>\n",
              "<style scoped>\n",
              "    .dataframe tbody tr th:only-of-type {\n",
              "        vertical-align: middle;\n",
              "    }\n",
              "\n",
              "    .dataframe tbody tr th {\n",
              "        vertical-align: top;\n",
              "    }\n",
              "\n",
              "    .dataframe thead th {\n",
              "        text-align: right;\n",
              "    }\n",
              "</style>\n",
              "<table border=\"1\" class=\"dataframe\">\n",
              "  <thead>\n",
              "    <tr style=\"text-align: right;\">\n",
              "      <th>variable</th>\n",
              "      <th>i1,i2,i3</th>\n",
              "      <th>i1,i2,i4</th>\n",
              "      <th>i1,i2,i5</th>\n",
              "      <th>i1,i3,i4</th>\n",
              "      <th>i1,i3,i5</th>\n",
              "      <th>i1,i4,i5</th>\n",
              "      <th>i2,i3,i4</th>\n",
              "      <th>i2,i3,i5</th>\n",
              "      <th>i2,i4,i5</th>\n",
              "      <th>i3,i4,i5</th>\n",
              "      <th>All</th>\n",
              "    </tr>\n",
              "    <tr>\n",
              "      <th>index</th>\n",
              "      <th></th>\n",
              "      <th></th>\n",
              "      <th></th>\n",
              "      <th></th>\n",
              "      <th></th>\n",
              "      <th></th>\n",
              "      <th></th>\n",
              "      <th></th>\n",
              "      <th></th>\n",
              "      <th></th>\n",
              "      <th></th>\n",
              "    </tr>\n",
              "  </thead>\n",
              "  <tbody>\n",
              "    <tr>\n",
              "      <th>T1</th>\n",
              "      <td>0</td>\n",
              "      <td>0</td>\n",
              "      <td>1</td>\n",
              "      <td>0</td>\n",
              "      <td>0</td>\n",
              "      <td>0</td>\n",
              "      <td>0</td>\n",
              "      <td>0</td>\n",
              "      <td>0</td>\n",
              "      <td>0</td>\n",
              "      <td>1</td>\n",
              "    </tr>\n",
              "    <tr>\n",
              "      <th>T4</th>\n",
              "      <td>0</td>\n",
              "      <td>1</td>\n",
              "      <td>0</td>\n",
              "      <td>0</td>\n",
              "      <td>0</td>\n",
              "      <td>0</td>\n",
              "      <td>0</td>\n",
              "      <td>0</td>\n",
              "      <td>0</td>\n",
              "      <td>0</td>\n",
              "      <td>1</td>\n",
              "    </tr>\n",
              "    <tr>\n",
              "      <th>T8</th>\n",
              "      <td>1</td>\n",
              "      <td>0</td>\n",
              "      <td>1</td>\n",
              "      <td>0</td>\n",
              "      <td>1</td>\n",
              "      <td>0</td>\n",
              "      <td>0</td>\n",
              "      <td>1</td>\n",
              "      <td>0</td>\n",
              "      <td>0</td>\n",
              "      <td>4</td>\n",
              "    </tr>\n",
              "    <tr>\n",
              "      <th>T9</th>\n",
              "      <td>1</td>\n",
              "      <td>0</td>\n",
              "      <td>0</td>\n",
              "      <td>0</td>\n",
              "      <td>0</td>\n",
              "      <td>0</td>\n",
              "      <td>0</td>\n",
              "      <td>0</td>\n",
              "      <td>0</td>\n",
              "      <td>0</td>\n",
              "      <td>1</td>\n",
              "    </tr>\n",
              "    <tr>\n",
              "      <th>All</th>\n",
              "      <td>2</td>\n",
              "      <td>1</td>\n",
              "      <td>2</td>\n",
              "      <td>0</td>\n",
              "      <td>1</td>\n",
              "      <td>0</td>\n",
              "      <td>0</td>\n",
              "      <td>1</td>\n",
              "      <td>0</td>\n",
              "      <td>0</td>\n",
              "      <td>7</td>\n",
              "    </tr>\n",
              "  </tbody>\n",
              "</table>\n",
              "</div>"
            ],
            "text/plain": [
              "variable  i1,i2,i3  i1,i2,i4  i1,i2,i5  ...  i2,i4,i5  i3,i4,i5  All\n",
              "index                                   ...                         \n",
              "T1               0         0         1  ...         0         0    1\n",
              "T4               0         1         0  ...         0         0    1\n",
              "T8               1         0         1  ...         0         0    4\n",
              "T9               1         0         0  ...         0         0    1\n",
              "All              2         1         2  ...         0         0    7\n",
              "\n",
              "[5 rows x 11 columns]"
            ]
          },
          "metadata": {
            "tags": []
          },
          "execution_count": 493
        }
      ]
    },
    {
      "cell_type": "code",
      "metadata": {
        "id": "TyLc_6UPgiyt",
        "outputId": "c61d670d-15c1-4b6c-d079-c16a84ef4a1b",
        "colab": {
          "base_uri": "https://localhost:8080/",
          "height": 77
        }
      },
      "source": [
        "L[k]=C[k].loc[:, (C[k] .sum(axis=0) >= min_sup)]  #Sum of columns is greater then minimum support\n",
        "L[k]=L[k][L[k].sum(axis=1) >= min_sup]            #Sum of rows is greater then minimum support\n",
        "L[k]"
      ],
      "execution_count": 494,
      "outputs": [
        {
          "output_type": "execute_result",
          "data": {
            "text/html": [
              "<div>\n",
              "<style scoped>\n",
              "    .dataframe tbody tr th:only-of-type {\n",
              "        vertical-align: middle;\n",
              "    }\n",
              "\n",
              "    .dataframe tbody tr th {\n",
              "        vertical-align: top;\n",
              "    }\n",
              "\n",
              "    .dataframe thead th {\n",
              "        text-align: right;\n",
              "    }\n",
              "</style>\n",
              "<table border=\"1\" class=\"dataframe\">\n",
              "  <thead>\n",
              "    <tr style=\"text-align: right;\">\n",
              "      <th></th>\n",
              "      <th>i1,i2,i3</th>\n",
              "      <th>i1,i2,i5</th>\n",
              "    </tr>\n",
              "  </thead>\n",
              "  <tbody>\n",
              "    <tr>\n",
              "      <th>T8</th>\n",
              "      <td>1</td>\n",
              "      <td>1</td>\n",
              "    </tr>\n",
              "  </tbody>\n",
              "</table>\n",
              "</div>"
            ],
            "text/plain": [
              "    i1,i2,i3  i1,i2,i5\n",
              "T8         1         1"
            ]
          },
          "metadata": {
            "tags": []
          },
          "execution_count": 494
        }
      ]
    },
    {
      "cell_type": "markdown",
      "metadata": {
        "id": "4zBjYg4yjNeK"
      },
      "source": [
        "**Rule Generation**"
      ]
    },
    {
      "cell_type": "code",
      "metadata": {
        "id": "gKHedIkKjMu1",
        "outputId": "3f61a462-9590-4d10-c7a9-6b1303dbd2a0",
        "colab": {
          "base_uri": "https://localhost:8080/",
          "height": 34
        }
      },
      "source": [
        "from itertools import chain, combinations\n",
        "\n",
        "def getNonEmptySubsets(iterable):    \n",
        "    s = list(iterable)\n",
        "    return chain.from_iterable(combinations(s, r) for r in range(1,len(s)+1))\n",
        "\n",
        "L[k].columns.tolist()    "
      ],
      "execution_count": 506,
      "outputs": [
        {
          "output_type": "execute_result",
          "data": {
            "text/plain": [
              "['i1,i2,i3', 'i1,i2,i5']"
            ]
          },
          "metadata": {
            "tags": []
          },
          "execution_count": 506
        }
      ]
    },
    {
      "cell_type": "code",
      "metadata": {
        "id": "Wjob9HBPkjez",
        "outputId": "e2dfba2e-c417-42f1-c040-9488fb619977",
        "colab": {
          "base_uri": "https://localhost:8080/",
          "height": 52
        }
      },
      "source": [
        "for item in L[k].columns.tolist():\n",
        "  tup=tuple(item.split(','))\n",
        "  lst=list(getNonEmptySubsets(tup))\n",
        "  print(lst)"
      ],
      "execution_count": 507,
      "outputs": [
        {
          "output_type": "stream",
          "text": [
            "[('i1',), ('i2',), ('i3',), ('i1', 'i2'), ('i1', 'i3'), ('i2', 'i3'), ('i1', 'i2', 'i3')]\n",
            "[('i1',), ('i2',), ('i5',), ('i1', 'i2'), ('i1', 'i5'), ('i2', 'i5'), ('i1', 'i2', 'i5')]\n"
          ],
          "name": "stdout"
        }
      ]
    },
    {
      "cell_type": "code",
      "metadata": {
        "id": "T3c3LYPBl1zF",
        "outputId": "a760f75c-317f-4998-8e0e-f23c1d845cb3",
        "colab": {
          "base_uri": "https://localhost:8080/",
          "height": 34
        }
      },
      "source": [
        "min_confidence=60/100\n",
        "min_confidence"
      ],
      "execution_count": 509,
      "outputs": [
        {
          "output_type": "execute_result",
          "data": {
            "text/plain": [
              "0.6"
            ]
          },
          "metadata": {
            "tags": []
          },
          "execution_count": 509
        }
      ]
    }
  ]
}